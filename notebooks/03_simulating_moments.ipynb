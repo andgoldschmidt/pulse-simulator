{
 "cells": [
  {
   "cell_type": "markdown",
   "metadata": {},
   "source": [
    "# Simulating moments created by scheduler"
   ]
  },
  {
   "cell_type": "markdown",
   "metadata": {},
   "source": [
    "### Imports and settings"
   ]
  },
  {
   "cell_type": "code",
   "execution_count": 2,
   "metadata": {},
   "outputs": [
    {
     "name": "stderr",
     "output_type": "stream",
     "text": [
      "/Users/epelaezc/Desktop/Research/pulse-simulator/.venv/lib/python3.11/site-packages/qiskit_dynamics/dispatch/backends/jax.py:34: UserWarning: The functionality in the perturbation module of Qiskit Dynamics requires a JAX version <= 0.4.6, due to a bug in JAX versions > 0.4.6. For versions 0.4.4, 0.4.5, and 0.4.6, using the perturbation module functionality requires setting os.environ['JAX_JIT_PJIT_API_MERGE'] = '0' before importing JAX or Dynamics.\n",
      "  warnings.warn(\n"
     ]
    }
   ],
   "source": [
    "import sys\n",
    "\n",
    "sys.path.append(\"../\")\n",
    "from pulse_simulator.compiler import PulseBuilder\n",
    "import pulse_simulator as ps"
   ]
  },
  {
   "cell_type": "code",
   "execution_count": 3,
   "metadata": {},
   "outputs": [],
   "source": [
    "import numpy as np\n",
    "import functools\n",
    "import qiskit as qk\n",
    "import qiskit_dynamics as qk_d\n",
    "from qiskit.converters import circuit_to_dag, dag_to_circuit\n",
    "import qiskit.providers.fake_provider as qk_fp"
   ]
  },
  {
   "cell_type": "code",
   "execution_count": 4,
   "metadata": {},
   "outputs": [
    {
     "data": {
      "text/plain": [
       "'jax'"
      ]
     },
     "execution_count": 4,
     "metadata": {},
     "output_type": "execute_result"
    }
   ],
   "source": [
    "# configure jax to use 64 bit mode\n",
    "import jax\n",
    "\n",
    "jax.config.update(\"jax_enable_x64\", True)\n",
    "\n",
    "# tell JAX we are using CPU\n",
    "jax.config.update(\"jax_platform_name\", \"cpu\")\n",
    "\n",
    "# set default backend\n",
    "qk_d.array.Array.set_default_backend(\"jax\")\n",
    "qk_d.array.Array.default_backend()"
   ]
  },
  {
   "cell_type": "code",
   "execution_count": 5,
   "metadata": {},
   "outputs": [],
   "source": [
    "# Set the parameters globally for the model\n",
    "N = 4  # number of spins\n",
    "hz = 1.0 * 2 * np.pi  # magnetic field along z\n",
    "Jx = 1.0 * 2 * np.pi  # Coupling along x\n",
    "Δt = 0.05  # time step for integration\n",
    "tlist = np.arange(50) * Δt  # time values\n",
    "\n",
    "# Global backend\n",
    "backend = qk_fp.FakeManila()"
   ]
  },
  {
   "cell_type": "code",
   "execution_count": 6,
   "metadata": {},
   "outputs": [],
   "source": [
    "units = 1e9\n",
    "GHz = 1 / units\n",
    "ns = units\n",
    "\n",
    "dt = backend.configuration().dt * ns\n",
    "duration = 220 * dt  # ns"
   ]
  },
  {
   "cell_type": "markdown",
   "metadata": {},
   "source": [
    "### Circuit generating functions"
   ]
  },
  {
   "cell_type": "code",
   "execution_count": 7,
   "metadata": {},
   "outputs": [],
   "source": [
    "def create_initial_state(qr, cr):\n",
    "    \"\"\"\n",
    "    Creates the initial state for the experiment.\n",
    "    Here we would like to prepare the |+>|+>|+>|+> state.\n",
    "    \"\"\"\n",
    "    circ = qk.QuantumCircuit(qr, cr)\n",
    "    [circ.h(qr[i]) for i in range(qr.size)]\n",
    "    return circ\n",
    "\n",
    "\n",
    "def rxx(circ, θx, q1, q2):\n",
    "    \"\"\"\n",
    "    Implements the exp(-i theta/2 sx_1 sx_2) gate.\n",
    "    \"\"\"\n",
    "    circ.cx(q1, q2)\n",
    "    circ.rx(θx, q1)\n",
    "    circ.cx(q1, q2)\n",
    "    return circ\n",
    "\n",
    "\n",
    "def first_order_Trotter_unitary(circ, Δt, barrier=False):\n",
    "    \"\"\"\n",
    "    Applies a Unitary for a single time step U(Δt) using first-order trotter expansion to the input quantum circuit.\n",
    "    input : circ is a quantum circuit\n",
    "    output : circ-U(Δt)-\n",
    "    \"\"\"\n",
    "    # Layer A: coupling XX between n and n+1\n",
    "    # Induce parallel CR gates\n",
    "    if barrier:\n",
    "        circ.barrier()\n",
    "    for p in range(0, circ.num_qubits - 1, 2):\n",
    "        circ = rxx(circ, Jx * Δt, circ.qubits[p], circ.qubits[p + 1])\n",
    "    if barrier:\n",
    "        circ.barrier()\n",
    "    for p in range(1, circ.num_qubits - 1, 2):\n",
    "        circ = rxx(circ, Jx * Δt, circ.qubits[p], circ.qubits[p + 1])\n",
    "\n",
    "    #  Alt., a naive loop will apply XX rotations sequentially, failing to stack.\n",
    "    # for p in range(0, circ.num_qubits - 1):\n",
    "    #     circ = rxx(circ, Jx * Δt, circ.qubits[p], circ.qubits[p + 1])\n",
    "\n",
    "    # Layer B: on-site Z\n",
    "    for p in range(circ.num_qubits):\n",
    "        circ.rz(hz * Δt, circ.qubits[p])\n",
    "\n",
    "    return circ\n",
    "\n",
    "\n",
    "def second_order_Trotter_unitary(circ, Δt):\n",
    "    \"\"\"\n",
    "    Applies a Unitary for a single time step U(Δt) using second-order trotter expansion to the input quantum circuit.\n",
    "    input : circ is a quantum circuit\n",
    "    output : circ-U(Δt)-\n",
    "    \"\"\"\n",
    "    # Layer 2: on-site Z (half)\n",
    "    for p in range(circ.num_qubits):\n",
    "        circ.rz(hz * Δt / 2, circ.qubits[p])\n",
    "\n",
    "    # Layer 1: coupling XX between n and n+1\n",
    "    # Induce parallel structure (and symmetry)\n",
    "    for p in range(1, circ.num_qubits - 1, 2):\n",
    "        circ = rxx(circ, Jx * Δt / 2, circ.qubits[p], circ.qubits[p + 1])\n",
    "    # NOTE: Add barriers to separate the parallel section\n",
    "    circ.barrier()\n",
    "    for p in range(0, circ.num_qubits - 1, 2):\n",
    "        circ = rxx(circ, Jx * Δt, circ.qubits[p], circ.qubits[p + 1])\n",
    "    circ.barrier()\n",
    "    for p in range(1, circ.num_qubits - 1, 2):\n",
    "        circ = rxx(circ, Jx * Δt / 2, circ.qubits[p], circ.qubits[p + 1])\n",
    "\n",
    "    # Layer 2: on-site Z (half)\n",
    "    for p in range(circ.num_qubits):\n",
    "        circ.rz(hz * Δt / 2, circ.qubits[p])\n",
    "    return circ"
   ]
  },
  {
   "cell_type": "code",
   "execution_count": 8,
   "metadata": {},
   "outputs": [
    {
     "data": {
      "image/png": "[encoded data removed]",
      "text/plain": [
       "<Figure size 974.414x451.5 with 1 Axes>"
      ]
     },
     "execution_count": 8,
     "metadata": {},
     "output_type": "execute_result"
    }
   ],
   "source": [
    "qr = qk.QuantumRegister(N)\n",
    "cr = qk.ClassicalRegister(N)\n",
    "circ = create_initial_state(qr, cr)\n",
    "circ.barrier()\n",
    "circ = first_order_Trotter_unitary(circ, Δt)\n",
    "circ.barrier()\n",
    "circ.draw(\"mpl\", style=\"clifford\")"
   ]
  },
  {
   "cell_type": "markdown",
   "metadata": {},
   "source": [
    "### Pulse generating functions"
   ]
  },
  {
   "cell_type": "code",
   "execution_count": 9,
   "metadata": {},
   "outputs": [],
   "source": [
    "def gaussian(x, mu=0, sigma=1):\n",
    "    return np.exp(-((x - mu) ** 2) / 2 / sigma**2)\n",
    "\n",
    "\n",
    "def lifted_gaussian(x, mu, sigma, x0=-1):\n",
    "    g = functools.partial(gaussian, mu=mu, sigma=sigma)\n",
    "    return (g(x) - g(x0)) / (1 - g(x0))\n",
    "\n",
    "\n",
    "def truncated_gaussian(x, mu=0, sigma=1):\n",
    "    g = functools.partial(gaussian, mu=mu, sigma=sigma)\n",
    "    return g(x) - g(0)\n",
    "\n",
    "\n",
    "def gaussian_envelope(dt, duration, angle=np.pi):\n",
    "    \"\"\"Define gaussian envelope function to accumulate the angle.\n",
    "\n",
    "    Returns:\n",
    "        Qiskit pulse implementing angle.\n",
    "    \"\"\"\n",
    "    steps = int(duration / dt)\n",
    "\n",
    "    # Arbitrary shape\n",
    "    # NOTE: Qiskit doesn't like pulse amplitudes > 1. Widen to avoid this.\n",
    "    sigma = steps / 4\n",
    "    mu = steps / 2\n",
    "\n",
    "    # Normalize\n",
    "    x = np.linspace(0, steps, endpoint=True)\n",
    "    area = np.trapz(lifted_gaussian(x, mu, sigma), x)\n",
    "    amplitude = angle / area / dt\n",
    "\n",
    "    # Adjust the amplitude to achieve the angle\n",
    "    return qk.pulse.Gaussian(steps, amplitude, sigma)\n",
    "\n",
    "\n",
    "def zero_envelope(dt, duration):\n",
    "    steps = int(duration / dt)\n",
    "    return qk.pulse.Constant(steps, 0.0)"
   ]
  },
  {
   "cell_type": "markdown",
   "metadata": {},
   "source": [
    "### Sample pulse dictionaries"
   ]
  },
  {
   "cell_type": "code",
   "execution_count": 10,
   "metadata": {},
   "outputs": [],
   "source": [
    "one_q_pulses = {\n",
    "    \"sx_red\": gaussian_envelope(dt, duration, angle=np.pi / 4),\n",
    "    \"sx_blue\": gaussian_envelope(dt, duration, angle=np.pi / 4),\n",
    "    \"x_red\": gaussian_envelope(dt, duration, angle=np.pi / 2),\n",
    "    \"x_blue\": gaussian_envelope(dt, duration, angle=np.pi / 2),\n",
    "}"
   ]
  },
  {
   "cell_type": "code",
   "execution_count": 11,
   "metadata": {},
   "outputs": [],
   "source": [
    "control_pulses = {\n",
    "    \"rzx_red\": gaussian_envelope(dt, duration, angle=np.pi / 2),\n",
    "    \"rzx_blue\": gaussian_envelope(dt, duration, angle=np.pi / 2),\n",
    "}\n",
    "\n",
    "target_pulses = {\n",
    "    \"rzx_red\": zero_envelope(dt, duration),\n",
    "    \"rzx_blue\": zero_envelope(dt, duration),\n",
    "}"
   ]
  },
  {
   "cell_type": "code",
   "execution_count": 12,
   "metadata": {},
   "outputs": [],
   "source": [
    "basis_gates = [\"rz\", \"x\", \"sx\", \"rzx\", \"id\"]\n",
    "pb = PulseBuilder(\n",
    "    basis_gates=basis_gates,\n",
    "    coupling_map=None,\n",
    "    one_q_pulses=one_q_pulses,\n",
    "    control_pulses=control_pulses,\n",
    "    target_pulses=target_pulses,\n",
    "    backend=backend,\n",
    ")"
   ]
  },
  {
   "cell_type": "code",
   "execution_count": 13,
   "metadata": {},
   "outputs": [],
   "source": [
    "pulses = pb.build(circ)"
   ]
  },
  {
   "cell_type": "markdown",
   "metadata": {},
   "source": [
    "### One-qubit moment simulation"
   ]
  },
  {
   "cell_type": "code",
   "execution_count": 23,
   "metadata": {},
   "outputs": [
    {
     "name": "stdout",
     "output_type": "stream",
     "text": [
      "      ┌───┐\n",
      "q0_0: ┤ H ├\n",
      "      ├───┤\n",
      "q0_1: ┤ H ├\n",
      "      ├───┤\n",
      "q0_2: ┤ H ├\n",
      "      ├───┤\n",
      "q0_3: ┤ H ├\n",
      "      └───┘\n",
      "c0: 4/═════\n",
      "           \n"
     ]
    }
   ],
   "source": [
    "test_pulse = pulses[0]\n",
    "test_circuit = dag_to_circuit(list(circuit_to_dag(circ).layers())[0][\"graph\"])\n",
    "print(test_circuit)"
   ]
  },
  {
   "cell_type": "code",
   "execution_count": 24,
   "metadata": {},
   "outputs": [
    {
     "data": {
      "image/png": "[encoded data removed]",
      "text/plain": [
       "<Figure size 1300x660 with 1 Axes>"
      ]
     },
     "execution_count": 24,
     "metadata": {},
     "output_type": "execute_result"
    }
   ],
   "source": [
    "test_pulse.draw()"
   ]
  },
  {
   "cell_type": "code",
   "execution_count": 16,
   "metadata": {},
   "outputs": [],
   "source": [
    "registers = [0, 1, 2, 3]\n",
    "config_vars = ps.backend_simulation_vars(backend, rabi=False, units=units)\n",
    "\n",
    "# Define models fixed by the current parameters\n",
    "# =====\n",
    "H_rx = functools.partial(\n",
    "    ps.rx_model,\n",
    "    registers=registers,\n",
    "    backend=backend,\n",
    "    variables=config_vars,\n",
    "    rotating_frame=False,\n",
    ")\n",
    "\n",
    "A_decay = functools.partial(\n",
    "    ps.qubit_decay_model, registers=registers, variables=config_vars\n",
    ")\n",
    "\n",
    "\n",
    "H_xtalk = ps.crosstalk_model(registers, ps.backend_edges(backend), config_vars)\n",
    "\n",
    "# Create a system model\n",
    "# =====\n",
    "# Control model\n",
    "#   Single qubit circuit moment: attach RX models to each qubit\n",
    "H_drift = 0.0\n",
    "Hs_control = []\n",
    "Hs_channels = []\n",
    "As_static = []\n",
    "for qubit in range(4):\n",
    "    # if qubit_index in registers:\n",
    "    Hj_drift, Hjs_control, Hjs_channel = H_rx(qubit)\n",
    "\n",
    "    # NOTE: doesn't work with quantum channel simulator yet\n",
    "    Ajs_static = A_decay(qubit)\n",
    "\n",
    "    H_drift += Hj_drift\n",
    "    Hs_control += Hjs_control\n",
    "    Hs_channels += Hjs_channel\n",
    "    As_static += Ajs_static\n",
    "\n",
    "\n",
    "# Construct the solver\n",
    "# NOTE: no rotating frames for now\n",
    "# =====\n",
    "solver = qk_d.Solver(\n",
    "    static_hamiltonian=H_xtalk,\n",
    "    hamiltonian_operators=Hs_control,\n",
    "    static_dissipators=None,\n",
    "    rotating_frame=None,\n",
    "    rwa_cutoff_freq=None,\n",
    "    hamiltonian_channels=Hs_channels,\n",
    "    channel_carrier_freqs={ch: 0.0 for ch in Hs_channels},\n",
    "    dt=dt,\n",
    ")"
   ]
  },
  {
   "cell_type": "code",
   "execution_count": 17,
   "metadata": {},
   "outputs": [],
   "source": [
    "# Start the qubit in its ground state.\n",
    "y0 = ps.qiskit_ground_state(len(registers))\n",
    "\n",
    "virtual_zs = {0: -np.pi / 2, 1: -np.pi / 2, 2: -np.pi / 2, 3: -np.pi / 2}\n",
    "\n",
    "# Manual Z gates (no pulses)\n",
    "Vz = ps.rz_moment(virtual_zs, registers)\n",
    "y0 = y0.evolve(Vz)\n",
    "\n",
    "# Identity matrix\n",
    "U0 = ps.qiskit_identity_operator(len(registers))\n",
    "\n",
    "# NOTE: Unsure if correct\n",
    "# Identity channel\n",
    "C0 = qk.quantum_info.SuperOp(U0)"
   ]
  },
  {
   "cell_type": "code",
   "execution_count": 18,
   "metadata": {},
   "outputs": [],
   "source": [
    "solver.model.evaluation_mode = \"sparse\"\n",
    "sol = solver.solve(\n",
    "    t_span=[0.0, duration],\n",
    "    y0=U0,\n",
    "    signals=test_pulse,\n",
    "    atol=1e-8,\n",
    "    rtol=1e-8,\n",
    "    method=\"jax_odeint\",\n",
    ")\n",
    "\n",
    "sol1 = solver.solve(\n",
    "    t_span=[0.0, duration],\n",
    "    y0=y0,\n",
    "    signals=test_pulse,\n",
    "    atol=1e-8,\n",
    "    rtol=1e-8,\n",
    "    method=\"jax_odeint\",\n",
    ")"
   ]
  },
  {
   "cell_type": "code",
   "execution_count": 19,
   "metadata": {},
   "outputs": [
    {
     "name": "stdout",
     "output_type": "stream",
     "text": [
      "Are equal? True\n",
      "\n",
      "Are close? ||y1 - y2|| = 3.214631127319757e-06\n",
      "\n",
      "-0.25-0.00j |0000>\n",
      "-0.00+0.25j |0001>\n",
      "-0.00+0.25j |0010>\n",
      "+0.25+0.00j |0011>\n",
      "-0.00+0.25j |0100>\n",
      "+0.25-0.00j |0101>\n",
      "+0.25+0.00j |0110>\n",
      "+0.00-0.25j |0111>\n",
      "-0.00+0.25j |1000>\n",
      "+0.25+0.00j |1001>\n",
      "+0.25-0.00j |1010>\n",
      "+0.00-0.25j |1011>\n",
      "+0.25+0.00j |1100>\n",
      "+0.00-0.25j |1101>\n",
      "+0.00-0.25j |1110>\n",
      "-0.25-0.00j |1111>\n",
      "\n"
     ]
    }
   ],
   "source": [
    "basis = ps.hilbert_space_basis([2] * len(registers))\n",
    "\n",
    "# Check final states\n",
    "yf1 = sol1.y[-1]\n",
    "y_after_1qb_moment = yf1\n",
    "\n",
    "Uf = sol.y[-1]\n",
    "yf = y0.evolve(Uf)\n",
    "\n",
    "# Compare\n",
    "print(f\"Are equal? {yf1 == yf}\\n\")\n",
    "print(f\"Are close? ||y1 - y2|| = {np.linalg.norm(yf1 - yf)}\\n\")\n",
    "\n",
    "# States\n",
    "ps.print_wavefunction(yf, basis, tol=1e-3)\n",
    "print()\n",
    "\n",
    "# ps.print_wavefunction(yf1, basis)"
   ]
  }
 ],
 "metadata": {
  "kernelspec": {
   "display_name": ".venv",
   "language": "python",
   "name": "python3"
  },
  "language_info": {
   "codemirror_mode": {
    "name": "ipython",
    "version": 3
   },
   "file_extension": ".py",
   "mimetype": "text/x-python",
   "name": "python",
   "nbconvert_exporter": "python",
   "pygments_lexer": "ipython3",
   "version": "3.11.6"
  }
 },
 "nbformat": 4,
 "nbformat_minor": 2
}
