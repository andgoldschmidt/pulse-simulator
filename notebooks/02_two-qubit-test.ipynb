{
 "cells": [
  {
   "cell_type": "markdown",
   "metadata": {},
   "source": [
    "# Import"
   ]
  },
  {
   "cell_type": "code",
   "execution_count": null,
   "metadata": {},
   "outputs": [],
   "source": [
    "import functools\n",
    "import itertools\n",
    "import numpy as np\n",
    "from scipy.linalg import expm\n",
    "\n",
    "import qiskit as qk\n",
    "import qiskit_dynamics as qk_d\n",
    "import qiskit.providers.fake_provider as qk_fp\n",
    "\n",
    "import qutip as qt\n",
    "import matplotlib as mpl\n",
    "import matplotlib.pyplot as plt\n",
    "%matplotlib inline\n",
    "\n",
    "import importlib"
   ]
  },
  {
   "cell_type": "code",
   "execution_count": null,
   "metadata": {},
   "outputs": [],
   "source": [
    "# configure jax to use 64 bit mode\n",
    "import jax\n",
    "jax.config.update(\"jax_enable_x64\", True)\n",
    "\n",
    "# tell JAX we are using CPU\n",
    "jax.config.update('jax_platform_name', 'cpu')\n",
    "\n",
    "# set default backend\n",
    "qk_d.array.Array.set_default_backend('jax')\n",
    "qk_d.array.Array.default_backend()"
   ]
  },
  {
   "cell_type": "code",
   "execution_count": null,
   "metadata": {},
   "outputs": [],
   "source": [
    "import sys\n",
    "sys.path.append(\"../\")\n",
    "import pulse_simulator as ps"
   ]
  },
  {
   "cell_type": "markdown",
   "metadata": {},
   "source": [
    "# Inspect two qubit gate Hamiltonian"
   ]
  },
  {
   "cell_type": "code",
   "execution_count": null,
   "metadata": {},
   "outputs": [],
   "source": [
    "backend = qk_fp.FakeManila()\n",
    "\n",
    "# Initialize device\n",
    "# =====\n",
    "# Undo units\n",
    "units = 1e9\n",
    "GHz = 1/units\n",
    "ns = units\n",
    "\n",
    "dt = backend.configuration().dt * ns  \n",
    "duration = 220 * dt  # ns\n",
    "\n",
    "registers = [0, 1, 2, 3]  # TODO: Active registers\n",
    "\n",
    "# Variables\n",
    "# NOTE: If the Rabi rates are different, you have to calibrate!\n",
    "config_vars = ps.backend_simulation_vars(backend, rabi=False, units=units)\n",
    "\n",
    "# Carrier frequencies of each control line\n",
    "carriers = ps.backend_carriers(backend, config_vars)\n",
    "\n",
    "config_vars;"
   ]
  },
  {
   "cell_type": "code",
   "execution_count": null,
   "metadata": {},
   "outputs": [],
   "source": [
    "backend.properties().gate_length('cx', [0, 1])"
   ]
  },
  {
   "cell_type": "markdown",
   "metadata": {},
   "source": [
    "## Type Toy"
   ]
  },
  {
   "cell_type": "code",
   "execution_count": null,
   "metadata": {},
   "outputs": [],
   "source": [
    "# Partially compile to get this circuit's gates\n",
    "cr_model = functools.partial(\n",
    "    ps.cross_resonance_model,\n",
    "    registers=registers,\n",
    "    backend=backend,\n",
    "    variables=config_vars, \n",
    "    model_name=\"Toy\",\n",
    "    return_params=True\n",
    ")\n",
    "\n",
    "qb_model = functools.partial(\n",
    "    ps.rx_model,\n",
    "    registers=registers,\n",
    "    backend=backend,\n",
    "    variables=config_vars, \n",
    "    rotating_frame=True,\n",
    "    return_params=True\n",
    ")\n",
    "\n",
    "# Two qubit model\n",
    "for i,j in itertools.permutations(registers, 2):\n",
    "    if abs(i-j) == 1:\n",
    "        control = i\n",
    "        target = j\n",
    "        H_drift, Hs_control, H_channel, params = cr_model((control, target))\n",
    "        print(f\"Control: {control}, Target: {target}\\n Params: {params}, \\n Channel: {H_channel}\")\n",
    "\n",
    "print()\n",
    "\n",
    "# Single qubit model\n",
    "for i in registers:\n",
    "    H_drift, Hs_control, H_channel, params = qb_model(i)\n",
    "    print(f\"Qubit: {i}, Params: {params}\")"
   ]
  },
  {
   "cell_type": "code",
   "execution_count": null,
   "metadata": {},
   "outputs": [],
   "source": []
  },
  {
   "cell_type": "markdown",
   "metadata": {},
   "source": [
    "## Type SWPT"
   ]
  },
  {
   "cell_type": "code",
   "execution_count": null,
   "metadata": {},
   "outputs": [],
   "source": [
    "# Partially compile to get this circuit's gates\n",
    "cr_model = functools.partial(\n",
    "    ps.cross_resonance_model,\n",
    "    registers=registers,\n",
    "    backend=backend,\n",
    "    variables=config_vars, \n",
    "    model_name=\"SWPT\",\n",
    "    return_params=True\n",
    ")\n",
    "\n",
    "qb_model = functools.partial(\n",
    "    ps.rx_model,\n",
    "    registers=registers,\n",
    "    backend=backend,\n",
    "    variables=config_vars, \n",
    "    rotating_frame=True,\n",
    "    return_params=True\n",
    ")\n",
    "\n",
    "# Control model\n",
    "for i,j in itertools.permutations(registers, 2):\n",
    "    if abs(i-j) == 1:\n",
    "        control = i\n",
    "        target = j\n",
    "        H_drift, Hs_control, H_channel, params = cr_model((control, target))\n",
    "        print(f\"Control: {control}, Target: {target}\\n Params: {params}\")"
   ]
  },
  {
   "cell_type": "markdown",
   "metadata": {},
   "source": [
    "## Plot"
   ]
  },
  {
   "cell_type": "code",
   "execution_count": null,
   "metadata": {},
   "outputs": [],
   "source": [
    "def plot_Hamiltonian(H, vmin=-1, vmax=1):\n",
    "    fig, axes = plt.subplots(1, 2)\n",
    "    kwargs = {\"vmin\": vmin, \"vmax\": vmax, \"cmap\": \"RdBu\"}\n",
    "    ax = axes[0]\n",
    "    ax.imshow(np.real(H), **kwargs)\n",
    "    ax = axes[1]\n",
    "    ax.imshow(np.imag(H), **kwargs)\n",
    "    [ax.axis(\"off\") for ax in axes]\n",
    "    return fig, axes"
   ]
  },
  {
   "cell_type": "code",
   "execution_count": null,
   "metadata": {},
   "outputs": [],
   "source": [
    "# params['IX'], params['ZX']"
   ]
  },
  {
   "cell_type": "code",
   "execution_count": null,
   "metadata": {},
   "outputs": [],
   "source": [
    "plot_Hamiltonian(Hs_control[0], vmin=-0.05, vmax=0.05)"
   ]
  },
  {
   "cell_type": "markdown",
   "metadata": {},
   "source": [
    "# ECR as qiskit circuit"
   ]
  },
  {
   "cell_type": "code",
   "execution_count": null,
   "metadata": {},
   "outputs": [],
   "source": [
    "circ = qk.QuantumCircuit(2)\n",
    "circ.ecr(0, 1)\n",
    "\n",
    "print(qk.quantum_info.Operator(circ).data * np.sqrt(2))\n",
    "\n",
    "circ.draw('mpl')"
   ]
  },
  {
   "cell_type": "code",
   "execution_count": null,
   "metadata": {},
   "outputs": [],
   "source": [
    "circ = qk.QuantumCircuit(2)\n",
    "circ.ecr(1, 0)\n",
    "\n",
    "print(qk.quantum_info.Operator(circ).data * np.sqrt(2))\n",
    "\n",
    "circ.draw('mpl')"
   ]
  },
  {
   "cell_type": "markdown",
   "metadata": {},
   "source": [
    "# Two qubit ECR gate (three pulses)"
   ]
  },
  {
   "cell_type": "markdown",
   "metadata": {},
   "source": [
    "This section explores creating a two qubit ECR gate from components.\n",
    "\n",
    "We need to define the Toy two qubit Hamiltonain, and make sure we get the channels correct.\n",
    "\n",
    "We also need to add wait gates (constant zero pulses) to preserve timing."
   ]
  },
  {
   "cell_type": "markdown",
   "metadata": {},
   "source": [
    "```Python\n",
    "     ┌─────────┐            ┌────────────┐┌────────┐┌─────────────┐\n",
    "q_0: ┤0        ├       q_0: ┤0           ├┤ RX(pi) ├┤0            ├\n",
    "     │   ECR   │   =        │  RZX(pi/4) │└────────┘│  RZX(-pi/4) │\n",
    "q_1: ┤1        ├       q_1: ┤1           ├──────────┤1            ├\n",
    "     └─────────┘            └────────────┘          └─────────────┘\n",
    "```"
   ]
  },
  {
   "cell_type": "code",
   "execution_count": null,
   "metadata": {},
   "outputs": [],
   "source": [
    "def gaussian(x, mu=0, sigma=1):\n",
    "    return np.exp(-(x - mu)**2 / 2 / sigma**2)\n",
    "\n",
    "def lifted_gaussian(x, mu, sigma, x0=-1):\n",
    "    g = functools.partial(gaussian, mu=mu, sigma=sigma)\n",
    "    return (g(x) - g(x0)) / (1 - g(x0))\n",
    "\n",
    "def truncated_gaussian(x, mu=0, sigma=1):\n",
    "    g = functools.partial(gaussian, mu=mu, sigma=sigma)\n",
    "    return g(x) - g(0)\n",
    "\n",
    "def gaussian_envelope(dt, duration, angle=np.pi):\n",
    "    \"\"\" Define gaussian envelope function to accumulate the angle.\n",
    "\n",
    "    Returns:\n",
    "        Qiskit pulse implementing angle.\n",
    "    \"\"\"\n",
    "    steps = int(duration / dt)\n",
    "\n",
    "    # Arbitrary shape\n",
    "    # NOTE: Qiskit doesn't like pulse amplitudes > 1. Widen to avoid this.\n",
    "    sigma = steps / 4\n",
    "    mu = steps / 2\n",
    "\n",
    "    # Normalize\n",
    "    x = np.linspace(0, steps, endpoint=True)\n",
    "    area = np.trapz(lifted_gaussian(x, mu, sigma), x)\n",
    "    amplitude = angle / area / dt\n",
    "\n",
    "    # Adjust the amplitude to achieve the angle\n",
    "    return qk.pulse.Gaussian(steps, amplitude, sigma)\n",
    "\n",
    "def zero_envelope(dt, duration):\n",
    "    steps = int(duration / dt)\n",
    "    return qk.pulse.Constant(steps, 0.0)"
   ]
  },
  {
   "cell_type": "code",
   "execution_count": null,
   "metadata": {},
   "outputs": [],
   "source": [
    "# brief aside to check the order of operators\n",
    "# default is standard order\n",
    "ps.from_label(\"XI\")"
   ]
  },
  {
   "cell_type": "code",
   "execution_count": null,
   "metadata": {},
   "outputs": [],
   "source": [
    "# notice that this is the qiskit order, which would reverse to IX\n",
    "ps.from_label(\"XI\", reverse=True)"
   ]
  },
  {
   "cell_type": "code",
   "execution_count": null,
   "metadata": {},
   "outputs": [],
   "source": [
    "gate_lookup = {\n",
    "    \"sx_red\": gaussian_envelope(dt, duration, angle=np.pi/4),\n",
    "    \"sx_blue\": gaussian_envelope(dt, duration, angle=np.pi/4),\n",
    "    \"x_red\": gaussian_envelope(dt, duration, angle=np.pi/2),\n",
    "    \"x_blue\": gaussian_envelope(dt, duration, angle=np.pi/2),\n",
    "    \"zx+_red\": gaussian_envelope(dt, duration, angle=np.pi/8),\n",
    "    \"zx-_red\": gaussian_envelope(dt, duration, angle=-np.pi/8),\n",
    "    \"zx+_blue\": gaussian_envelope(dt, duration, angle=np.pi/8),\n",
    "    \"zx-_blue\": gaussian_envelope(dt, duration, angle=-np.pi/8),\n",
    "    \"x_wait\": zero_envelope(dt, duration),\n",
    "    \"zx_wait\": zero_envelope(dt, duration),\n",
    "    \"sx_wait\": zero_envelope(dt, duration),\n",
    "}\n",
    "\n",
    "registers = [0, 1, 2, 3]\n",
    "\n",
    "# Define gates\n",
    "# NOTE: The order of the indices is control, target\n",
    "gates = {(0, 1): 'ecr_red', (2, 3): 'ecr_red'}\n",
    "\n",
    "# Design pulse schedule of a single ECR gate\n",
    "# =====\n",
    "with qk.pulse.build(name=\"Current moment\") as pulse_moment:\n",
    "    for (i_c, i_t), gate in gates.items():\n",
    "        print(i_c, i_t)\n",
    "\n",
    "        gate_type, gate_color = gate.split(\"_\")\n",
    "        \n",
    "        # Drive using two kinds of channels\n",
    "        drive_channel = ps.get_drive_channel(i_c, backend)\n",
    "        control_channel = ps.get_control_channel(i_c, i_t, backend)\n",
    "        print(drive_channel, control_channel)\n",
    "\n",
    "        # # Control channel is for R_ZX\n",
    "        qk.pulse.play(gate_lookup[f\"zx+_{gate_color}\"], control_channel)\n",
    "        qk.pulse.play(gate_lookup[\"x_wait\"], control_channel)\n",
    "        qk.pulse.play(gate_lookup[f\"zx-_{gate_color}\"], control_channel)\n",
    "\n",
    "        # Drive channel is for R_X\n",
    "        qk.pulse.play(gate_lookup[\"zx_wait\"], drive_channel)\n",
    "        qk.pulse.play(gate_lookup[f\"x_{gate_color}\"], drive_channel)\n",
    "        qk.pulse.play(gate_lookup[\"zx_wait\"], drive_channel)"
   ]
  },
  {
   "cell_type": "code",
   "execution_count": null,
   "metadata": {},
   "outputs": [],
   "source": [
    "pulse_moment.draw()"
   ]
  },
  {
   "cell_type": "code",
   "execution_count": null,
   "metadata": {},
   "outputs": [],
   "source": [
    "# Create a system model\n",
    "# =====\n",
    "# Partially compile to get this circuit's gates\n",
    "cr_model = functools.partial(\n",
    "    ps.cross_resonance_model,\n",
    "    registers=registers,\n",
    "    backend=backend,\n",
    "    variables=config_vars, \n",
    "    model_name=\"Toy\"\n",
    ")\n",
    "\n",
    "# Control model\n",
    "H_drift = 0.\n",
    "Hs_control = []\n",
    "Hs_channels = []\n",
    "for (control, target), label in gates.items():\n",
    "    Hj_drift, Hjs_control, Hjs_channel, params = cr_model((control, target), return_params=True)\n",
    "    H_drift += Hj_drift\n",
    "    Hs_control += Hjs_control\n",
    "    Hs_channels += Hjs_channel\n",
    "    \n",
    "# Construct the solver\n",
    "# =====\n",
    "\"\"\"\n",
    "Simulating the effective model, therefore the drift\n",
    "is ZZ crosstalk, and there is no rotating frame.\n",
    "\n",
    "Use the crosstalk computed perviously.\n",
    "\"\"\"\n",
    "solver = qk_d.Solver(\n",
    "    static_hamiltonian=None, #H_xtalk,\n",
    "    hamiltonian_operators=Hs_control,\n",
    "    static_dissipators=None,\n",
    "    rotating_frame=None,\n",
    "    rwa_cutoff_freq=None,\n",
    "    hamiltonian_channels=Hs_channels,\n",
    "    channel_carrier_freqs={ch: 0. for ch in Hs_channels},\n",
    "    dt=dt\n",
    ")"
   ]
  },
  {
   "cell_type": "code",
   "execution_count": null,
   "metadata": {},
   "outputs": [],
   "source": [
    "# Start the qubit in its ground state.\n",
    "y0 = ps.qiskit_ground_state(len(registers))\n",
    "\n",
    "# Identity matrix\n",
    "id_label = ''.join(['I'] * len(registers))\n",
    "U0 = qk.quantum_info.Operator.from_label(id_label)\n",
    "\n",
    "# Simulation time NOTE: longer than a single pulse\n",
    "moment_duration = duration * 3\n",
    "\n",
    "# Unitary sim.\n",
    "solver.model.evaluation_mode = 'dense'\n",
    "sol = solver.solve(\n",
    "    t_span=[0.0, moment_duration],\n",
    "    y0=U0,\n",
    "    signals=pulse_moment,\n",
    "    max_dt=dt,\n",
    "    t_eval=[0, moment_duration],\n",
    "    method=\"jax_expm\",\n",
    "    magnus_order=1,\n",
    ")\n",
    "\n",
    "# Sparse state vector sim\n",
    "solver.model.evaluation_mode = 'sparse'\n",
    "sol1 = solver.solve(\n",
    "    t_span=[0., moment_duration],\n",
    "    y0=y0,\n",
    "    signals=pulse_moment,\n",
    "    atol=1e-8,\n",
    "    rtol=1e-8,\n",
    "    method='jax_odeint'\n",
    ")"
   ]
  },
  {
   "cell_type": "code",
   "execution_count": null,
   "metadata": {},
   "outputs": [],
   "source": [
    "basis = ps.hilbert_space_basis([2] * len(registers))\n",
    "\n",
    "# Check final states\n",
    "yf1 = sol1.y[-1]\n",
    "\n",
    "Uf = sol.y[-1]\n",
    "yf = y0.evolve(Uf)\n",
    "# Compare\n",
    "print(f\"Are close? ||y1 - y2|| = {np.linalg.norm(yf1 - yf)}\\n\")\n",
    "\n",
    "# States\n",
    "ps.print_wavefunction(yf, basis, tol=1e-3)\n",
    "print()"
   ]
  },
  {
   "cell_type": "markdown",
   "metadata": {},
   "source": [
    "### Check the answer in a handful of ways"
   ]
  },
  {
   "cell_type": "code",
   "execution_count": null,
   "metadata": {},
   "outputs": [],
   "source": [
    "# 1. Solution of moment\n",
    "Uf_prefactor = 1j * np.power(2, len(registers) / 4)\n",
    "Uf_corrected = Uf_prefactor * Uf.data"
   ]
  },
  {
   "cell_type": "code",
   "execution_count": null,
   "metadata": {},
   "outputs": [],
   "source": [
    "plot_Hamiltonian(Uf_corrected, vmin=-2, vmax=2)"
   ]
  },
  {
   "cell_type": "markdown",
   "metadata": {},
   "source": [
    "Notice that the order is switched between the desired ECR and the implemented ECR."
   ]
  },
  {
   "cell_type": "code",
   "execution_count": null,
   "metadata": {},
   "outputs": [],
   "source": [
    "# 2. Analytic solution\n",
    "if len(registers) == 2:\n",
    "    # ECR01 = 1 / np.sqrt(2) * (ps.from_label(\"IX\") - ps.from_label(\"XY\"))\n",
    "    ECR01 = 1 / np.sqrt(2) * (ps.from_label(\"XI\") - ps.from_label(\"YX\"))\n",
    "    Uf_expected = ECR01.data\n",
    "elif len(registers) == 4:\n",
    "    # ECR01 = 1 / np.sqrt(2) * (ps.from_label(\"IXII\") - ps.from_label(\"XYII\"))\n",
    "    # ECR23 = 1 / np.sqrt(2) * (ps.from_label(\"IIIX\") - ps.from_label(\"IIXY\"))\n",
    "    ECR01 = 1 / np.sqrt(2) * (ps.from_label(\"XIII\") - ps.from_label(\"YXII\"))\n",
    "    ECR23 = 1 / np.sqrt(2) * (ps.from_label(\"IIXI\") - ps.from_label(\"IIYX\"))\n",
    "    Uf_expected = ECR01.data @ ECR23.data\n",
    "else:\n",
    "    raise ValueError(\"Only 2 or 4 qubits supported.\")\n",
    "\n",
    "plot_Hamiltonian(-Uf_prefactor * Uf_expected, vmin=-2, vmax=2)"
   ]
  },
  {
   "cell_type": "code",
   "execution_count": null,
   "metadata": {},
   "outputs": [],
   "source": [
    "np.isclose(Uf_corrected, -Uf_prefactor * Uf_expected, atol=1e-3).all()"
   ]
  },
  {
   "cell_type": "code",
   "execution_count": null,
   "metadata": {},
   "outputs": [],
   "source": [
    "# 3. Unitary, so Uf^+ Uf = I\n",
    "plot_Hamiltonian(Uf_expected @ Uf.data)"
   ]
  },
  {
   "cell_type": "code",
   "execution_count": null,
   "metadata": {},
   "outputs": [],
   "source": [
    "# 4. Single ECR from components\n",
    "ZX = ps.from_label(\"ZX\")\n",
    "XI = ps.from_label(\"XI\")\n",
    "1j * np.sqrt(2) * expm(1j * np.pi / 8 * ZX) @ expm(-1j * np.pi / 2 * XI) @ expm(-1j * np.pi / 8 * ZX)"
   ]
  },
  {
   "cell_type": "code",
   "execution_count": null,
   "metadata": {},
   "outputs": [],
   "source": [
    "(ps.from_label(\"XI\") - ps.from_label(\"YX\"))"
   ]
  },
  {
   "cell_type": "markdown",
   "metadata": {},
   "source": [
    "# ECR control and control-spectator crosstalk study"
   ]
  },
  {
   "cell_type": "markdown",
   "metadata": {},
   "source": [
    "Notice that if you run two X gates next to each other, the crosstalk condition vanishes.\n",
    "\n",
    "The key assumptions here are that:\n",
    "1. The amplitude of the gate should result in an accumulated angle of $\\frac{\\pi}{2}$. We are using the crosstalk condition for a Hamiltonian that is $H(t) = a(t)X$.\n",
    "2. The crosstalk condition for a single gate is\n",
    "\\begin{equation}\n",
    "    \\left(\\int_0^T \\cos\\left(2\\int_0^t a(s)ds\\right)dt \\right)^2 + \\left(\\int_0^T \\sin\\left(2\\int_0^t a(s)ds \\right)dt\\right)^2\n",
    "\\end{equation}"
   ]
  },
  {
   "cell_type": "markdown",
   "metadata": {},
   "source": [
    "## Spectators and the gate\n",
    "\n",
    "\\begin{equation}\n",
    "CS \\leftrightarrow C \\leftrightarrow T \\leftrightarrow TS\n",
    "\\end{equation}\n",
    "\n",
    "There are two parts to the crosstalk robustness. The first part is due to the X gate. The second part is due to the ZX rotation. They happen sequentially.\n",
    "\n",
    "First, ignore the ZX rotation. This means studying the impact of the X gate and a control spectator. In this case, the ZZ crosstalk vanishes.\n",
    "\n",
    "Now, we need to consider how to add the ZX drive back into the calculation. We want to see two things. First, the ZX drive should not affect the ability of the XI drive to cancel crosstalk when both are present. (This is the current behavior of ECR.) Second, the ZX drive should be able to cancel crosstalk on the target spectator. (This would be novel.)"
   ]
  },
  {
   "cell_type": "markdown",
   "metadata": {},
   "source": [
    "Question:\n",
    "Why 2at vs. $\\int_0^t a dt$"
   ]
  },
  {
   "cell_type": "code",
   "execution_count": null,
   "metadata": {},
   "outputs": [],
   "source": [
    "def angle(t, amp=np.pi/2, duration=1, pulse_duration=1/4):\n",
    "    wait_duration = (duration - pulse_duration * 2) / 2\n",
    "    if t < pulse_duration:\n",
    "        return 0 # amp / pulse_duration\n",
    "    elif t < pulse_duration + wait_duration:\n",
    "        return 0.\n",
    "    elif t < 2 * pulse_duration + wait_duration:\n",
    "        return amp / pulse_duration\n",
    "    else:\n",
    "        return 0."
   ]
  },
  {
   "cell_type": "code",
   "execution_count": null,
   "metadata": {},
   "outputs": [],
   "source": [
    "duration = 10\n",
    "pulse = 1.\n",
    "ts = np.linspace(0, duration, 1000, endpoint=True)\n",
    "fig, ax = plt.subplots()\n",
    "ax.plot(ts, [angle(t, duration=duration, pulse_duration=pulse) for t in ts])\n",
    "ax.set_title(\"Control vs. time\")"
   ]
  },
  {
   "cell_type": "code",
   "execution_count": null,
   "metadata": {},
   "outputs": [],
   "source": [
    "np.trapz([angle(t, amp=np.pi, duration=duration, pulse_duration=pulse) for t in ts], ts)"
   ]
  },
  {
   "cell_type": "markdown",
   "metadata": {},
   "source": [
    "In the next cell, plot the net crosstalk contributions of sine and cosine. Notice that we get back to zero for both sine and cosine."
   ]
  },
  {
   "cell_type": "code",
   "execution_count": null,
   "metadata": {},
   "outputs": [],
   "source": [
    "int_angle = np.array([\n",
    "    np.trapz([\n",
    "        angle(t, duration=duration, pulse_duration=pulse)\n",
    "        for t in ts[:m]], ts[:m]\n",
    "    ) for m in range(len(ts))])\n",
    "fig, axes = plt.subplots(2,1)\n",
    "ax = axes[0]\n",
    "ax.plot(int_angle, label=r\"$\\int_0^t a(s) ds$\")\n",
    "ax.legend()\n",
    "ax = axes[1]\n",
    "cos_vals = [np.trapz(np.cos(2 * int_angle[:m]), ts[:m]) for m in range(len(ts))]\n",
    "sin_vals = [np.trapz(np.sin(2 * int_angle[:m]), ts[:m]) for m in range(len(ts))]\n",
    "ax.plot(cos_vals, label=\"cos\")\n",
    "ax.plot(sin_vals, label=\"sin\")\n",
    "ax.axhline(pulse, color=\"black\", linestyle=\"--\", alpha=.5, lw=1)\n",
    "ax.axhline(cos_vals[np.argwhere(ts > pulse)[0][0]], color=\"black\", linestyle=\"--\", alpha=.5, lw=1)\n",
    "ax.legend()"
   ]
  },
  {
   "cell_type": "code",
   "execution_count": null,
   "metadata": {},
   "outputs": [],
   "source": [
    "(np.trapz([np.cos(2 * i) for i in int_angle], ts)**2, \n",
    "np.trapz([np.sin(2 * i) for i in int_angle], ts)**2)\n"
   ]
  },
  {
   "cell_type": "code",
   "execution_count": null,
   "metadata": {},
   "outputs": [],
   "source": []
  }
 ],
 "metadata": {
  "kernelspec": {
   "display_name": "pulse-simulator-0UjnMsVt-py3.10",
   "language": "python",
   "name": "python3"
  },
  "language_info": {
   "codemirror_mode": {
    "name": "ipython",
    "version": 3
   },
   "file_extension": ".py",
   "mimetype": "text/x-python",
   "name": "python",
   "nbconvert_exporter": "python",
   "pygments_lexer": "ipython3",
   "version": "3.10.8"
  }
 },
 "nbformat": 4,
 "nbformat_minor": 2
}
