{
 "cells": [
  {
   "cell_type": "markdown",
   "metadata": {},
   "source": [
    "# Import"
   ]
  },
  {
   "cell_type": "code",
   "execution_count": null,
   "metadata": {},
   "outputs": [],
   "source": [
    "import functools\n",
    "import itertools\n",
    "import numpy as np\n",
    "from scipy.linalg import expm\n",
    "\n",
    "import qiskit as qk\n",
    "import qiskit_dynamics as qk_d\n",
    "import qiskit.providers.fake_provider as qk_fp\n",
    "\n",
    "import qutip as qt\n",
    "import matplotlib as mpl\n",
    "import matplotlib.pyplot as plt\n",
    "%matplotlib inline\n",
    "\n",
    "import importlib"
   ]
  },
  {
   "cell_type": "code",
   "execution_count": null,
   "metadata": {},
   "outputs": [],
   "source": [
    "# configure jax to use 64 bit mode\n",
    "import jax\n",
    "jax.config.update(\"jax_enable_x64\", True)\n",
    "\n",
    "# tell JAX we are using CPU\n",
    "jax.config.update('jax_platform_name', 'cpu')\n",
    "\n",
    "# set default backend\n",
    "qk_d.array.Array.set_default_backend('jax')\n",
    "qk_d.array.Array.default_backend()"
   ]
  },
  {
   "cell_type": "code",
   "execution_count": null,
   "metadata": {},
   "outputs": [],
   "source": [
    "import sys\n",
    "sys.path.append(\"../\")\n",
    "import pulse_simulator as ps"
   ]
  },
  {
   "cell_type": "markdown",
   "metadata": {},
   "source": [
    "# Inspect two qubit gate Hamiltonian"
   ]
  },
  {
   "cell_type": "code",
   "execution_count": null,
   "metadata": {},
   "outputs": [],
   "source": [
    "backend = qk_fp.FakeManila()\n",
    "\n",
    "# Initialize device\n",
    "# =====\n",
    "# Undo units\n",
    "units = 1e9\n",
    "GHz = 1/units\n",
    "ns = units\n",
    "\n",
    "dt = backend.configuration().dt * ns  \n",
    "duration = 220 * dt  # ns\n",
    "\n",
    "registers = [0, 1, 2, 3]  # TODO: Active registers\n",
    "\n",
    "# Variables\n",
    "# NOTE: If the Rabi rates are different, you have to calibrate!\n",
    "config_vars = ps.backend_simulation_vars(backend, rabi=False, units=units)\n",
    "\n",
    "# Carrier frequencies of each control line\n",
    "carriers = ps.backend_carriers(backend, config_vars)\n",
    "\n",
    "config_vars"
   ]
  },
  {
   "cell_type": "code",
   "execution_count": null,
   "metadata": {},
   "outputs": [],
   "source": [
    "backend.properties().gate_length('cx', [0, 1])"
   ]
  },
  {
   "cell_type": "code",
   "execution_count": null,
   "metadata": {},
   "outputs": [],
   "source": [
    "# Partially compile to get this circuit's gates\n",
    "cr_model = functools.partial(\n",
    "    ps.cross_resonance_model,\n",
    "    registers=registers,\n",
    "    backend=backend,\n",
    "    variables=config_vars, \n",
    "    model_name=\"Simple\",\n",
    "    return_params=True\n",
    ")\n",
    "\n",
    "qb_model = functools.partial(\n",
    "    ps.rx_model,\n",
    "    registers=registers,\n",
    "    backend=backend,\n",
    "    variables=config_vars, \n",
    "    rotating_frame=False,\n",
    "    return_params=True\n",
    ")\n",
    "\n",
    "# Control model\n",
    "for i,j in itertools.permutations(registers, 2):\n",
    "    if abs(i-j) == 1:\n",
    "        control = i\n",
    "        target = j\n",
    "        H_drift, Hs_control, H_channel, params = cr_model((control, target))\n",
    "        print(f\"Control: {control}, Target: {target}\\n Params: {params['CR']}\")\n",
    "\n",
    "print()\n",
    "\n",
    "# Single qubit model\n",
    "# Control model\n",
    "for i in registers:\n",
    "    H_drift, Hs_control, H_channel, params = qb_model(i)\n",
    "    print(f\"Qubit: {i}, Params: {params}\")"
   ]
  },
  {
   "cell_type": "code",
   "execution_count": null,
   "metadata": {},
   "outputs": [],
   "source": [
    "# Partially compile to get this circuit's gates\n",
    "cr_model = functools.partial(\n",
    "    ps.cross_resonance_model,\n",
    "    registers=registers,\n",
    "    backend=backend,\n",
    "    variables=config_vars, \n",
    "    model_name=\"SWPT\",\n",
    "    return_params=True\n",
    ")\n",
    "\n",
    "qb_model = functools.partial(\n",
    "    ps.rx_model,\n",
    "    registers=registers,\n",
    "    backend=backend,\n",
    "    variables=config_vars, \n",
    "    rotating_frame=False,\n",
    "    return_params=True\n",
    ")\n",
    "\n",
    "# Control model\n",
    "for i,j in itertools.permutations(registers, 2):\n",
    "    if abs(i-j) == 1:\n",
    "        control = i\n",
    "        target = j\n",
    "        H_drift, Hs_control, H_channel, params = cr_model((control, target))\n",
    "        print(f\"Control: {control}, Target: {target}\\n Params: {params['CR']}\")"
   ]
  },
  {
   "cell_type": "code",
   "execution_count": null,
   "metadata": {},
   "outputs": [],
   "source": [
    "-8.61e-03 * -2.76e+00"
   ]
  },
  {
   "cell_type": "code",
   "execution_count": null,
   "metadata": {},
   "outputs": [],
   "source": [
    "# Partially compile to get this circuit's gates\n",
    "cr_model = functools.partial(\n",
    "    ps.cross_resonance_model,\n",
    "    registers=registers,\n",
    "    backend=backend,\n",
    "    variables=config_vars, \n",
    "    model_name=\"SWPT\",\n",
    "    return_params=True\n",
    ")\n",
    "\n",
    "\n",
    "# Control model\n",
    "for i,j in itertools.permutations(registers, 2):\n",
    "    if abs(i-j) == 1:\n",
    "        control = i\n",
    "        target = j\n",
    "        H_drift, Hs_control, H_channel, params = cr_model((control, target))\n",
    "        print(f\"Control: {control}, Target: {target}, Params: {params}\")"
   ]
  },
  {
   "cell_type": "code",
   "execution_count": null,
   "metadata": {},
   "outputs": [],
   "source": [
    "def plot_Hamiltonian(H):\n",
    "    fig, axes = plt.subplots(1, 2)\n",
    "    kwargs = {\"vmin\": -.05, \"vmax\": .05, \"cmap\": \"RdBu\"}\n",
    "    ax = axes[0]\n",
    "    ax.imshow(np.real(H), **kwargs)\n",
    "    ax = axes[1]\n",
    "    ax.imshow(np.imag(H), **kwargs)\n",
    "    [ax.axis(\"off\") for ax in axes]\n",
    "    return fig, axes"
   ]
  },
  {
   "cell_type": "code",
   "execution_count": null,
   "metadata": {},
   "outputs": [],
   "source": [
    "# params['IX'], params['ZX']"
   ]
  },
  {
   "cell_type": "code",
   "execution_count": null,
   "metadata": {},
   "outputs": [],
   "source": [
    "plot_Hamiltonian(Hs_control[0])"
   ]
  },
  {
   "cell_type": "markdown",
   "metadata": {},
   "source": [
    "# ECR study\n",
    "\n",
    "Notice that if you run two X gates next to each other, the crosstalk condition vanishes.\n",
    "\n",
    "The key assumptions here are that:\n",
    "1. The amplitude of the gate should result in an accumulated angle of $\\frac{\\pi}{2}$. We are using the crosstalk condition for a Hamiltonian that is $H(t) = a(t)X$.\n",
    "2. The crosstalk condition for a single gate is\n",
    "\\begin{equation}\n",
    "    \\left(\\int_0^T \\cos\\left(2\\int_0^t a(s)ds\\right)dt \\right)^2 + \\left(\\int_0^T \\sin\\left(2\\int_0^t a(s)ds \\right)dt\\right)^2\n",
    "\\end{equation}\n",
    "\n",
    "## Spectators and the gate\n",
    "\n",
    "\\begin{equation}\n",
    "CS \\leftrightarrow C \\leftrightarrow T \\leftrightarrow TS\n",
    "\\end{equation}\n",
    "\n",
    "There are two parts to the crosstalk robustness. The first part is due to the X gate. The second part is due to the ZX rotation. They happen sequentially.\n",
    "\n",
    "First, ignore the ZX rotation. This means studying the impact of the X gate and a control spectator. In this case, the ZZ crosstalk vanishes.\n",
    "\n",
    "Now, we need to consider how to add the ZX drive back into the calculation. We want to see two things. First, the ZX drive should not affect the ability of the XI drive to cancel crosstalk when both are present. (This is the current behavior of ECR.) Second, the ZX drive should be able to cancel crosstalk on the target spectator. (This would be novel.)"
   ]
  },
  {
   "cell_type": "markdown",
   "metadata": {},
   "source": [
    "Question:\n",
    "Why 2at vs. $\\int_0^t a dt$"
   ]
  },
  {
   "cell_type": "code",
   "execution_count": null,
   "metadata": {},
   "outputs": [],
   "source": [
    "def angle(t, amp=np.pi/2, duration=1, pulse_duration=1/4):\n",
    "    wait_duration = (duration - pulse_duration * 2) / 2\n",
    "    if t < pulse_duration:\n",
    "        return 0 # amp / pulse_duration\n",
    "    elif t < pulse_duration + wait_duration:\n",
    "        return 0.\n",
    "    elif t < 2 * pulse_duration + wait_duration:\n",
    "        return amp / pulse_duration\n",
    "    else:\n",
    "        return 0."
   ]
  },
  {
   "cell_type": "code",
   "execution_count": null,
   "metadata": {},
   "outputs": [],
   "source": [
    "duration = 10\n",
    "pulse = 1.\n",
    "ts = np.linspace(0, duration, 1000, endpoint=True)\n",
    "fig, ax = plt.subplots()\n",
    "ax.plot(ts, [angle(t, duration=duration, pulse_duration=pulse) for t in ts])\n",
    "ax.set_title(\"Control vs. time\")"
   ]
  },
  {
   "cell_type": "code",
   "execution_count": null,
   "metadata": {},
   "outputs": [],
   "source": [
    "np.trapz([angle(t, amp=np.pi, duration=duration, pulse_duration=pulse) for t in ts], ts)"
   ]
  },
  {
   "cell_type": "markdown",
   "metadata": {},
   "source": [
    "In the next cell, plot the net crosstalk contributions of sine and cosine. Notice that we get back to zero for both sine and cosine."
   ]
  },
  {
   "cell_type": "code",
   "execution_count": null,
   "metadata": {},
   "outputs": [],
   "source": [
    "int_angle = np.array([\n",
    "    np.trapz([\n",
    "        angle(t, duration=duration, pulse_duration=pulse)\n",
    "        for t in ts[:m]], ts[:m]\n",
    "    ) for m in range(len(ts))])\n",
    "fig, axes = plt.subplots(2,1)\n",
    "ax = axes[0]\n",
    "ax.plot(int_angle, label=r\"$\\int_0^t a(s) ds$\")\n",
    "ax.legend()\n",
    "ax = axes[1]\n",
    "cos_vals = [np.trapz(np.cos(2 * int_angle[:m]), ts[:m]) for m in range(len(ts))]\n",
    "sin_vals = [np.trapz(np.sin(2 * int_angle[:m]), ts[:m]) for m in range(len(ts))]\n",
    "ax.plot(cos_vals, label=\"cos\")\n",
    "ax.plot(sin_vals, label=\"sin\")\n",
    "ax.axhline(pulse, color=\"black\", linestyle=\"--\", alpha=.5, lw=1)\n",
    "ax.axhline(cos_vals[np.argwhere(ts > pulse)[0][0]], color=\"black\", linestyle=\"--\", alpha=.5, lw=1)\n",
    "ax.legend()"
   ]
  },
  {
   "cell_type": "code",
   "execution_count": null,
   "metadata": {},
   "outputs": [],
   "source": []
  },
  {
   "cell_type": "code",
   "execution_count": null,
   "metadata": {},
   "outputs": [],
   "source": []
  },
  {
   "cell_type": "code",
   "execution_count": null,
   "metadata": {},
   "outputs": [],
   "source": [
    "(np.trapz([np.cos(2 * i) for i in int_angle], ts)**2, \n",
    "np.trapz([np.sin(2 * i) for i in int_angle], ts)**2)\n"
   ]
  },
  {
   "cell_type": "markdown",
   "metadata": {},
   "source": []
  },
  {
   "cell_type": "code",
   "execution_count": null,
   "metadata": {},
   "outputs": [],
   "source": []
  },
  {
   "cell_type": "code",
   "execution_count": null,
   "metadata": {},
   "outputs": [],
   "source": []
  },
  {
   "cell_type": "code",
   "execution_count": null,
   "metadata": {},
   "outputs": [],
   "source": []
  }
 ],
 "metadata": {
  "kernelspec": {
   "display_name": "pulse-simulator-0UjnMsVt-py3.10",
   "language": "python",
   "name": "python3"
  },
  "language_info": {
   "codemirror_mode": {
    "name": "ipython",
    "version": 3
   },
   "file_extension": ".py",
   "mimetype": "text/x-python",
   "name": "python",
   "nbconvert_exporter": "python",
   "pygments_lexer": "ipython3",
   "version": "3.10.8"
  }
 },
 "nbformat": 4,
 "nbformat_minor": 2
}
