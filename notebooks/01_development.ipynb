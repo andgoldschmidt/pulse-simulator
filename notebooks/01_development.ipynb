{
 "cells": [
  {
   "cell_type": "code",
   "execution_count": null,
   "metadata": {},
   "outputs": [],
   "source": [
    "import functools\n",
    "import numpy as np\n",
    "from scipy.linalg import expm\n",
    "\n",
    "import qiskit as qk\n",
    "import qiskit_dynamics as qk_d\n",
    "import qiskit.providers.fake_provider as qk_fp\n",
    "\n",
    "import qutip as qt\n",
    "import matplotlib as mpl\n",
    "import matplotlib.pyplot as plt\n",
    "%matplotlib inline\n",
    "\n",
    "import importlib"
   ]
  },
  {
   "cell_type": "markdown",
   "metadata": {},
   "source": [
    "# Setting up the Problem\n",
    "-----\n",
    "\n",
    "We would like to solve the following equation,\n",
    "\\begin{align}\n",
    "i\\frac{\\partial}{\\partial t}|\\psi(t)\\rangle=\\hat{H}|\\psi(t)\\rangle\n",
    "\\end{align}\n",
    "where, $\\hat{H}$ describes the Hamiltonian of the Ising model,\n",
    "\\begin{align}\n",
    "\\hat{H}=\\frac{1}{2}\\sum_{i=0}^{N-2}J_x\\sigma^x_i \\sigma^x_{i+1}+\\frac{1}{2}\\sum_{i=0}^{N-1}h_{z}\\sigma^z_{i}\n",
    "\\end{align}\n",
    "This Hamiltonian describes a magnetic chain (or wire) consisting of $N$ magnetic atoms, where the magnetic atoms are arranged in a line. Each atom interacts with its nearest neighboring atom with the strength of the coupling given by $(J_x,J_y,J_z)$ in addition to an external magnetic field given by the vector $\\vec{h}=(hx,hy,hz)$. For simplicity, consider the following values for the parameters,\n",
    "\\begin{align}\n",
    "(J_x= 2\\pi ) \\textrm{ and } (hz=2\\pi)\n",
    "\\end{align}\n",
    "\n",
    "We also set the initial state to be have all spins in the $|+\\rangle$ state,\n",
    "\\begin{align}\n",
    "|\\psi(t=0)\\rangle&=|+\\rangle^{\\otimes N}\\\n",
    "&=\\frac{1}{2^{N/2}}(|0\\rangle+|1\\rangle)\\otimes(|0\\rangle+|1\\rangle)\\otimes\\cdots N\\textrm{ times}\n",
    "\\end{align}\n",
    "\n",
    "\n",
    "\n",
    "In particular, we will be interested in the time-dependence of the following quantity,\n",
    "\\begin{align}\n",
    "\\frac{1}{N}\\left\\langle \\sum_{i=0}^{N-1} \\sigma^z_i(t) \\right\\rangle=\\frac{1}{N}\\sum_i \\langle\\psi(t)| \\sigma^z_i |\\psi(t)\\rangle\n",
    "\\end{align}"
   ]
  },
  {
   "cell_type": "code",
   "execution_count": null,
   "metadata": {},
   "outputs": [],
   "source": [
    "# Set the parameters globally for the model\n",
    "N = 4  # number of spins\n",
    "hz = 1.0 * 2 * np.pi  # magnetic field along z\n",
    "Jx = 1.0 * 2 * np.pi  # Coupling along x\n",
    "Δt = 0.05  # time step for integration\n",
    "tlist = np.arange(50) * Δt  # time values\n",
    "\n",
    "# Global backend\n",
    "backend = qk_fp.FakeManila()"
   ]
  },
  {
   "cell_type": "markdown",
   "metadata": {},
   "source": [
    "Now we are ready to create the Unitary operator for the Ising Hamiltonian by composing one and two qubit gates. We show the first and second order Trotter decomposition where, for $\\hat{H}=\\hat{A}+\\hat{B}$, \n",
    "\\begin{align}\n",
    "e^{-i\\hat{H}\\Delta t}&\\approx e^{-i\\hat{A}\\Delta t}e^{-i\\hat{B}\\Delta t} + O(\\Delta t^2)\\textrm{ (First Order Trotter)}\\\n",
    "e^{-i\\hat{H}\\Delta t}&\\approx e^{-i\\hat{B}\\frac{\\Delta t}{2}} e^{-i\\hat{A}\\Delta t}e^{-i\\hat{B}\\frac{\\Delta t}{2}}+O(\\Delta t^3) \\textrm{ (Second Order Trotter)}\n",
    "\\end{align}"
   ]
  },
  {
   "cell_type": "code",
   "execution_count": null,
   "metadata": {},
   "outputs": [],
   "source": [
    "def create_initial_state(qr, cr):\n",
    "    '''\n",
    "    Creates the initial state for the experiment.\n",
    "    Here we would like to prepare the |+>|+>|+>|+> state.\n",
    "    '''\n",
    "    circ = qk.QuantumCircuit(qr, cr)\n",
    "    [circ.h(qr[i]) for i in range(qr.size)]\n",
    "    return circ\n",
    "\n",
    "\n",
    "def rxx(circ, θx, q1, q2):\n",
    "    '''\n",
    "    Implements the exp(-i theta/2 sx_1 sx_2) gate.\n",
    "    '''\n",
    "    circ.cx(q1, q2)\n",
    "    circ.rx(θx, q1)\n",
    "    circ.cx(q1, q2)\n",
    "    return circ\n",
    "\n",
    "\n",
    "def first_order_Trotter_unitary(circ, Δt, barrier=False):\n",
    "    '''\n",
    "    Applies a Unitary for a single time step U(Δt) using first-order trotter expansion to the input quantum circuit.\n",
    "    input : circ is a quantum circuit\n",
    "    output : circ-U(Δt)-\n",
    "    '''\n",
    "    # Layer A: coupling XX between n and n+1\n",
    "    # Induce parallel CR gates\n",
    "    if barrier:\n",
    "        circ.barrier()\n",
    "    for p in range(0, circ.num_qubits - 1, 2):\n",
    "        circ = rxx(circ, Jx * Δt, circ.qubits[p], circ.qubits[p + 1])\n",
    "    if barrier:\n",
    "        circ.barrier()\n",
    "    for p in range(1, circ.num_qubits - 1, 2):\n",
    "        circ = rxx(circ, Jx * Δt, circ.qubits[p], circ.qubits[p + 1])\n",
    "\n",
    "    #  Alt., a naive loop will apply XX rotations sequentially, failing to stack.\n",
    "    # for p in range(0, circ.num_qubits - 1):\n",
    "    #     circ = rxx(circ, Jx * Δt, circ.qubits[p], circ.qubits[p + 1])\n",
    "\n",
    "    # Layer B: on-site Z\n",
    "    for p in range(circ.num_qubits):    \n",
    "        circ.rz(hz*Δt, circ.qubits[p])\n",
    "\n",
    "    return circ\n",
    "\n",
    "\n",
    "def second_order_Trotter_unitary(circ, Δt):\n",
    "    '''\n",
    "    Applies a Unitary for a single time step U(Δt) using second-order trotter expansion to the input quantum circuit.\n",
    "    input : circ is a quantum circuit\n",
    "    output : circ-U(Δt)-\n",
    "    '''\n",
    "    # Layer 2: on-site Z (half)\n",
    "    for p in range(circ.num_qubits):\n",
    "        circ.rz(hz * Δt / 2, circ.qubits[p])\n",
    " \n",
    "    # Layer 1: coupling XX between n and n+1\n",
    "    # Induce parallel structure (and symmetry)\n",
    "    for p in range(1, circ.num_qubits - 1, 2):\n",
    "        circ = rxx(circ, Jx * Δt / 2, circ.qubits[p], circ.qubits[p+1])\n",
    "    # NOTE: Add barriers to separate the parallel section\n",
    "    circ.barrier()\n",
    "    for p in range(0, circ.num_qubits - 1, 2):\n",
    "        circ = rxx(circ, Jx * Δt, circ.qubits[p], circ.qubits[p+1])\n",
    "    circ.barrier()\n",
    "    for p in range(1, circ.num_qubits - 1, 2):\n",
    "        circ = rxx(circ, Jx * Δt / 2, circ.qubits[p], circ.qubits[p+1])\n",
    "\n",
    "    # Layer 2: on-site Z (half)\n",
    "    for p in range(circ.num_qubits):\n",
    "        circ.rz(hz * Δt / 2, circ.qubits[p])\n",
    "    return circ"
   ]
  },
  {
   "cell_type": "code",
   "execution_count": null,
   "metadata": {},
   "outputs": [],
   "source": [
    "qr = qk.QuantumRegister(N)\n",
    "cr = qk.ClassicalRegister(N)\n",
    "circ = create_initial_state(qr, cr)\n",
    "circ.barrier()\n",
    "circ = first_order_Trotter_unitary(circ, Δt)\n",
    "circ.barrier()\n",
    "# circ.measure(qr, cr)\n",
    "circ.draw('mpl')"
   ]
  },
  {
   "cell_type": "markdown",
   "metadata": {},
   "source": [
    "# Transpiler & scheduler\n",
    "-----\n",
    "\n",
    "Make a pass to get gate times."
   ]
  },
  {
   "cell_type": "code",
   "execution_count": null,
   "metadata": {},
   "outputs": [],
   "source": [
    "# transp_circ = qk.transpiler.passes.RemoveBarriers()(circ)\n",
    "basis_gates = ['rz','x','sx', 'ecr', 'id']\n",
    "transp_circ = circ\n",
    "transp_circ  = qk.transpiler.passes.RemoveBarriers()(transp_circ)\n",
    "transp_circ = qk.transpile(\n",
    "    transp_circ,\n",
    "    backend,\n",
    "    basis_gates=basis_gates,\n",
    "    optimization_level=1\n",
    ")\n",
    "transp_circ  = qk.transpiler.passes.RemoveBarriers()(transp_circ)\n",
    "# transp_circ.draw('mpl')\n",
    "\n",
    "ns = 1e-9\n",
    "instruction_durations = qk.transpiler.InstructionDurations(\n",
    "    [('rz', None, 0 * ns, 's'),\n",
    "    ('x', None, 30 * ns, 's'),\n",
    "    ('id', None, 30 * ns, 's'),\n",
    "    ('ecr', None, 150 * ns, 's'),\n",
    "    ('sx', None, 30 * ns, 's'),\n",
    "    (\"reset\", None, 1500 * ns, 's'),\n",
    "    (\"measure\", None, 1500 * ns, 's')],\n",
    "    dt = ns\n",
    ")\n",
    "\n",
    "# dd_sequence = [qk.circuit.library.XGate(), qk.circuit.library.XGate()]\n",
    "pm = qk.transpiler.PassManager(\n",
    "    [qk.transpiler.passes.ASAPScheduleAnalysis(instruction_durations)],\n",
    "    #  qk.transpiler.passes.PadDynamicalDecoupling(instruction_durations, dd_sequence)]\n",
    ")\n",
    "pm_circ = pm.run(transp_circ)\n",
    "pm_circ.duration = 1_000 # dt\n",
    "\n",
    "qk.visualization.timeline.draw(\n",
    "    pm_circ,\n",
    "    # style=qk.visualization.timeline.IQXSimple()\n",
    ")"
   ]
  },
  {
   "cell_type": "markdown",
   "metadata": {},
   "source": [
    "Compare to the actual qiskit schedule."
   ]
  },
  {
   "cell_type": "code",
   "execution_count": null,
   "metadata": {},
   "outputs": [],
   "source": [
    "sched_circ = qk.schedule(qk.transpile(circ, backend), backend, method='alap')\n",
    "# sched_circ.draw()\n",
    "sched_circ.filter(channels=[qk.pulse.DriveChannel(i) for i in range(5)] + [qk.pulse.ControlChannel(i) for i in range(5)]).draw()"
   ]
  },
  {
   "cell_type": "markdown",
   "metadata": {},
   "source": [
    "# Simulator\n",
    "-----\n",
    "\n",
    "- Gates are applied to qubit registers. \n",
    "- A qubit register is attached to a circuit. \n",
    "- Each gate has a pulse implementation which it applies to a qubit or pair of qubits using \n",
    "a qubit model(s).\n",
    "- We construct models from qubit registers and attach pulses to register\n",
    "channels. \n",
    "- Virtual Z's are applied to set the correct carrier offset as a separate\n",
    " operation."
   ]
  },
  {
   "cell_type": "code",
   "execution_count": null,
   "metadata": {},
   "outputs": [],
   "source": [
    "# configure jax to use 64 bit mode\n",
    "import jax\n",
    "jax.config.update(\"jax_enable_x64\", True)\n",
    "\n",
    "# tell JAX we are using CPU\n",
    "jax.config.update('jax_platform_name', 'cpu')\n",
    "\n",
    "# set default backend\n",
    "qk_d.array.Array.set_default_backend('jax')\n",
    "qk_d.array.Array.default_backend()"
   ]
  },
  {
   "cell_type": "code",
   "execution_count": null,
   "metadata": {},
   "outputs": [],
   "source": [
    "import sys\n",
    "sys.path.append(\"../\")\n",
    "import pulse_simulator as ps"
   ]
  },
  {
   "cell_type": "code",
   "execution_count": null,
   "metadata": {},
   "outputs": [],
   "source": [
    "importlib.reload(ps)"
   ]
  },
  {
   "cell_type": "markdown",
   "metadata": {},
   "source": [
    "## Qiskit model"
   ]
  },
  {
   "cell_type": "code",
   "execution_count": null,
   "metadata": {},
   "outputs": [],
   "source": [
    "## The next cells are the output of:\n",
    "# backend.configuration().hamiltonian\n",
    "\n",
    "## Most parameters live in ...\n",
    "# configuration = backend.configuration()\n",
    "# properties = backend.properties()"
   ]
  },
  {
   "cell_type": "markdown",
   "metadata": {},
   "source": [
    "\\begin{align} \\mathcal{H}/\\hbar = & \\sum_{i=0}^{4}\\left(\\frac{\\omega_{q,i}}{2}(\\mathbb{I}-\\sigma_i^{z})+\\frac{\\Delta_{i}}{2}(O_i^2-O_i)+\\Omega_{d,i}D_i(t)\\sigma_i^{X}\\right) \\\\ & + J_{0,1}(\\sigma_{0}^{+}\\sigma_{1}^{-}+\\sigma_{0}^{-}\\sigma_{1}^{+}) + J_{1,2}(\\sigma_{1}^{+}\\sigma_{2}^{-}+\\sigma_{1}^{-}\\sigma_{2}^{+}) + J_{2,3}(\\sigma_{2}^{+}\\sigma_{3}^{-}+\\sigma_{2}^{-}\\sigma_{3}^{+}) + J_{3,4}(\\sigma_{3}^{+}\\sigma_{4}^{-}+\\sigma_{3}^{-}\\sigma_{4}^{+}) \\\\ & + \\Omega_{d,0}(U_{0}^{(0,1)}(t))\\sigma_{0}^{X} + \\Omega_{d,1}(U_{1}^{(1,0)}(t)+U_{2}^{(1,2)}(t))\\sigma_{1}^{X} \\\\ & + \\Omega_{d,2}(U_{3}^{(2,1)}(t)+U_{4}^{(2,3)}(t))\\sigma_{2}^{X} + \\Omega_{d,3}(U_{6}^{(3,4)}(t)+U_{5}^{(3,2)}(t))\\sigma_{3}^{X} \\\\ & + \\Omega_{d,4}(U_{7}^{(4,3)}(t))\\sigma_{4}^{X} \\\\ \\end{align}"
   ]
  },
  {
   "cell_type": "markdown",
   "metadata": {},
   "source": [
    "Qubits are modeled as Duffing oscillators. In this case, the system includes higher energy states, i.e. not just |0> and |1>. The Pauli operators are generalized via the following set of transformations:\n",
    "\n",
    "$(\\mathbb{I}-\\sigma_{i}^z)/2 \\rightarrow O_i \\equiv b^\\dagger_{i} b_{i}$\n",
    "\n",
    "$\\sigma_{+} \\rightarrow b^\\dagger$,\n",
    "\n",
    "$\\sigma_{-} \\rightarrow b$\n",
    "\n",
    "$\\sigma_{i}^X \\rightarrow b^\\dagger_{i} + b_{i}$.\n",
    "\n",
    "Qubits are coupled through resonator buses. The provided Hamiltonian has been projected into the zero excitation subspace of the resonator buses leading to an effective qubit-qubit flip-flop interaction. The qubit resonance frequencies in the Hamiltonian are the cavity dressed frequencies and not exactly what is returned by the backend defaults, which also includes the dressing due to the qubit-qubit interactions.\n",
    "\n",
    "Quantities are returned in angular frequencies, with units $2\\pi$ GHz.\n",
    "\n",
    "WARNING: Currently not all system Hamiltonian information is available to the public, missing values have been replaced with 0."
   ]
  },
  {
   "cell_type": "markdown",
   "metadata": {},
   "source": [
    "## Device set up"
   ]
  },
  {
   "cell_type": "markdown",
   "metadata": {},
   "source": [
    "__Comment on backends, circuits and registers (design choice):__\n",
    "We want to simulate a circuit in a minimal way. Crosstalk prevents us from \n",
    "cutting up the circuit because everything is connected.\n",
    "\n",
    "To handle qubit containers, there is both the backend and the circuit. I am\n",
    "using the register to hold qubits that should be simulated. I use the backend\n",
    "for parameters and anything else. I think the circuit should not be involved\n",
    "in making the device model.\n",
    "\n",
    "NOTE: Once a circuit is transpiled to a backend, the circuit qubits and the\n",
    "backend qubits should be the same thing. There should be no difference in one\n",
    "container over the other.\n",
    "\n",
    "__Comment on variables:__\n",
    "I am using the backend Hamiltonian to provide the variables of the simulator.\n",
    "There are a few modifications that I am making. I also want the ability to\n",
    "edit this dictionary manually, so I do not use the backend to get variables\n",
    "when making Hamiltonians for the pulse simulator."
   ]
  },
  {
   "cell_type": "code",
   "execution_count": null,
   "metadata": {},
   "outputs": [],
   "source": [
    "# Initialize device\n",
    "# =====\n",
    "# Undo units\n",
    "units = 1e9\n",
    "GHz = 1/units\n",
    "ns = units\n",
    "\n",
    "dt = backend.configuration().dt * ns  \n",
    "duration = 220 * dt  # ns\n",
    "\n",
    "registers = [0, 1, 2, 3]  # TODO: Active registers\n",
    "\n",
    "# Variables\n",
    "# NOTE: If the Rabi rates are different, you have to calibrate!\n",
    "config_vars = ps.backend_simulation_vars(backend, rabi=False, units=units)\n",
    "\n",
    "# Carrier frequencies of each control line\n",
    "carriers = ps.backend_carriers(backend, config_vars)\n",
    "\n",
    "config_vars"
   ]
  },
  {
   "cell_type": "markdown",
   "metadata": {},
   "source": [
    "Here is a demo of crosstalk."
   ]
  },
  {
   "cell_type": "code",
   "execution_count": null,
   "metadata": {},
   "outputs": [],
   "source": [
    "for edge in ps.backend_edges(backend):\n",
    "    print(f\"{edge}: {ps.zz_coupling(edge, config_vars)}\")"
   ]
  },
  {
   "cell_type": "code",
   "execution_count": null,
   "metadata": {},
   "outputs": [],
   "source": [
    "g = ps.backend_edges(backend)\n",
    "print(g)\n",
    "\n",
    "fig, ax = plt.subplots(figsize=[2,2])\n",
    "ax.imshow(np.abs(ps.crosstalk_model([1, 2], g, config_vars)))"
   ]
  },
  {
   "cell_type": "markdown",
   "metadata": {},
   "source": [
    "The next cell defines a toy pulse.\n",
    "\n",
    "\n",
    "NOTE:   Careful with steps vs. durations in qiskit pulses! \n",
    "        They must be integers or you get an UnassignedDurationError."
   ]
  },
  {
   "cell_type": "markdown",
   "metadata": {},
   "source": [
    "This $f(x)$ is the \"Gaussian\" that Qiskit uses?\n",
    "\\begin{align}\n",
    "    g(x) &= \\exp\\Bigl( -\\frac12 \\frac{{(x - \\text{duration}/2)}^2}{\\text{sigma}^2} \\Bigr)\\\\\n",
    "    f(x) &= \\text{amp} \\times \\frac{g(x) - g(-1)}{1-g(-1)}, \\quad 0 \\le x < \\text{duration}\n",
    "\\end{align}\n",
    "\n",
    "https://qiskit.org/documentation/_modules/qiskit/pulse/library/parametric_pulses.html#Gaussian\n",
    "https://qiskit.org/documentation/_modules/qiskit/pulse/library/symbolic_pulses.html"
   ]
  },
  {
   "cell_type": "code",
   "execution_count": null,
   "metadata": {},
   "outputs": [],
   "source": [
    "def gaussian(x, mu=0, sigma=1):\n",
    "    return np.exp(-(x - mu)**2 / 2 / sigma**2)\n",
    "\n",
    "\n",
    "def lifted_gaussian(x, mu, sigma):\n",
    "    g = functools.partial(gaussian, mu=mu, sigma=sigma)\n",
    "    return (g(x) - g(-1)) / (1 - g(-1))\n",
    "\n",
    "\n",
    "def gaussian_envelope(dt, duration, angle=np.pi):\n",
    "    \"\"\" Define gaussian envelope function to accumulate the angle.\n",
    "\n",
    "    TODO: Rabi?\n",
    "\n",
    "    Returns:\n",
    "        Qiskit pulse implementing angle.\n",
    "    \"\"\"\n",
    "    steps = int(duration / dt)\n",
    "\n",
    "    # Arbitrary shape\n",
    "    # NOTE: Qiskit doesn't like pulse amplitudes > 1. Widen to avoid this.\n",
    "    sigma = steps / 4\n",
    "    mu = steps / 2\n",
    "\n",
    "    # Integral\n",
    "    x = np.linspace(0, steps, endpoint=True)\n",
    "    area = np.trapz(lifted_gaussian(x, mu, sigma), x)\n",
    "\n",
    "    # I have no idea what is going on here (amplitude = angle / area ?)\n",
    "    mystery_factory = 0.6982\n",
    "    amplitude = angle / area * (np.pi / mystery_factory)\n",
    "\n",
    "    # Adjust the amplitude to achieve the angle\n",
    "    return qk.pulse.Gaussian(steps, amplitude, sigma)"
   ]
  },
  {
   "cell_type": "markdown",
   "metadata": {},
   "source": [
    "### Checking the confusing calibration"
   ]
  },
  {
   "cell_type": "code",
   "execution_count": null,
   "metadata": {},
   "outputs": [],
   "source": [
    "g = gaussian_envelope(dt, duration, angle=np.pi)\n",
    "g.draw()"
   ]
  },
  {
   "cell_type": "code",
   "execution_count": null,
   "metadata": {},
   "outputs": [],
   "source": [
    "wave = g.get_waveform().samples.real\n",
    "np.trapz(wave, dx=dt)"
   ]
  },
  {
   "cell_type": "markdown",
   "metadata": {},
   "source": [
    "Trying to find an equivalent pulse."
   ]
  },
  {
   "cell_type": "code",
   "execution_count": null,
   "metadata": {},
   "outputs": [],
   "source": [
    "steps = int(duration / dt)\n",
    "mu = duration / 2\n",
    "sigma = duration / 5\n",
    "\n",
    "x = np.linspace(0, duration, steps)\n",
    "area = np.trapz(lifted_gaussian(x, mu=mu, sigma=sigma), x)\n",
    "amplitude = np.pi / area\n",
    "\n",
    "# Check\n",
    "y = lifted_gaussian(x, mu=mu, sigma=sigma)\n",
    "np.trapz(amplitude * y, dx=dt)"
   ]
  },
  {
   "cell_type": "markdown",
   "metadata": {},
   "source": [
    "No idea how to compare the plots..."
   ]
  },
  {
   "cell_type": "code",
   "execution_count": null,
   "metadata": {},
   "outputs": [],
   "source": [
    "fig, ax = plt.subplots()\n",
    "ax.plot(x / dt, wave, label=\"Qiskit\")\n",
    "ax.plot(x / dt, y * dt, label=\"Numpy\")\n",
    "ax.legend()"
   ]
  },
  {
   "cell_type": "markdown",
   "metadata": {},
   "source": [
    "## Single qubit moment\n",
    "\n",
    "There are two separate functionalities: models and pulses."
   ]
  },
  {
   "cell_type": "markdown",
   "metadata": {},
   "source": [
    "### Pulses\n",
    "Pulses will need to be define for each moment of the circuit. They will depend\n",
    "on the gate"
   ]
  },
  {
   "cell_type": "markdown",
   "metadata": {},
   "source": [
    "Our simulation is not going to be continuous across moments. I am not sure that I want to be keeping track of the carry for the virtual Z gates. Plus, I am not sure how to handle the virtual Z for the two qubit gates when the CR interaction is not block diagonal. (In particular, if we use a Hamiltonian for the CR drive that includes XI, which phase does XI pick up? The control line phase because the X operator acts on the control qubit? Or the target line phase because the cross-resonance drive is being carried by the target line.)\n",
    "\n",
    "To get out from under this, we will just apply Z gates directly without any pulse synthesis and pretend we are handling virtual Z's."
   ]
  },
  {
   "cell_type": "code",
   "execution_count": null,
   "metadata": {},
   "outputs": [],
   "source": [
    "# Choose gates from the circuit\n",
    "# ======\n",
    "\"\"\"\n",
    "NOTE:   Virtual Zs are attached to each qubit line. These are not quite \n",
    "        how they'd be implemented in software?\n",
    "\"\"\"\n",
    "virtual_zs = {\n",
    "    0: np.pi / 2,\n",
    "    1: 0.,\n",
    "    2: np.pi / 2,\n",
    "    3: 0.\n",
    "}\n",
    "\n",
    "gates = {\n",
    "    0: \"sx_red\",\n",
    "    1: \"sx_red\",\n",
    "    2: \"sx_red\",\n",
    "    3: \"sx_red\"\n",
    "}\n",
    "\n",
    "# Lookup table\n",
    "# =====\n",
    "# should also include \"sx_blue\", \"x_blue\"\n",
    "gate_lookup = {\n",
    "    \"sx_red\": gaussian_envelope(dt, duration, angle=np.pi/4),\n",
    "    \"x_red\": gaussian_envelope(dt, duration, angle=np.pi/2)\n",
    "}\n",
    "\n",
    "# Design pulse schedule\n",
    "# =====\n",
    "with qk.pulse.build(name=\"Current moment\") as pulse_moment:\n",
    "    for i, gate in gates.items():\n",
    "        channel = qk.pulse.DriveChannel(i)\n",
    "        # NOTE:     Shift phase will adjust the carry and future gates. \n",
    "        #           Restricted to the current moment, it should be the same as \n",
    "        #           a zero time R_Z gate.\n",
    "        qk.pulse.shift_phase(virtual_zs[i], channel)\n",
    "        qk.pulse.play(gate_lookup[gate], channel)"
   ]
  },
  {
   "cell_type": "markdown",
   "metadata": {},
   "source": [
    "### Models"
   ]
  },
  {
   "cell_type": "markdown",
   "metadata": {},
   "source": [
    "We operate in the frame rotating with each qubit, and we assume that we induce dynamics which are given by an effective model. This effective model has an always-on $ZZ$ coupling,\n",
    "\\begin{equation}\n",
    "    J^2 \\left(\\frac{1}{\\Delta + \\alpha}- \\frac{1}{\\Delta - \\alpha} \\right) ZZ\n",
    "\\end{equation}"
   ]
  },
  {
   "cell_type": "code",
   "execution_count": null,
   "metadata": {},
   "outputs": [],
   "source": [
    "# Define models fixed by the current parameters\n",
    "# =====\n",
    "H_rx = functools.partial(\n",
    "    ps.rx_model, \n",
    "    registers=registers,\n",
    "    backend=backend,\n",
    "    variables=config_vars,\n",
    "    rotating_frame=True,\n",
    ")\n",
    "\n",
    "A_decay = functools.partial(\n",
    "    ps.qubit_decay_model,\n",
    "    registers=registers, \n",
    "    variables=config_vars\n",
    ")\n",
    "\n",
    "\n",
    "H_xtalk = ps.crosstalk_model(\n",
    "    registers,\n",
    "    ps.backend_edges(backend),\n",
    "    config_vars\n",
    ")"
   ]
  },
  {
   "cell_type": "code",
   "execution_count": null,
   "metadata": {},
   "outputs": [],
   "source": [
    "# Create a system model\n",
    "# =====\n",
    "# Control model\n",
    "#   Single qubit circuit moment: attach RX models to each qubit\n",
    "H_drift = 0.\n",
    "Hs_control = []\n",
    "Hs_channels = []\n",
    "As_static = []\n",
    "for qubit, label in gates.items():\n",
    "    \n",
    "    # if qubit_index in registers:\n",
    "    Hj_drift, Hjs_control, Hjs_channel = H_rx(qubit)\n",
    "\n",
    "    # NOTE: doesn't work with quantum channel simulator yet\n",
    "    Ajs_static = A_decay(qubit)\n",
    "\n",
    "    H_drift += Hj_drift\n",
    "    Hs_control += Hjs_control\n",
    "    Hs_channels += Hjs_channel\n",
    "    As_static += Ajs_static\n",
    "\n",
    "# Construct the solver\n",
    "# NOTE: no rotating frames for now\n",
    "# =====\n",
    "solver = qk_d.Solver(\n",
    "    static_hamiltonian=H_xtalk,\n",
    "    hamiltonian_operators=Hs_control,\n",
    "    static_dissipators=None,\n",
    "    rotating_frame=None,\n",
    "    rwa_cutoff_freq=None,\n",
    "    hamiltonian_channels=Hs_channels,\n",
    "    channel_carrier_freqs={ch: 0. for ch in Hs_channels},\n",
    "    dt=dt\n",
    ")\n",
    "\n",
    "# solver = qk_d.Solver(\n",
    "#     static_hamiltonian=H_drift, # + H_xtalk,\n",
    "#     hamiltonian_operators=Hs_control,\n",
    "#     static_dissipators=None, # As_static if len(As_static) > 0 else None,\n",
    "#     rotating_frame=H_drift,\n",
    "#     rwa_cutoff_freq=2 * max(carriers.values()),\n",
    "#     hamiltonian_channels=Hs_channels,\n",
    "#     channel_carrier_freqs=carriers,\n",
    "#     dt=dt\n",
    "# )"
   ]
  },
  {
   "cell_type": "markdown",
   "metadata": {},
   "source": [
    "### Solve the model + pulse"
   ]
  },
  {
   "cell_type": "markdown",
   "metadata": {},
   "source": [
    "Solve three ways\n",
    "1. State vector sim (sparse)\n",
    "2. Unitary sim\n",
    "3. Channel sim (not working)\n",
    "\n",
    "- The job of constructing and running this circuit moment is to give you a final unitary at the end.\n",
    "- If there is dissipation, you will need a final channel. This requires a superoperator representation of the initial unitiary. The channel can then be returned. This turns out to be very slow. How can I fix it?\n",
    "- We will combine these final unitaries or channels into a list of moments. We will combine those moments to achieve a simulation. This should be possible in Qiskit using the evolve functionality, even if we have different representations for each moment (channel, unitary)."
   ]
  },
  {
   "cell_type": "code",
   "execution_count": null,
   "metadata": {},
   "outputs": [],
   "source": [
    "# Start the qubit in its ground state.\n",
    "y0 = qk.quantum_info.states.Statevector(\n",
    "    functools.reduce(\n",
    "        np.kron, \n",
    "        np.repeat([[1, 0]], len(registers), axis=0)\n",
    "    )\n",
    ")\n",
    "\n",
    "# Identity matrix\n",
    "id_label = ''.join(['I'] * len(registers))\n",
    "U0 = qk.quantum_info.Operator.from_label(id_label)\n",
    "\n",
    "# NOTE: Unsure if correct\n",
    "# Identity channel\n",
    "C0 = qk.quantum_info.SuperOp(U0)"
   ]
  },
  {
   "cell_type": "code",
   "execution_count": null,
   "metadata": {},
   "outputs": [],
   "source": [
    "# Unitary or channel sim.\n",
    "# NOTE: Bug when solving vectorized problems\n",
    "if False: #len(As_static) > 0:\n",
    "    solver.model.evaluation_mode = 'sparse_vectorized'\n",
    "    sol = solver.solve(\n",
    "        t_span=[0., duration], \n",
    "        y0=C0, \n",
    "        signals=pulse_moment,\n",
    "        atol=1e-8,\n",
    "        rtol=1e-8,\n",
    "        method='jax_odeint'\n",
    "    )\n",
    "\n",
    "else:\n",
    "    solver.model.evaluation_mode = 'sparse'\n",
    "    sol = solver.solve(\n",
    "        t_span=[0., duration],\n",
    "        y0=U0, \n",
    "        signals=pulse_moment,\n",
    "        atol=1e-8, \n",
    "        rtol=1e-8,\n",
    "        method='jax_odeint'\n",
    "    )\n",
    "\n",
    "# Sparse state vector sim\n",
    "solver.model.evaluation_mode = 'sparse'\n",
    "\n",
    "sol1 = solver.solve(\n",
    "    t_span=[0., duration],\n",
    "    y0=y0,\n",
    "    signals=pulse_moment,\n",
    "    atol=1e-8,\n",
    "    rtol=1e-8,\n",
    "    method='jax_odeint'\n",
    ")\n"
   ]
  },
  {
   "cell_type": "code",
   "execution_count": null,
   "metadata": {},
   "outputs": [],
   "source": [
    "basis = ps.hilbert_space_basis([2] * len(transp_circ.qubits))\n",
    "\n",
    "# Check final states\n",
    "yf1 = sol1.y[-1]\n",
    "y_after_1qb_moment = yf1\n",
    "\n",
    "Uf = sol.y[-1]\n",
    "yf = y0.evolve(Uf)\n",
    "\n",
    "# Compare\n",
    "print(f\"Are equal? {yf1 == yf}\\n\")\n",
    "print(f\"Are close? ||y1 - y2|| = {np.linalg.norm(yf1 - yf)}\\n\")\n",
    "\n",
    "# States\n",
    "ps.print_wavefunction(yf, basis)\n",
    "print()\n",
    "\n",
    "# ps.print_wavefunction(yf1, basis)"
   ]
  },
  {
   "cell_type": "code",
   "execution_count": null,
   "metadata": {},
   "outputs": [],
   "source": [
    "fig, ax = plt.subplots(figsize=[2,2])\n",
    "ax.axis('off')\n",
    "ax.imshow(np.abs(Uf))"
   ]
  },
  {
   "cell_type": "markdown",
   "metadata": {},
   "source": [
    "### Aside: Plot pulses"
   ]
  },
  {
   "cell_type": "code",
   "execution_count": null,
   "metadata": {},
   "outputs": [],
   "source": [
    "\"\"\"\n",
    "- Signals are ordered by the channels of the pulse schedule.\n",
    "- From the documentation: \"Instances of ScheduleBlock must first be converted \n",
    "to Schedule using the block_to_schedule() function in Qiskit Pulse.\" This can\n",
    "be accomplished with `qk.pulse.transforms.block_to_schedule(moment)`.\n",
    "\n",
    "I didn't see that begin necessary currently.\n",
    "\"\"\";\n",
    "\n",
    "converter = qk_d.pulse.InstructionToSignals(dt, carriers=carriers)\n",
    "signals = converter.get_signals(pulse_moment)\n",
    "\n",
    "# TODO: probably a better way to set duration\n",
    "\n",
    "fig, ax = ps.plot_pulse_schedule(\n",
    "    signals, \n",
    "    pulse_moment, \n",
    "    duration=pulse_moment.duration / 4,\n",
    "    figsize=[8, 6]\n",
    ")\n",
    "fig.tight_layout()"
   ]
  },
  {
   "cell_type": "markdown",
   "metadata": {},
   "source": [
    "## Two qubit moment"
   ]
  },
  {
   "cell_type": "markdown",
   "metadata": {},
   "source": [
    "__Unnamed model:__\n",
    "Coupling in the lab frame:\n",
    "\\begin{equation}\n",
    "    H^\\text{lab}_J = J \\left( (\\sigma^{(1)}_+ + \\sigma^{(1)}_-)(\\sigma^{(2)}_+ + \\sigma^{(2)}_-)\\right) = J X X\n",
    "\\end{equation}\n",
    "\n",
    "Making the rotating wave approximation (even without changing frames):\n",
    "\\begin{equation}\n",
    "    H_J = J\\left(\\sigma^{(1)}_+ \\sigma^{(2)}_- + \\sigma^{(1)}_- \\sigma^{(2)}_+ \\right) = \\frac{J}{2}(XX + YY)\n",
    "\\end{equation}\n",
    "\n",
    "We can use this coupling to dress the qubit energies. This means changing to the\n",
    "eigenbasis of the static Hamiltonian, so\n",
    "\\begin{equation}\n",
    "    H_S = H_Q + H_J \\rightarrow H_S W = W D \\rightarrow H_S = W D W^\\dag\n",
    "\\end{equation}\n",
    "\n",
    "Then, we can make the same frame change to the Hamiltonian of the drive on the control\n",
    "\\begin{equation} \n",
    "    \\Omega_T(t) XI \\rightarrow  \\Omega_T(t) W^\\dag XI W\n",
    "\\end{equation}\n",
    "\n",
    "... missing step...\n",
    "\n",
    "\\begin{equation}\n",
    "    H_D(t) = \\Omega_T(t) \\left( XI - \\frac{J}{\\Delta_{12}} ZX \\right)\n",
    "\\end{equation}\n",
    "\n",
    "-----\n",
    "\n",
    "__SWPT model:__\n",
    "The drives, to first order (assuming adiabatic drives),\n",
    "\\begin{equation}\n",
    "   \\frac{1}{2}\\left(\\frac{1}{2(\\Delta + \\alpha)}- \\frac{1}{2 \\Delta} \\right) \\Omega^2_C(t) ZI + \\left(\\Omega_T(t) + \\frac{J}{\\Delta + \\alpha} \\Omega_C(t) \\right) IX + \\left(\\frac{J}{\\Delta + \\alpha} - \\frac{J}{\\Delta} \\right) \\Omega_C(t) ZX\n",
    "\\end{equation}\n",
    "or\n",
    "\\begin{equation}\n",
    "   \\frac{1}{2}\\left(\\frac{1}{2(\\Delta + \\alpha)} - \\frac{1}{2 \\Delta} \\right) \\Omega^2_C(t) ZI + \\Omega_T(t) IX + \\frac{J}{\\Delta + \\alpha} \\left( IX - \\frac{\\alpha}{\\Delta}ZX \\right)  \\Omega_C(t) \n",
    "\\end{equation}\n",
    "\n",
    "We don't care about the phase coming from ZI. Then, \n",
    "\\begin{equation}\n",
    "    H_\\text{eff}(t) = \\Omega_T(t) IX + \\frac{J}{\\Delta + \\alpha} \\left( IX - \\frac{\\alpha}{\\Delta}ZX \\right)  \\Omega_C(t) \n",
    "\\end{equation}\n",
    "\n",
    "The effect of virtual Z's should simply change the action of the control drive to be $\\cos(\\phi)IX + \\sin(\\phi)IX$ and $\\cos(\\phi)ZX + \\sin(\\phi)ZY$, and this can be accomplished with shift phase like for the $X$ gate.\n",
    "\n"
   ]
  },
  {
   "cell_type": "code",
   "execution_count": null,
   "metadata": {},
   "outputs": [],
   "source": [
    "# Choose gates\n",
    "# ======\n",
    "virtual_zs = {\n",
    "    0: 0,\n",
    "    1: np.pi / 2,\n",
    "    2: 0.,\n",
    "    3: np.pi / 2\n",
    "}\n",
    "\n",
    "gates = {\n",
    "    (0,1): \"zx_red\",\n",
    "    (2,3): \"zx_red\",\n",
    "}\n",
    "\n",
    "control_gate_lookup = {\n",
    "    \"zx_red\": gaussian_envelope(dt, duration, angle=np.pi/2),\n",
    "}\n",
    "target_gate_lookup = {\n",
    "    \"zx_red\": gaussian_envelope(dt, duration, angle=np.pi/2),\n",
    "}\n",
    "\n",
    "# Design pulse schedule\n",
    "# =====\n",
    "with qk.pulse.build(name=\"Two moment\") as two_pulse_moment:\n",
    "    for (c, t), gate in gates.items():\n",
    "        control_channel = ps.get_control_channel(c, t, backend)\n",
    "        target_channel = ps.get_drive_channel(t, backend)\n",
    "\n",
    "        # Probably replace Virtual Z => Zero time Rz gate\n",
    "        for i in virtual_zs.items():\n",
    "            if i == c:\n",
    "                qk.pulse.shift_phase(virtual_zs[i], control_channel)\n",
    "            elif i == t:\n",
    "                qk.pulse.shift_phase(virtual_zs[i], target_channel)\n",
    "\n",
    "        # Pulses must work together\n",
    "        qk.pulse.play(control_gate_lookup[gate], control_channel)\n",
    "        qk.pulse.play(target_gate_lookup[gate], target_channel)"
   ]
  },
  {
   "cell_type": "code",
   "execution_count": null,
   "metadata": {},
   "outputs": [],
   "source": [
    "# Create a system model\n",
    "# =====\n",
    "\n",
    "# Partially compile to get this circuit's gates\n",
    "cr_model = functools.partial(\n",
    "    ps.cross_resonance_model,\n",
    "    registers=registers,\n",
    "    backend=backend,\n",
    "    variables=config_vars, \n",
    ")\n",
    "\n",
    "\n",
    "# Control model\n",
    "H_drift = 0.\n",
    "Hs_control = []\n",
    "Hs_channels = []\n",
    "for (control, target), label in gates.items():\n",
    "    Hj_drift, Hjs_control, Hjs_channel = cr_model((control, target))\n",
    "    H_drift += Hj_drift\n",
    "    Hs_control += Hjs_control\n",
    "    Hs_channels += Hjs_channel\n",
    "    \n",
    "# Construct the solver\n",
    "# =====\n",
    "\"\"\"\n",
    "Simulating the effective model, therefore the drift\n",
    "is ZZ crosstalk, and there is no rotating frame.\n",
    "\n",
    "Use the crosstalk computed perviously.\n",
    "\"\"\"\n",
    "solver = qk_d.Solver(\n",
    "    static_hamiltonian=None, #H_xtalk,\n",
    "    hamiltonian_operators=Hs_control,\n",
    "    static_dissipators=None,\n",
    "    rotating_frame=None,\n",
    "    rwa_cutoff_freq=None,\n",
    "    hamiltonian_channels=Hs_channels,\n",
    "    channel_carrier_freqs={ch: 0. for ch in Hs_channels},\n",
    "    dt=dt\n",
    ")"
   ]
  },
  {
   "cell_type": "code",
   "execution_count": null,
   "metadata": {},
   "outputs": [],
   "source": [
    "# Start the qubit in its ground state.\n",
    "y0 = qk.quantum_info.states.Statevector(\n",
    "    functools.reduce(\n",
    "        np.kron, \n",
    "        np.repeat([[1, 0]], len(registers), axis=0)\n",
    "    )\n",
    ")\n",
    "\n",
    "# # Start from previous moment\n",
    "# y0 = y_after_1qb_moment\n",
    "\n",
    "# Identity matrix\n",
    "id_label = ''.join(['I'] * len(registers))\n",
    "U0 = qk.quantum_info.Operator.from_label(id_label)\n",
    "\n",
    "# NOTE: Unsure if correct\n",
    "# Identity channel\n",
    "C0 = qk.quantum_info.SuperOp(U0)"
   ]
  },
  {
   "cell_type": "code",
   "execution_count": null,
   "metadata": {},
   "outputs": [],
   "source": [
    "# Unitary or channel sim.\n",
    "\n",
    "# NOTE: Bug when solving vectorized problems\n",
    "if False: #len(As_static) > 0:\n",
    "    solver.model.evaluation_mode = 'sparse_vectorized'\n",
    "    sol = solver.solve(\n",
    "        t_span=[0., duration], \n",
    "        y0=C0, \n",
    "        signals=pulse_moment,\n",
    "        atol=1e-8,\n",
    "        rtol=1e-8,\n",
    "        method='jax_odeint'\n",
    "    )\n",
    "\n",
    "else:\n",
    "    solver.model.evaluation_mode = 'sparse'\n",
    "    sol = solver.solve(\n",
    "        t_span=[0., duration],\n",
    "        y0=U0, \n",
    "        signals=pulse_moment,\n",
    "        atol=1e-8, \n",
    "        rtol=1e-8,\n",
    "        method='jax_odeint'\n",
    "    )\n",
    "\n",
    "# Sparse state vector sim\n",
    "solver.model.evaluation_mode = 'sparse'\n",
    "\n",
    "sol1 = solver.solve(\n",
    "    t_span=[0., duration],\n",
    "    y0=y0,\n",
    "    signals=pulse_moment,\n",
    "    atol=1e-8,\n",
    "    rtol=1e-8,\n",
    "    method='jax_odeint'\n",
    ")"
   ]
  },
  {
   "cell_type": "code",
   "execution_count": null,
   "metadata": {},
   "outputs": [],
   "source": [
    "basis = ps.hilbert_space_basis([2] * len(transp_circ.qubits))\n",
    "\n",
    "# Check final states\n",
    "yf1 = sol1.y[-1]\n",
    "\n",
    "Uf = sol.y[-1]\n",
    "yf = y0.evolve(Uf)\n",
    "\n",
    "# Compare\n",
    "print(f\"Are close? ||y1 - y2|| = {np.linalg.norm(yf1 - yf)}\\n\")\n",
    "\n",
    "# States\n",
    "ps.print_wavefunction(yf, basis)\n",
    "print()"
   ]
  },
  {
   "cell_type": "markdown",
   "metadata": {},
   "source": [
    "Reasonable operators?\n",
    "\n"
   ]
  },
  {
   "cell_type": "code",
   "execution_count": null,
   "metadata": {},
   "outputs": [],
   "source": [
    "fig, ax = plt.subplots(figsize=[2,2])\n",
    "ax.axis('off')\n",
    "ax.imshow(np.abs(Uf))\n",
    "\n",
    "fig, ax = plt.subplots(figsize=[2,2])\n",
    "ax.axis('off')\n",
    "ax.imshow(np.sum([\n",
    "    np.abs(expm(4 * Hs_control[i]))\n",
    "    for i in range(4)], axis=0)\n",
    ")"
   ]
  },
  {
   "cell_type": "code",
   "execution_count": null,
   "metadata": {},
   "outputs": [],
   "source": []
  },
  {
   "cell_type": "code",
   "execution_count": null,
   "metadata": {},
   "outputs": [],
   "source": []
  }
 ],
 "metadata": {
  "kernelspec": {
   "display_name": "pulse-simulator-0UjnMsVt-py3.10",
   "language": "python",
   "name": "python3"
  },
  "language_info": {
   "codemirror_mode": {
    "name": "ipython",
    "version": 3
   },
   "file_extension": ".py",
   "mimetype": "text/x-python",
   "name": "python",
   "nbconvert_exporter": "python",
   "pygments_lexer": "ipython3",
   "version": "3.10.8"
  }
 },
 "nbformat": 4,
 "nbformat_minor": 2
}
