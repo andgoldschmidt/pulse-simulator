{
 "cells": [
  {
   "cell_type": "markdown",
   "metadata": {},
   "source": [
    "# Import"
   ]
  },
  {
   "cell_type": "code",
   "execution_count": 1,
   "metadata": {},
   "outputs": [
    {
     "name": "stderr",
     "output_type": "stream",
     "text": [
      "/home/andy/.cache/pypoetry/virtualenvs/pulse-simulator-0UjnMsVt-py3.10/lib/python3.10/site-packages/qiskit_dynamics/dispatch/backends/jax.py:34: UserWarning: The functionality in the perturbation module of Qiskit Dynamics requires a JAX version <= 0.4.6, due to a bug in JAX versions > 0.4.6. For versions 0.4.4, 0.4.5, and 0.4.6, using the perturbation module functionality requires setting os.environ['JAX_JIT_PJIT_API_MERGE'] = '0' before importing JAX or Dynamics.\n",
      "  warnings.warn(\n"
     ]
    }
   ],
   "source": [
    "import functools\n",
    "import numpy as np\n",
    "from scipy.linalg import expm\n",
    "\n",
    "import qiskit as qk\n",
    "import qiskit_dynamics as qk_d\n",
    "import qiskit.providers.fake_provider as qk_fp\n",
    "\n",
    "import qutip as qt\n",
    "import matplotlib as mpl\n",
    "import matplotlib.pyplot as plt\n",
    "%matplotlib inline\n",
    "\n",
    "import importlib"
   ]
  },
  {
   "cell_type": "code",
   "execution_count": 2,
   "metadata": {},
   "outputs": [
    {
     "data": {
      "text/plain": [
       "'jax'"
      ]
     },
     "execution_count": 2,
     "metadata": {},
     "output_type": "execute_result"
    }
   ],
   "source": [
    "# configure jax to use 64 bit mode\n",
    "import jax\n",
    "jax.config.update(\"jax_enable_x64\", True)\n",
    "\n",
    "# tell JAX we are using CPU\n",
    "jax.config.update('jax_platform_name', 'cpu')\n",
    "\n",
    "# set default backend\n",
    "qk_d.array.Array.set_default_backend('jax')\n",
    "qk_d.array.Array.default_backend()"
   ]
  },
  {
   "cell_type": "code",
   "execution_count": 3,
   "metadata": {},
   "outputs": [],
   "source": [
    "import sys\n",
    "sys.path.append(\"../\")\n",
    "import pulse_simulator as ps"
   ]
  },
  {
   "cell_type": "markdown",
   "metadata": {},
   "source": [
    "# Inspect two qubit gate Hamiltonian"
   ]
  },
  {
   "cell_type": "code",
   "execution_count": 4,
   "metadata": {},
   "outputs": [
    {
     "data": {
      "text/plain": [
       "{'delta0': -0.3433479504893883,\n",
       " 'delta1': -0.34621164922105846,\n",
       " 'delta2': -0.3436602870914885,\n",
       " 'delta3': -0.34355236125476857,\n",
       " 'delta4': -0.3421076389828771,\n",
       " 'jq0q1': 0.0018852610005410154,\n",
       " 'jq1q2': 0.0019047408446458852,\n",
       " 'jq2q3': 0.00197385774088835,\n",
       " 'jq3q4': 0.0019396070264683515,\n",
       " 'omegad0': 0.15915494309189535,\n",
       " 'omegad1': 0.15915494309189535,\n",
       " 'omegad2': 0.15915494309189535,\n",
       " 'omegad3': 0.15915494309189535,\n",
       " 'omegad4': 0.15915494309189535,\n",
       " 'wq0': 4.962770879920025,\n",
       " 'wq1': 4.838412258764765,\n",
       " 'wq2': 5.036989248286842,\n",
       " 'wq3': 4.95130021221037,\n",
       " 'wq4': 5.066350584469811,\n",
       " 't1q0': 109187.19287058488,\n",
       " 't1q1': 57535.35189181149,\n",
       " 't1q2': 183441.97711073843,\n",
       " 't1q3': 109616.57783040682,\n",
       " 't1q4': 102477.38825319844,\n",
       " 't2q0': 5077.2297500997165,\n",
       " 't2q1': 61650.15600725496,\n",
       " 't2q2': 25123.784823624348,\n",
       " 't2q3': 57120.186456626994,\n",
       " 't2q4': 37229.852617362085}"
      ]
     },
     "execution_count": 4,
     "metadata": {},
     "output_type": "execute_result"
    }
   ],
   "source": [
    "backend = qk_fp.FakeManila()\n",
    "\n",
    "# Initialize device\n",
    "# =====\n",
    "# Undo units\n",
    "units = 1e9\n",
    "GHz = 1/units\n",
    "ns = units\n",
    "\n",
    "dt = backend.configuration().dt * ns  \n",
    "duration = 220 * dt  # ns\n",
    "\n",
    "registers = [0, 1, 2, 3]  # TODO: Active registers\n",
    "\n",
    "# Variables\n",
    "# NOTE: If the Rabi rates are different, you have to calibrate!\n",
    "config_vars = ps.backend_simulation_vars(backend, rabi=False, units=units)\n",
    "\n",
    "# Carrier frequencies of each control line\n",
    "carriers = ps.backend_carriers(backend, config_vars)\n",
    "\n",
    "config_vars"
   ]
  },
  {
   "cell_type": "code",
   "execution_count": 5,
   "metadata": {},
   "outputs": [
    {
     "ename": "ValueError",
     "evalue": "not enough values to unpack (expected 4, got 3)",
     "output_type": "error",
     "traceback": [
      "\u001b[0;31m---------------------------------------------------------------------------\u001b[0m",
      "\u001b[0;31mValueError\u001b[0m                                Traceback (most recent call last)",
      "\u001b[1;32m/home/andy/Documents/Research/pulse-simulator/notebooks/02_two-qubit-test.ipynb Cell 7\u001b[0m line \u001b[0;36m1\n\u001b[1;32m     <a href='vscode-notebook-cell://tunnel%2Bandy-gp63-leopard-8r/home/andy/Documents/Research/pulse-simulator/notebooks/02_two-qubit-test.ipynb#W1sdnNjb2RlLXJlbW90ZQ%3D%3D?line=11'>12</a>\u001b[0m control \u001b[39m=\u001b[39m \u001b[39m0\u001b[39m\n\u001b[1;32m     <a href='vscode-notebook-cell://tunnel%2Bandy-gp63-leopard-8r/home/andy/Documents/Research/pulse-simulator/notebooks/02_two-qubit-test.ipynb#W1sdnNjb2RlLXJlbW90ZQ%3D%3D?line=12'>13</a>\u001b[0m target \u001b[39m=\u001b[39m \u001b[39m1\u001b[39m\n\u001b[0;32m---> <a href='vscode-notebook-cell://tunnel%2Bandy-gp63-leopard-8r/home/andy/Documents/Research/pulse-simulator/notebooks/02_two-qubit-test.ipynb#W1sdnNjb2RlLXJlbW90ZQ%3D%3D?line=13'>14</a>\u001b[0m H_drift, Hs_control, H_channel, params \u001b[39m=\u001b[39m cr_model((control, target))\n",
      "\u001b[0;31mValueError\u001b[0m: not enough values to unpack (expected 4, got 3)"
     ]
    }
   ],
   "source": [
    "# Partially compile to get this circuit's gates\n",
    "cr_model = functools.partial(\n",
    "    ps.cross_resonance_model,\n",
    "    registers=registers,\n",
    "    backend=backend,\n",
    "    variables=config_vars, \n",
    "    model_name=\"Toy\",\n",
    "    return_params=true\n",
    ")\n",
    "\n",
    "\n",
    "# Control model\n",
    "control = 0\n",
    "target = 1\n",
    "H_drift, Hs_control, H_channel, params = cr_model((control, target))"
   ]
  },
  {
   "cell_type": "code",
   "execution_count": null,
   "metadata": {},
   "outputs": [],
   "source": [
    "def plot_Hamiltonian(H):\n",
    "    fig, axes = plt.subplots(1, 2)\n",
    "    kwargs = {\"vmin\": -.25, \"vmax\": .25, \"cmap\": \"RdBu\"}\n",
    "    ax = axes[0]\n",
    "    ax.imshow(np.real(H), **kwargs)\n",
    "    ax = axes[1]\n",
    "    ax.imshow(np.imag(H), **kwargs)\n",
    "    [ax.axis(\"off\") for ax in axes]\n",
    "    return fig, axes"
   ]
  },
  {
   "cell_type": "code",
   "execution_count": null,
   "metadata": {},
   "outputs": [],
   "source": [
    "plot_Hamiltonian(Hs_control)"
   ]
  },
  {
   "cell_type": "code",
   "execution_count": null,
   "metadata": {},
   "outputs": [],
   "source": []
  }
 ],
 "metadata": {
  "kernelspec": {
   "display_name": "pulse-simulator-0UjnMsVt-py3.10",
   "language": "python",
   "name": "python3"
  },
  "language_info": {
   "codemirror_mode": {
    "name": "ipython",
    "version": 3
   },
   "file_extension": ".py",
   "mimetype": "text/x-python",
   "name": "python",
   "nbconvert_exporter": "python",
   "pygments_lexer": "ipython3",
   "version": "3.10.8"
  }
 },
 "nbformat": 4,
 "nbformat_minor": 2
}
