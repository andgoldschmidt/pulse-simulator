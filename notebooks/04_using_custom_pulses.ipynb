{
 "cells": [
  {
   "cell_type": "markdown",
   "metadata": {},
   "source": [
    "# Simulating custom pulses"
   ]
  },
  {
   "cell_type": "markdown",
   "metadata": {},
   "source": [
    "### Imports and settings"
   ]
  },
  {
   "cell_type": "code",
   "execution_count": null,
   "metadata": {},
   "outputs": [],
   "source": [
    "import sys\n",
    "\n",
    "sys.path.append(\"../\")\n",
    "import pulse_simulator as ps"
   ]
  },
  {
   "cell_type": "code",
   "execution_count": null,
   "metadata": {},
   "outputs": [],
   "source": [
    "import numpy as np\n",
    "import csv\n",
    "import functools\n",
    "import qiskit as qk\n",
    "import qiskit_dynamics as qk_d\n",
    "import qiskit.quantum_info as qk_qi\n",
    "import qiskit.providers.fake_provider as qk_fp\n",
    "from qiskit.circuit.library import XGate, SXGate"
   ]
  },
  {
   "cell_type": "code",
   "execution_count": null,
   "metadata": {},
   "outputs": [],
   "source": [
    "import matplotlib.pyplot as plt"
   ]
  },
  {
   "cell_type": "code",
   "execution_count": null,
   "metadata": {},
   "outputs": [],
   "source": [
    "# configure jax to use 64 bit mode\n",
    "import jax\n",
    "\n",
    "jax.config.update(\"jax_enable_x64\", True)\n",
    "\n",
    "# tell JAX we are using CPU\n",
    "jax.config.update(\"jax_platform_name\", \"cpu\")\n",
    "\n",
    "# set default backend\n",
    "qk_d.array.Array.set_default_backend(\"jax\")\n",
    "qk_d.array.Array.default_backend()"
   ]
  },
  {
   "cell_type": "code",
   "execution_count": null,
   "metadata": {},
   "outputs": [],
   "source": [
    "backend = qk_fp.FakeManila()\n",
    "units = 1e9\n",
    "GHz = 1 / units\n",
    "ns = units\n",
    "\n",
    "dt = backend.configuration().dt * ns\n",
    "duration = 50 * dt  # ns"
   ]
  },
  {
   "cell_type": "markdown",
   "metadata": {},
   "source": [
    "### Retrieve saved pulses"
   ]
  },
  {
   "cell_type": "code",
   "execution_count": null,
   "metadata": {},
   "outputs": [],
   "source": [
    "file_name = \"../pico-pulses/saved-pulses-23-12-05/a_single_qubit_gateset_R1e-3.csv\"\n",
    "gates = []\n",
    "\n",
    "with open(file_name) as file:\n",
    "    reader = csv.reader(file)\n",
    "    for row in reader:\n",
    "        gates.append([float(x) for x in row])"
   ]
  },
  {
   "cell_type": "code",
   "execution_count": null,
   "metadata": {},
   "outputs": [],
   "source": [
    "fig, ax = plt.subplots()\n",
    "ts = np.arange(0, 50 * 0.2, 0.2)\n",
    "for gate in gates:\n",
    "    ax.step(ts, gate)"
   ]
  },
  {
   "cell_type": "markdown",
   "metadata": {},
   "source": [
    "### Construct a solver"
   ]
  },
  {
   "cell_type": "code",
   "execution_count": null,
   "metadata": {},
   "outputs": [],
   "source": [
    "registers = [0]\n",
    "config_vars = ps.backend_simulation_vars(backend, rabi=True, units=units)\n",
    "\n",
    "H_rx = functools.partial(\n",
    "    ps.rx_model,\n",
    "    registers=registers,\n",
    "    backend=backend,\n",
    "    variables=config_vars,\n",
    "    rotating_frame=False,\n",
    ")\n",
    "\n",
    "Hs_control = []\n",
    "Hs_channels = []\n",
    "for qubit in range(1):\n",
    "    Hj_drift, Hjs_control, Hjs_channel = H_rx(qubit)\n",
    "    Hs_control += Hjs_control\n",
    "    Hs_channels += Hjs_channel\n",
    "\n",
    "\n",
    "solver = qk_d.Solver(\n",
    "    static_hamiltonian=None,\n",
    "    hamiltonian_operators=Hs_control,\n",
    "    static_dissipators=None,\n",
    "    rotating_frame=None,\n",
    "    rwa_cutoff_freq=None,\n",
    "    hamiltonian_channels=Hs_channels,\n",
    "    channel_carrier_freqs={ch: 0.0 for ch in Hs_channels},\n",
    "    dt=dt,\n",
    ")"
   ]
  },
  {
   "cell_type": "code",
   "execution_count": null,
   "metadata": {},
   "outputs": [],
   "source": [
    "integrate.simpson(gates[0], dx=0.2)"
   ]
  },
  {
   "cell_type": "code",
   "execution_count": null,
   "metadata": {},
   "outputs": [],
   "source": [
    "np.trapz(gates[0], dx=0.2)"
   ]
  },
  {
   "cell_type": "code",
   "execution_count": null,
   "metadata": {},
   "outputs": [],
   "source": [
    "def get_pulse_unitary(pulse_array, duration, solver, expected=None):\n",
    "    duration = duration * dt\n",
    "\n",
    "    # rescale pulse if needed\n",
    "    expected = integrate.simpson(pulse_array, dx=0.2) if expected is None else expected\n",
    "    normalization = integrate.simpson(pulse_array, dx=dt) / expected\n",
    "    # normalization = np.trapz(pulse_array, dx=dt) / expected\n",
    "    # if max_amp > 1:\n",
    "    pulse_array = pulse_array / normalization\n",
    "\n",
    "    # construct pulse and pulse moment\n",
    "    pulse = qk.pulse.Waveform(pulse_array, limit_amplitude=False)\n",
    "    with qk.pulse.build() as pulse_moment:\n",
    "        channel = qk.pulse.DriveChannel(0)\n",
    "        qk.pulse.play(pulse, channel)\n",
    "\n",
    "    U0 = ps.qiskit_identity_operator(1)\n",
    "    solver.model.evaluation_mode = \"sparse\"\n",
    "    sol = solver.solve(\n",
    "        t_span=[0.0, duration],\n",
    "        y0=U0,\n",
    "        signals=pulse_moment,\n",
    "        atol=1e-8,\n",
    "        rtol=1e-8,\n",
    "        method=\"jax_odeint\",\n",
    "    )\n",
    "    \n",
    "    return sol.y[-1]"
   ]
  },
  {
   "cell_type": "code",
   "execution_count": null,
   "metadata": {},
   "outputs": [],
   "source": [
    "expected_list = [XGate(), XGate(), SXGate(), SXGate()]\n",
    "expected_angle = [np.pi / 2, np.pi / 2, np.pi / 4, np.pi / 4]\n",
    "\n",
    "for i, gate in enumerate(gates):\n",
    "    print(\"Output unitary:\")\n",
    "    out = get_pulse_unitary(gate, 50, solver, expected=expected_angle[i])\n",
    "    print(np.round(out.data, 5))\n",
    "\n",
    "    print(\"Expected unitary:\")\n",
    "    expected = qk_qi.Operator(expected_list[i])\n",
    "    print(np.round(expected.data, 5))\n",
    "\n",
    "    print(\"Fidelity: \", qk_qi.process_fidelity(expected, out, require_cp=False, require_tp=False), \"\\n\")"
   ]
  },
  {
   "cell_type": "code",
   "execution_count": null,
   "metadata": {},
   "outputs": [],
   "source": []
  }
 ],
 "metadata": {
  "kernelspec": {
   "display_name": ".venv",
   "language": "python",
   "name": "python3"
  },
  "language_info": {
   "codemirror_mode": {
    "name": "ipython",
    "version": 3
   },
   "file_extension": ".py",
   "mimetype": "text/x-python",
   "name": "python",
   "nbconvert_exporter": "python",
   "pygments_lexer": "ipython3",
   "version": "3.10.8"
  }
 },
 "nbformat": 4,
 "nbformat_minor": 2
}
