{
 "cells": [
  {
   "cell_type": "markdown",
   "metadata": {},
   "source": [
    "# Simulating custom pulses"
   ]
  },
  {
   "cell_type": "markdown",
   "metadata": {},
   "source": [
    "### Imports and settings"
   ]
  },
  {
   "cell_type": "code",
   "execution_count": 1,
   "metadata": {},
   "outputs": [],
   "source": [
    "import sys\n",
    "\n",
    "sys.path.append(\"../\")\n",
    "import pulse_simulator as ps"
   ]
  },
  {
   "cell_type": "code",
   "execution_count": 2,
   "metadata": {},
   "outputs": [
    {
     "name": "stderr",
     "output_type": "stream",
     "text": [
      "/home/andy/.cache/pypoetry/virtualenvs/pulse-simulator-0UjnMsVt-py3.10/lib/python3.10/site-packages/qiskit_dynamics/dispatch/backends/jax.py:34: UserWarning: The functionality in the perturbation module of Qiskit Dynamics requires a JAX version <= 0.4.6, due to a bug in JAX versions > 0.4.6. For versions 0.4.4, 0.4.5, and 0.4.6, using the perturbation module functionality requires setting os.environ['JAX_JIT_PJIT_API_MERGE'] = '0' before importing JAX or Dynamics.\n",
      "  warnings.warn(\n"
     ]
    }
   ],
   "source": [
    "import numpy as np\n",
    "from scipy import integrate\n",
    "\n",
    "import csv\n",
    "import functools\n",
    "import qiskit as qk\n",
    "import qiskit_dynamics as qk_d\n",
    "import qiskit.quantum_info as qk_qi\n",
    "import qiskit.providers.fake_provider as qk_fp\n",
    "from qiskit.circuit.library import XGate, SXGate"
   ]
  },
  {
   "cell_type": "code",
   "execution_count": 3,
   "metadata": {},
   "outputs": [],
   "source": [
    "import matplotlib.pyplot as plt"
   ]
  },
  {
   "cell_type": "code",
   "execution_count": 4,
   "metadata": {},
   "outputs": [
    {
     "data": {
      "text/plain": [
       "'jax'"
      ]
     },
     "execution_count": 4,
     "metadata": {},
     "output_type": "execute_result"
    }
   ],
   "source": [
    "# configure jax to use 64 bit mode\n",
    "import jax\n",
    "\n",
    "jax.config.update(\"jax_enable_x64\", True)\n",
    "\n",
    "# tell JAX we are using CPU\n",
    "jax.config.update(\"jax_platform_name\", \"cpu\")\n",
    "\n",
    "# set default backend\n",
    "qk_d.array.Array.set_default_backend(\"jax\")\n",
    "qk_d.array.Array.default_backend()"
   ]
  },
  {
   "cell_type": "code",
   "execution_count": 5,
   "metadata": {},
   "outputs": [
    {
     "data": {
      "text/plain": [
       "(0.2222222222222222, 11.11111111111111)"
      ]
     },
     "execution_count": 5,
     "metadata": {},
     "output_type": "execute_result"
    }
   ],
   "source": [
    "backend = qk_fp.FakeManila()\n",
    "units = 1e9\n",
    "GHz = 1 / units\n",
    "ns = units\n",
    "\n",
    "dt = backend.configuration().dt * ns\n",
    "n_steps = 50\n",
    "duration = n_steps * dt  # \\approx 10 ns\n",
    "dt, duration"
   ]
  },
  {
   "cell_type": "markdown",
   "metadata": {},
   "source": [
    "### Retrieve saved pulses"
   ]
  },
  {
   "cell_type": "code",
   "execution_count": 14,
   "metadata": {},
   "outputs": [],
   "source": [
    "file_name = \"../pico-pulses/saved-pulses-2023-12-13/a_single_qubit_gateset_R1e-3.csv\"\n",
    "gates = []\n",
    "\n",
    "saved_dt = 2/9\n",
    "\n",
    "with open(file_name) as file:\n",
    "    reader = csv.reader(file)\n",
    "    for row in reader:\n",
    "        gates.append([float(x) for x in row])"
   ]
  },
  {
   "cell_type": "code",
   "execution_count": 15,
   "metadata": {},
   "outputs": [
    {
     "data": {
      "image/png": "[encoded data removed]",
      "text/plain": [
       "<Figure size 640x480 with 1 Axes>"
      ]
     },
     "metadata": {},
     "output_type": "display_data"
    }
   ],
   "source": [
    "fig, ax = plt.subplots()\n",
    "original_ts = np.arange(0, 50 * saved_dt, saved_dt)\n",
    "for gate in gates:\n",
    "    ax.step(original_ts, gate)"
   ]
  },
  {
   "cell_type": "markdown",
   "metadata": {},
   "source": [
    "### Construct a solver"
   ]
  },
  {
   "cell_type": "code",
   "execution_count": 11,
   "metadata": {},
   "outputs": [
    {
     "name": "stderr",
     "output_type": "stream",
     "text": [
      "An NVIDIA GPU may be present on this machine, but a CUDA-enabled jaxlib is not installed. Falling back to cpu.\n"
     ]
    }
   ],
   "source": [
    "registers = [0]\n",
    "config_vars = ps.backend_simulation_vars(backend, rabi=True, units=units)\n",
    "\n",
    "H_rx = functools.partial(\n",
    "    ps.rx_model,\n",
    "    registers=registers,\n",
    "    backend=backend,\n",
    "    variables=config_vars,\n",
    "    rotating_frame=False,\n",
    ")\n",
    "\n",
    "Hs_control = []\n",
    "Hs_channels = []\n",
    "for qubit in range(1):\n",
    "    Hj_drift, Hjs_control, Hjs_channel = H_rx(qubit)\n",
    "    Hs_control += Hjs_control\n",
    "    Hs_channels += Hjs_channel\n",
    "\n",
    "\n",
    "solver = qk_d.Solver(\n",
    "    static_hamiltonian=None,\n",
    "    hamiltonian_operators=Hs_control,\n",
    "    static_dissipators=None,\n",
    "    rotating_frame=None,\n",
    "    rwa_cutoff_freq=None,\n",
    "    hamiltonian_channels=Hs_channels,\n",
    "    channel_carrier_freqs={ch: 0.0 for ch in Hs_channels},\n",
    "    dt=dt,\n",
    ")"
   ]
  },
  {
   "cell_type": "code",
   "execution_count": 16,
   "metadata": {},
   "outputs": [],
   "source": [
    "def get_pulse_unitary(pulse_array, duration, dt, solver, expected=None):\n",
    "    duration = duration * dt\n",
    "\n",
    "    # rescale pulse if needed\n",
    "    if expected is None:\n",
    "        expected = integrate.simpson(pulse_array, dx=saved_dt)  # WARNING: Global\n",
    "    normalization = integrate.simpson(pulse_array, dx=dt) / expected\n",
    "    pulse_array = pulse_array / normalization\n",
    "\n",
    "    # construct pulse and pulse moment\n",
    "    pulse = qk.pulse.Waveform(pulse_array, limit_amplitude=False)\n",
    "    with qk.pulse.build() as pulse_moment:\n",
    "        channel = qk.pulse.DriveChannel(0)\n",
    "        qk.pulse.play(pulse, channel)\n",
    "\n",
    "    U0 = ps.qiskit_identity_operator(1)\n",
    "    solver.model.evaluation_mode = \"dense\"\n",
    "    sol = solver.solve(\n",
    "        t_span=[0.0, duration],\n",
    "        y0=U0,\n",
    "        signals=pulse_moment,\n",
    "        max_dt=dt,\n",
    "        t_eval=np.linspace(0, duration, int(duration / dt)),\n",
    "        method=\"jax_expm\",\n",
    "        magnus_order=3,\n",
    "    )\n",
    "    \n",
    "    return sol.y"
   ]
  },
  {
   "cell_type": "code",
   "execution_count": 17,
   "metadata": {},
   "outputs": [],
   "source": [
    "igate = 2\n",
    "out = get_pulse_unitary(gates[igate], n_steps, 0.2, solver)\n",
    "np.save(f\"qiskit_custom_sim_{igate}.npy\", out)"
   ]
  },
  {
   "cell_type": "code",
   "execution_count": 18,
   "metadata": {},
   "outputs": [
    {
     "data": {
      "text/plain": [
       "50"
      ]
     },
     "execution_count": 18,
     "metadata": {},
     "output_type": "execute_result"
    }
   ],
   "source": [
    "len(out)"
   ]
  },
  {
   "cell_type": "markdown",
   "metadata": {},
   "source": [
    "## Normalize to one and two rotations"
   ]
  },
  {
   "cell_type": "code",
   "execution_count": 20,
   "metadata": {},
   "outputs": [
    {
     "name": "stdout",
     "output_type": "stream",
     "text": [
      "Fidelity:  0.9564176991702871\n",
      "Fidelity:  0.9941756249337452\n",
      "Fidelity:  0.9702279602232889\n",
      "Fidelity:  0.9989138810380312\n"
     ]
    }
   ],
   "source": [
    "expected_list = [XGate(), XGate(), SXGate(), SXGate()]\n",
    "\n",
    "for i, gate in enumerate(gates):\n",
    "    # print(\"Output unitary:\")\n",
    "    out = get_pulse_unitary(gate, n_steps, dt, solver)[-1]\n",
    "    # print(np.round(out.data, 5))\n",
    "\n",
    "    # print(\"Expected unitary:\")\n",
    "    expected = qk_qi.Operator(expected_list[i])\n",
    "    # print(np.round(expected.data, 5))\n",
    "\n",
    "    print(\"Fidelity: \", qk_qi.process_fidelity(expected, out, require_cp=False, require_tp=False))"
   ]
  },
  {
   "cell_type": "code",
   "execution_count": null,
   "metadata": {},
   "outputs": [],
   "source": [
    "expected_list = [XGate(), XGate(), SXGate(), SXGate()]\n",
    "expected_angle = [3 * np.pi / 2, np.pi / 2, 5 * np.pi / 4, np.pi / 4]\n",
    "\n",
    "for i, gate in enumerate(gates):\n",
    "    # print(\"Output unitary:\")\n",
    "    out = get_pulse_unitary(gate, n_steps, dt, expected=expected_angle[i])[-1]\n",
    "    # print(np.round(out.data, 5))\n",
    "\n",
    "    # print(\"Expected unitary:\")\n",
    "    expected = qk_qi.Operator(expected_list[i])\n",
    "    # print(np.round(expected.data, 5))\n",
    "\n",
    "    print(\"Fidelity: \", qk_qi.process_fidelity(expected, out, require_cp=False, require_tp=False))"
   ]
  },
  {
   "cell_type": "markdown",
   "metadata": {},
   "source": [
    "## Normalize to one rotation"
   ]
  },
  {
   "cell_type": "code",
   "execution_count": null,
   "metadata": {},
   "outputs": [],
   "source": [
    "expected_list = [XGate(), XGate(), SXGate(), SXGate()]\n",
    "expected_angle = [np.pi / 2, np.pi / 2, np.pi / 4, np.pi / 4]\n",
    "\n",
    "for i, gate in enumerate(gates):\n",
    "    # print(\"Output unitary:\")\n",
    "    out = get_pulse_unitary(gate, 50, solver, expected=expected_angle[i])[-1]\n",
    "    # print(np.round(out.data, 5))\n",
    "\n",
    "    # print(\"Expected unitary:\")\n",
    "    expected = qk_qi.Operator(expected_list[i])\n",
    "    # print(np.round(expected.data, 5))\n",
    "\n",
    "    print(\"Fidelity: \", qk_qi.process_fidelity(expected, out, require_cp=False, require_tp=False))"
   ]
  },
  {
   "cell_type": "code",
   "execution_count": null,
   "metadata": {},
   "outputs": [],
   "source": []
  }
 ],
 "metadata": {
  "kernelspec": {
   "display_name": ".venv",
   "language": "python",
   "name": "python3"
  },
  "language_info": {
   "codemirror_mode": {
    "name": "ipython",
    "version": 3
   },
   "file_extension": ".py",
   "mimetype": "text/x-python",
   "name": "python",
   "nbconvert_exporter": "python",
   "pygments_lexer": "ipython3",
   "version": "3.10.8"
  }
 },
 "nbformat": 4,
 "nbformat_minor": 2
}
