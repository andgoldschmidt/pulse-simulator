{
 "cells": [
  {
   "cell_type": "markdown",
   "metadata": {},
   "source": [
    "# Simulating custom pulses"
   ]
  },
  {
   "cell_type": "markdown",
   "metadata": {},
   "source": [
    "### Imports and settings"
   ]
  },
  {
   "cell_type": "code",
   "execution_count": 1,
   "metadata": {},
   "outputs": [],
   "source": [
    "import sys\n",
    "\n",
    "sys.path.append(\"../\")\n",
    "import pulse_simulator as ps"
   ]
  },
  {
   "cell_type": "code",
   "execution_count": 17,
   "metadata": {},
   "outputs": [],
   "source": [
    "import numpy as np\n",
    "import csv\n",
    "import functools\n",
    "import qiskit as qk\n",
    "import qiskit_dynamics as qk_d\n",
    "import qiskit.quantum_info as qk_qi\n",
    "import qiskit.providers.fake_provider as qk_fp\n",
    "import matplotlib.pyplot as plt\n",
    "from qiskit.circuit.library import XGate, SXGate, IGate"
   ]
  },
  {
   "cell_type": "code",
   "execution_count": 3,
   "metadata": {},
   "outputs": [
    {
     "data": {
      "text/plain": [
       "'jax'"
      ]
     },
     "execution_count": 3,
     "metadata": {},
     "output_type": "execute_result"
    }
   ],
   "source": [
    "# configure jax to use 64 bit mode\n",
    "import jax\n",
    "\n",
    "jax.config.update(\"jax_enable_x64\", True)\n",
    "\n",
    "# tell JAX we are using CPU\n",
    "jax.config.update(\"jax_platform_name\", \"cpu\")\n",
    "\n",
    "# set default backend\n",
    "qk_d.array.Array.set_default_backend(\"jax\")\n",
    "qk_d.array.Array.default_backend()"
   ]
  },
  {
   "cell_type": "code",
   "execution_count": 4,
   "metadata": {},
   "outputs": [],
   "source": [
    "backend = qk_fp.FakeManila()\n",
    "units = 1e9\n",
    "ns = units\n",
    "dt = backend.configuration().dt * ns"
   ]
  },
  {
   "cell_type": "markdown",
   "metadata": {},
   "source": [
    "### Retrieve saved pulses"
   ]
  },
  {
   "cell_type": "code",
   "execution_count": 5,
   "metadata": {},
   "outputs": [],
   "source": [
    "file_name = \"../pico-pulses/saved-pulses-23-12-05/a_single_qubit_gateset_R1e-3.csv\"\n",
    "gates = []\n",
    "\n",
    "with open(file_name) as file:\n",
    "    reader = csv.reader(file)\n",
    "    for row in reader:\n",
    "        gates.append(np.array([float(x) for x in row]))"
   ]
  },
  {
   "cell_type": "markdown",
   "metadata": {},
   "source": [
    "Rescale pulses so that their integral remains the same when changing `dt`."
   ]
  },
  {
   "cell_type": "code",
   "execution_count": 6,
   "metadata": {},
   "outputs": [
    {
     "data": {
      "text/plain": [
       "4.706329489595866"
      ]
     },
     "execution_count": 6,
     "metadata": {},
     "output_type": "execute_result"
    }
   ],
   "source": [
    "expected = np.trapz(gates[0], dx=0.2)\n",
    "expected"
   ]
  },
  {
   "cell_type": "code",
   "execution_count": 7,
   "metadata": {},
   "outputs": [
    {
     "data": {
      "text/plain": [
       "1.1111111111111112"
      ]
     },
     "execution_count": 7,
     "metadata": {},
     "output_type": "execute_result"
    }
   ],
   "source": [
    "normalization = np.trapz(gates[0], dx=dt) / expected\n",
    "normalization"
   ]
  },
  {
   "cell_type": "code",
   "execution_count": 8,
   "metadata": {},
   "outputs": [
    {
     "data": {
      "text/plain": [
       "4.706329489595865"
      ]
     },
     "execution_count": 8,
     "metadata": {},
     "output_type": "execute_result"
    }
   ],
   "source": [
    "normalized_pulse = gates[0] / normalization\n",
    "np.trapz(normalized_pulse, dx=dt)"
   ]
  },
  {
   "cell_type": "markdown",
   "metadata": {},
   "source": [
    "### Construct a solver"
   ]
  },
  {
   "cell_type": "code",
   "execution_count": 9,
   "metadata": {},
   "outputs": [],
   "source": [
    "registers = [0]\n",
    "config_vars = ps.backend_simulation_vars(backend, rabi=True, units=units)\n",
    "\n",
    "H_rx = functools.partial(\n",
    "    ps.rx_model,\n",
    "    registers=registers,\n",
    "    backend=backend,\n",
    "    variables=config_vars,\n",
    "    rotating_frame=False,\n",
    ")\n",
    "\n",
    "Hs_control = []\n",
    "Hs_channels = []\n",
    "for qubit in range(1):\n",
    "    Hj_drift, Hjs_control, Hjs_channel = H_rx(qubit)\n",
    "    Hs_control += Hjs_control\n",
    "    Hs_channels += Hjs_channel\n",
    "\n",
    "\n",
    "solver = qk_d.Solver(\n",
    "    static_hamiltonian=None,\n",
    "    hamiltonian_operators=Hs_control,\n",
    "    static_dissipators=None,\n",
    "    rotating_frame=None,\n",
    "    rwa_cutoff_freq=None,\n",
    "    hamiltonian_channels=Hs_channels,\n",
    "    channel_carrier_freqs={ch: 0.0 for ch in Hs_channels},\n",
    "    dt=dt,\n",
    ")"
   ]
  },
  {
   "cell_type": "code",
   "execution_count": 10,
   "metadata": {},
   "outputs": [],
   "source": [
    "def get_pulse_unitary(pulse_array, duration, solver, expected=None):\n",
    "    duration = duration * dt\n",
    "    \n",
    "    # rescale pulse if needed\n",
    "    if not expected:\n",
    "        expected = np.trapz(pulse_array, dx=0.2)\n",
    "    normalization = np.trapz(pulse_array, dx=dt) / expected\n",
    "    pulse_array = pulse_array / normalization\n",
    "\n",
    "    # construct pulse and pulse moment\n",
    "    pulse = qk.pulse.Waveform(pulse_array, limit_amplitude=False)\n",
    "    with qk.pulse.build() as pulse_moment:\n",
    "        channel = qk.pulse.DriveChannel(0)\n",
    "        qk.pulse.play(pulse, channel)\n",
    "\n",
    "    U0 = ps.qiskit_identity_operator(1)\n",
    "    sol = solver.solve(\n",
    "        t_span=[0.0, duration],\n",
    "        y0=U0,\n",
    "        signals=pulse_moment,\n",
    "        atol=1e-8,\n",
    "        rtol=1e-8,\n",
    "        method=\"jax_odeint\",\n",
    "    )\n",
    "    \n",
    "    return sol.y[-1]"
   ]
  },
  {
   "cell_type": "markdown",
   "metadata": {},
   "source": [
    "With this, we can get the fidelitites of each individual gate."
   ]
  },
  {
   "cell_type": "code",
   "execution_count": 11,
   "metadata": {},
   "outputs": [
    {
     "name": "stdout",
     "output_type": "stream",
     "text": [
      "Output unitary:\n",
      "[[0.07103+0.j      0.     -0.99747j]\n",
      " [0.     -0.99747j 0.07103+0.j     ]]\n",
      "Expected unitary:\n",
      "Fidelity:  0.994954582567149 \n",
      "\n",
      "Output unitary:\n",
      "[[0.07105+0.j      0.     -0.99747j]\n",
      " [0.     -0.99747j 0.07105+0.j     ]]\n",
      "Expected unitary:\n",
      "Fidelity:  0.9949518273702074 \n",
      "\n",
      "Output unitary:\n",
      "[[0.73252+0.j      0.     -0.68075j]\n",
      " [0.     -0.68075j 0.73252+0.j     ]]\n",
      "Expected unitary:\n",
      "Fidelity:  0.9986594454760274 \n",
      "\n",
      "Output unitary:\n",
      "[[0.73179+0.j      0.     -0.68153j]\n",
      " [0.     -0.68153j 0.73179+0.j     ]]\n",
      "Expected unitary:\n",
      "Fidelity:  0.9987368727946287 \n",
      "\n"
     ]
    }
   ],
   "source": [
    "expected_list = [XGate(), XGate(), SXGate(), SXGate()]\n",
    "expected_angle = [np.pi / 2, np.pi / 2, np.pi / 4, np.pi / 4]\n",
    "\n",
    "for i, gate in enumerate(gates):\n",
    "    print(\"Output unitary:\")\n",
    "    out = get_pulse_unitary(gate, 50, solver, expected=expected_angle[i])\n",
    "    print(np.round(out.data, 5))\n",
    "\n",
    "    print(\"Expected unitary:\")\n",
    "    expected = qk_qi.Operator(expected_list[i])\n",
    "    #print(np.round(expected.data, 5))\n",
    "\n",
    "    print(\"Fidelity: \", qk_qi.process_fidelity(expected, out, require_cp=False, require_tp=False), \"\\n\")"
   ]
  },
  {
   "cell_type": "markdown",
   "metadata": {},
   "source": [
    "We can also construct a schedule with all the gates and measure its fidelity."
   ]
  },
  {
   "cell_type": "code",
   "execution_count": 12,
   "metadata": {},
   "outputs": [],
   "source": [
    "with qk.pulse.build() as all_pulses_moment:\n",
    "    channel = qk.pulse.DriveChannel(0)\n",
    "    for pulse_array, expected in zip(gates, expected_angle):\n",
    "        normalization = np.trapz(pulse_array, dx=dt) / expected\n",
    "        pulse_array = pulse_array / normalization\n",
    "        pulse = qk.pulse.Waveform(pulse_array, limit_amplitude=False)\n",
    "        qk.pulse.play(pulse, channel)"
   ]
  },
  {
   "cell_type": "code",
   "execution_count": 13,
   "metadata": {},
   "outputs": [
    {
     "data": {
      "image/png": "[encoded data removed]",
      "text/plain": [
       "<Figure size 1300x221.245 with 1 Axes>"
      ]
     },
     "execution_count": 13,
     "metadata": {},
     "output_type": "execute_result"
    }
   ],
   "source": [
    "all_pulses_moment.draw()"
   ]
  },
  {
   "cell_type": "code",
   "execution_count": 14,
   "metadata": {},
   "outputs": [],
   "source": [
    "U0 = ps.qiskit_identity_operator(1)\n",
    "sol = solver.solve(\n",
    "    t_span=[0.0, 200],\n",
    "    y0=U0,\n",
    "    signals=all_pulses_moment,\n",
    "    atol=1e-8,\n",
    "    rtol=1e-8,\n",
    "    method=\"jax_odeint\",\n",
    ")\n",
    "out = sol.y[-1]"
   ]
  },
  {
   "cell_type": "code",
   "execution_count": 15,
   "metadata": {},
   "outputs": [
    {
     "data": {
      "text/plain": [
       "array([[-0.21171394+0.j        ,  0.        +0.97733176j],\n",
       "       [ 0.        +0.97733176j, -0.21171394+0.j        ]])"
      ]
     },
     "execution_count": 15,
     "metadata": {},
     "output_type": "execute_result"
    }
   ],
   "source": [
    "out.data"
   ]
  },
  {
   "cell_type": "code",
   "execution_count": 16,
   "metadata": {},
   "outputs": [
    {
     "data": {
      "text/plain": [
       "0.9551773785153842"
      ]
     },
     "execution_count": 16,
     "metadata": {},
     "output_type": "execute_result"
    }
   ],
   "source": [
    "qk_qi.process_fidelity(out, qk_qi.Operator(XGate()), require_cp=False, require_tp=False)"
   ]
  }
 ],
 "metadata": {
  "kernelspec": {
   "display_name": ".venv",
   "language": "python",
   "name": "python3"
  },
  "language_info": {
   "codemirror_mode": {
    "name": "ipython",
    "version": 3
   },
   "file_extension": ".py",
   "mimetype": "text/x-python",
   "name": "python",
   "nbconvert_exporter": "python",
   "pygments_lexer": "ipython3",
   "version": "3.11.6"
  }
 },
 "nbformat": 4,
 "nbformat_minor": 2
}
