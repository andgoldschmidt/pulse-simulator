{
 "cells": [
  {
   "cell_type": "markdown",
   "metadata": {},
   "source": [
    "# Simulating custom pulses"
   ]
  },
  {
   "cell_type": "markdown",
   "metadata": {},
   "source": [
    "### Imports and settings"
   ]
  },
  {
   "cell_type": "code",
   "execution_count": null,
   "metadata": {},
   "outputs": [],
   "source": [
    "import sys\n",
    "\n",
    "sys.path.append(\"../\")\n",
    "import pulse_simulator as ps"
   ]
  },
  {
   "cell_type": "code",
   "execution_count": null,
   "metadata": {},
   "outputs": [],
   "source": [
    "import numpy as np\n",
    "from scipy import integrate, linalg\n",
    "\n",
    "import csv\n",
    "import functools\n",
    "import qiskit as qk\n",
    "import qiskit_dynamics as qk_d\n",
    "import qiskit.quantum_info as qk_qi\n",
    "import qiskit.providers.fake_provider as qk_fp\n",
    "from qiskit.circuit.library import XGate, SXGate"
   ]
  },
  {
   "cell_type": "code",
   "execution_count": null,
   "metadata": {},
   "outputs": [],
   "source": [
    "import matplotlib.pyplot as plt"
   ]
  },
  {
   "cell_type": "code",
   "execution_count": null,
   "metadata": {},
   "outputs": [],
   "source": [
    "# configure jax to use 64 bit mode\n",
    "import jax\n",
    "\n",
    "jax.config.update(\"jax_enable_x64\", True)\n",
    "\n",
    "# tell JAX we are using CPU\n",
    "jax.config.update(\"jax_platform_name\", \"cpu\")\n",
    "\n",
    "# set default backend\n",
    "qk_d.array.Array.set_default_backend(\"jax\")\n",
    "qk_d.array.Array.default_backend()"
   ]
  },
  {
   "cell_type": "code",
   "execution_count": null,
   "metadata": {},
   "outputs": [],
   "source": [
    "backend = qk_fp.FakeManila()\n",
    "units = 1e9\n",
    "GHz = 1 / units\n",
    "ns = units\n",
    "\n",
    "dt = backend.configuration().dt * ns\n",
    "n_steps = 50\n",
    "duration = n_steps * dt  # \\approx 10 ns\n",
    "dt, duration"
   ]
  },
  {
   "cell_type": "markdown",
   "metadata": {},
   "source": [
    "### Retrieve saved pulses"
   ]
  },
  {
   "cell_type": "code",
   "execution_count": null,
   "metadata": {},
   "outputs": [],
   "source": [
    "file_name = \"../pico-pulses/saved-pulses-2023-12-13/a_single_qubit_gateset_R1e-3.csv\"\n",
    "gates = []\n",
    "\n",
    "saved_dt = 2/9\n",
    "\n",
    "with open(file_name) as file:\n",
    "    reader = csv.reader(file)\n",
    "    for row in reader:\n",
    "        gates.append([float(x) for x in row])"
   ]
  },
  {
   "cell_type": "code",
   "execution_count": null,
   "metadata": {},
   "outputs": [],
   "source": [
    "fig, ax = plt.subplots()\n",
    "original_ts = np.arange(0, 50 * saved_dt, saved_dt)\n",
    "for gate in gates:\n",
    "    ax.step(original_ts, gate)"
   ]
  },
  {
   "cell_type": "markdown",
   "metadata": {},
   "source": [
    "### Construct a solver"
   ]
  },
  {
   "cell_type": "code",
   "execution_count": null,
   "metadata": {},
   "outputs": [],
   "source": [
    "registers = [0]\n",
    "config_vars = ps.backend_simulation_vars(backend, rabi=False, units=units)\n",
    "\n",
    "H_rx = functools.partial(\n",
    "    ps.rx_model,\n",
    "    registers=registers,\n",
    "    backend=backend,\n",
    "    variables=config_vars,\n",
    "    rotating_frame=False,\n",
    ")\n",
    "\n",
    "Hs_control = []\n",
    "Hs_channels = []\n",
    "for qubit in range(1):\n",
    "    Hj_drift, Hjs_control, Hjs_channel = H_rx(qubit)\n",
    "    Hs_control += Hjs_control\n",
    "    Hs_channels += Hjs_channel\n",
    "\n",
    "\n",
    "solver = qk_d.Solver(\n",
    "    static_hamiltonian=None,\n",
    "    hamiltonian_operators=[np.array([[0, 1], [1, 0]])],\n",
    "    static_dissipators=None,\n",
    "    rotating_frame=None,\n",
    "    rwa_cutoff_freq=None,\n",
    "    hamiltonian_channels=Hs_channels,\n",
    "    channel_carrier_freqs={ch: 0.0 for ch in Hs_channels},\n",
    "    dt=dt,\n",
    ")"
   ]
  },
  {
   "cell_type": "code",
   "execution_count": null,
   "metadata": {},
   "outputs": [],
   "source": [
    "Hs_control"
   ]
  },
  {
   "cell_type": "code",
   "execution_count": null,
   "metadata": {},
   "outputs": [],
   "source": [
    "def get_pulse_unitary(pulse_array, duration, dt, solver, expected=None):\n",
    "    duration = duration * dt\n",
    "\n",
    "    # rescale pulse if needed\n",
    "    if not np.isclose(saved_dt, dt): # WARNING: Global variable\n",
    "        if expected is None:\n",
    "            expected = integrate.simpson(pulse_array, dx=saved_dt)  \n",
    "        normalization = integrate.simpson(pulse_array, dx=dt) / expected\n",
    "        pulse_array = pulse_array / normalization\n",
    "\n",
    "    # construct pulse and pulse moment\n",
    "    pulse = qk.pulse.Waveform(pulse_array, limit_amplitude=False)\n",
    "    with qk.pulse.build() as pulse_moment:\n",
    "        channel = qk.pulse.DriveChannel(0)\n",
    "        qk.pulse.play(pulse, channel)\n",
    "\n",
    "    U0 = ps.qiskit_identity_operator(1)\n",
    "    solver.model.evaluation_mode = \"dense\"\n",
    "    sol = solver.solve(\n",
    "        t_span=[0.0, duration],\n",
    "        y0=U0,\n",
    "        signals=pulse_moment,\n",
    "        max_dt=dt,\n",
    "        t_eval=np.linspace(0, duration, int(duration / dt) + 1, endpoint=True),\n",
    "        method=\"jax_expm\",\n",
    "        magnus_order=1,\n",
    "    )\n",
    "    \n",
    "    return sol.y"
   ]
  },
  {
   "cell_type": "code",
   "execution_count": null,
   "metadata": {},
   "outputs": [],
   "source": [
    "igate = 2\n",
    "out = get_pulse_unitary(gates[igate], n_steps, 0.2, solver)\n",
    "np.save(f\"qiskit_custom_sim_{igate}.npy\", out)"
   ]
  },
  {
   "cell_type": "code",
   "execution_count": null,
   "metadata": {},
   "outputs": [],
   "source": [
    "# Loop over the custom pulse generator\n",
    "U0 = np.identity(2, dtype=np.complex128)\n",
    "X = np.array([[0, 1], [1, 0]], dtype=np.complex128)\n",
    "Gate_Uts = []\n",
    "zoh_Uts = []\n",
    "for pulse_array in gates:\n",
    "    Uts = [None] * (len(pulse_array) + 1)\n",
    "    zoh_ts = [None] * (len(pulse_array) + 1)\n",
    "    Uts[0] = U0\n",
    "    zoh_ts[0] = 0\n",
    "    for i, p in enumerate(pulse_array):\n",
    "        Uts[i+1] = linalg.expm(-1j * p * X * dt) @ Uts[i]\n",
    "        zoh_ts[i+1] = zoh_ts[i] + dt\n",
    "    Gate_Uts.append(Uts)\n",
    "Gate_Uts = np.squeeze(Gate_Uts)\n",
    "zoh_ts = np.array(zoh_ts)"
   ]
  },
  {
   "cell_type": "code",
   "execution_count": null,
   "metadata": {},
   "outputs": [],
   "source": [
    "len(out)"
   ]
  },
  {
   "cell_type": "code",
   "execution_count": null,
   "metadata": {},
   "outputs": [],
   "source": [
    "def operator_to_iso_vec(U):\n",
    "    if len(U.shape) > 2:\n",
    "        return np.vstack([operator_to_iso_vec(U_arr) for U_arr in U]).T\n",
    "    elif len(U.shape) == 2:\n",
    "        U_vec = U.flatten()\n",
    "        U_iso_vec = np.hstack([U_vec.real, U_vec.imag])\n",
    "        return U_iso_vec\n",
    "    else:\n",
    "        raise ValueError(\"U must be 2D or an array of 2D arrays\")"
   ]
  },
  {
   "cell_type": "code",
   "execution_count": null,
   "metadata": {},
   "outputs": [],
   "source": [
    "tab10 = plt.get_cmap(\"tab10\")\n",
    "\n",
    "for igate, Uts in enumerate(Gate_Uts):\n",
    "    fig, ax = plt.subplots(1)\n",
    "    out = np.array(get_pulse_unitary(gates[igate], n_steps, dt, solver))\n",
    "    iso_vec_Uts = operator_to_iso_vec(Uts)\n",
    "    iso_vec_out = operator_to_iso_vec(out)\n",
    "    for i, (row_out, row_Uts) in enumerate(zip(iso_vec_out, iso_vec_Uts)):\n",
    "        leg1 = ax.plot(row_out, ls='--', c=tab10(i))\n",
    "        leg2 = ax.plot(row_Uts, c=tab10(i))\n",
    "        ax.legend([leg1[0], leg2[0]], [\"qiskit\", \"zoh\"])"
   ]
  },
  {
   "cell_type": "markdown",
   "metadata": {},
   "source": [
    "## Normalize to one and two rotations"
   ]
  },
  {
   "cell_type": "code",
   "execution_count": null,
   "metadata": {},
   "outputs": [],
   "source": [
    "expected_list = [XGate(), XGate(), SXGate(), SXGate()]\n",
    "\n",
    "for i, gate in enumerate(gates):\n",
    "    # print(\"Output unitary:\")\n",
    "    out = get_pulse_unitary(gate, n_steps, dt, solver)[-1]\n",
    "    # print(np.round(out.data, 5))\n",
    "\n",
    "    # print(\"Expected unitary:\")\n",
    "    expected = qk_qi.Operator(expected_list[i])\n",
    "    # print(np.round(expected.data, 5))\n",
    "\n",
    "    print(\"Fidelity: \", qk_qi.process_fidelity(expected, out, require_cp=False, require_tp=False))"
   ]
  },
  {
   "cell_type": "code",
   "execution_count": null,
   "metadata": {},
   "outputs": [],
   "source": [
    "expected_list = [XGate(), XGate(), SXGate(), SXGate()]\n",
    "expected_angle = [3 * np.pi / 2, np.pi / 2, 5 * np.pi / 4, np.pi / 4]\n",
    "\n",
    "for i, gate in enumerate(gates):\n",
    "    # print(\"Output unitary:\")\n",
    "    out = get_pulse_unitary(gate, n_steps, dt, solver, expected=expected_angle[i])[-1]\n",
    "    # print(np.round(out.data, 5))\n",
    "\n",
    "    # print(\"Expected unitary:\")\n",
    "    expected = qk_qi.Operator(expected_list[i])\n",
    "    # print(np.round(expected.data, 5))\n",
    "\n",
    "    print(\"Fidelity: \", qk_qi.process_fidelity(expected, out, require_cp=False, require_tp=False))"
   ]
  },
  {
   "cell_type": "markdown",
   "metadata": {},
   "source": [
    "## Normalize to one rotation"
   ]
  },
  {
   "cell_type": "code",
   "execution_count": null,
   "metadata": {},
   "outputs": [],
   "source": [
    "expected_list = [XGate(), XGate(), SXGate(), SXGate()]\n",
    "expected_angle = [np.pi / 2, np.pi / 2, np.pi / 4, np.pi / 4]\n",
    "\n",
    "for i, gate in enumerate(gates):\n",
    "    # print(\"Output unitary:\")\n",
    "    out = get_pulse_unitary(gate, 50, dt, solver, expected=expected_angle[i])[-1]\n",
    "    # print(np.round(out.data, 5))\n",
    "\n",
    "    # print(\"Expected unitary:\")\n",
    "    expected = qk_qi.Operator(expected_list[i])\n",
    "    # print(np.round(expected.data, 5))\n",
    "\n",
    "    print(\"Fidelity: \", qk_qi.process_fidelity(expected, out, require_cp=False, require_tp=False))"
   ]
  },
  {
   "cell_type": "code",
   "execution_count": null,
   "metadata": {},
   "outputs": [],
   "source": []
  }
 ],
 "metadata": {
  "kernelspec": {
   "display_name": ".venv",
   "language": "python",
   "name": "python3"
  },
  "language_info": {
   "codemirror_mode": {
    "name": "ipython",
    "version": 3
   },
   "file_extension": ".py",
   "mimetype": "text/x-python",
   "name": "python",
   "nbconvert_exporter": "python",
   "pygments_lexer": "ipython3",
   "version": "3.10.8"
  }
 },
 "nbformat": 4,
 "nbformat_minor": 2
}
