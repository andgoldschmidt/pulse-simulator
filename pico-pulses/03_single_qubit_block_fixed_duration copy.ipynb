{
 "cells": [
  {
   "cell_type": "code",
   "execution_count": null,
   "metadata": {},
   "outputs": [],
   "source": [
    "using QuantumCollocation\n",
    "using NamedTrajectories\n",
    "using TrajectoryIndexingUtils\n",
    "\n",
    "using CairoMakie\n",
    "using DelimitedFiles\n",
    "using Distributions\n",
    "using LinearAlgebra"
   ]
  },
  {
   "cell_type": "markdown",
   "metadata": {},
   "source": [
    "# Notebook difference with original\n",
    "We use a different initial condition for controls (same amplitude)."
   ]
  },
  {
   "cell_type": "markdown",
   "metadata": {},
   "source": [
    "TODO: Write a utility that resets the named trajectory to random values. Use the current fields like bounds and goal to accomplish this.\n",
    "\n",
    "TODO: Include the ability of objectives to be multiplied by floats."
   ]
  },
  {
   "cell_type": "markdown",
   "metadata": {},
   "source": [
    "IBM uses 2/9 as the timestep."
   ]
  },
  {
   "cell_type": "code",
   "execution_count": null,
   "metadata": {},
   "outputs": [],
   "source": [
    "# Operators \n",
    "const n_levels = 2\n",
    "at = create(n_levels)\n",
    "a = annihilate(n_levels)\n",
    "\n",
    "H_operators = Dict(\n",
    "        \"X\" => a + at,\n",
    "        \"Y\" => -im * (a - at),\n",
    "        \"Z\" => I - 2 * at * a,\n",
    ")\n",
    "\n",
    "# Time\n",
    "T = 50\n",
    "# Δt = 0.2\n",
    "Δt = 2/9\n",
    ";"
   ]
  },
  {
   "cell_type": "code",
   "execution_count": null,
   "metadata": {},
   "outputs": [],
   "source": [
    "H_drift = zeros(n_levels^4, n_levels^4)\n",
    "H_controls = [\n",
    "    kron_from_dict(\"XIII\", H_operators),\n",
    "    kron_from_dict(\"IXII\", H_operators),\n",
    "    kron_from_dict(\"IIXI\", H_operators),\n",
    "    kron_from_dict(\"IIIX\", H_operators),\n",
    "]\n",
    "\n",
    "X_gate = GATES[:X]\n",
    "SX_gate = sqrt(GATES[:X])\n",
    "U_goal = reduce(kron, [X_gate, X_gate, SX_gate, SX_gate])\n",
    ";"
   ]
  },
  {
   "cell_type": "code",
   "execution_count": null,
   "metadata": {},
   "outputs": [],
   "source": [
    "H_crosstalk = (\n",
    "    kron_from_dict(\"ZZII\", H_operators)\n",
    "    + kron_from_dict(\"IZZI\", H_operators)\n",
    "    + kron_from_dict(\"IIZZ\", H_operators)\n",
    "    + kron_from_dict(\"ZIIZ\", H_operators)\n",
    "    + kron_from_dict(\"ZIII\", H_operators)\n",
    "    + kron_from_dict(\"IZII\", H_operators)\n",
    "    + kron_from_dict(\"IIZI\", H_operators)\n",
    "    + kron_from_dict(\"IIIZ\", H_operators)\n",
    ")\n",
    "\n",
    "@views function infidelity_robustness(Hₑ::AbstractMatrix, p::QuantumControlProblem)\n",
    "    Z⃗ = vec(p.trajectory.data)\n",
    "    Z = p.trajectory\n",
    "    return InfidelityRobustnessObjective(Hₑ, Z).L(Z⃗, Z)\n",
    "end"
   ]
  },
  {
   "cell_type": "markdown",
   "metadata": {},
   "source": [
    "# Original control problem"
   ]
  },
  {
   "cell_type": "code",
   "execution_count": null,
   "metadata": {},
   "outputs": [],
   "source": [
    "prob = UnitarySmoothPulseProblem(\n",
    "    H_drift,\n",
    "    H_controls,\n",
    "    U_goal,\n",
    "    T,\n",
    "    Δt;\n",
    "    a_guess=(π/2/T/Δt) * ones((length(H_controls), T)),\n",
    "    timesteps_all_equal=true,\n",
    "    free_time=false,\n",
    "    hessian_approximation=true,\n",
    "    pade_order=20,\n",
    "    R=10.,\n",
    "    R_dda=5.,\n",
    ")"
   ]
  },
  {
   "cell_type": "code",
   "execution_count": null,
   "metadata": {},
   "outputs": [],
   "source": [
    "solve!(prob; max_iter=75)\n",
    "\n",
    "println(\"Fidelity: \", unitary_fidelity(prob))\n",
    "println(\"Crosstalk robustness: \", infidelity_robustness(H_crosstalk, prob))\n"
   ]
  },
  {
   "cell_type": "code",
   "execution_count": null,
   "metadata": {},
   "outputs": [],
   "source": [
    "function plot_control(\n",
    "    ts::AbstractVector, \n",
    "    as::Union{Nothing, AbstractMatrix}=nothing,\n",
    "    das::Union{Nothing, AbstractMatrix}=nothing,\n",
    "    ddas::Union{Nothing, AbstractMatrix}=nothing,\n",
    ")\n",
    "    # plot(prob.trajectory; comps=[:a, :da, :dda])\n",
    "    f = Figure(resolution=(800, 600))\n",
    "    colors = [:red, :green, :blue, :orange, :purple, :yellow, :black]\n",
    "\n",
    "    if !isnothing(as)\n",
    "        ax1 = Axis(f[1, 1])\n",
    "        for i in 1:size(as, 1)\n",
    "            lines!(ax1, ts, as[i, :]; color=colors[i])\n",
    "        end\n",
    "    end\n",
    "    if !isnothing(das)\n",
    "        ax2 = Axis(f[2, 1])\n",
    "        for i in 1:size(as, 1)\n",
    "            lines!(ax2, ts, das[i, :]; color=colors[i])\n",
    "        end\n",
    "    end\n",
    "    if !isnothing(ddas)\n",
    "        ax3 = Axis(f[3, 1])\n",
    "        for i in 1:size(as, 1)\n",
    "            lines!(ax3, ts, ddas[i, :]; color=colors[i])\n",
    "        end\n",
    "    end\n",
    "    return f\n",
    "end\n",
    "\n",
    "function plot_control(prob::QuantumControlProblem)\n",
    "    ts = accumulate(+, timesteps(prob.trajectory))\n",
    "    as = prob.trajectory[:a]\n",
    "    das = prob.trajectory[:da]\n",
    "    ddas = prob.trajectory[:dda]\n",
    "    return plot_control(ts, as, das, ddas)\n",
    "    f = Figure(resolution=(800, 600))\n",
    "end\n",
    "\n"
   ]
  },
  {
   "cell_type": "code",
   "execution_count": null,
   "metadata": {},
   "outputs": [],
   "source": [
    "plot_control(prob)"
   ]
  },
  {
   "cell_type": "code",
   "execution_count": null,
   "metadata": {},
   "outputs": [],
   "source": [
    "println(\"max(a): \", maximum(prob.trajectory[:a]))\n",
    "println(\"max(dda): \", maximum(prob.trajectory[:dda]))"
   ]
  },
  {
   "cell_type": "code",
   "execution_count": null,
   "metadata": {},
   "outputs": [],
   "source": [
    "# save(\"saved-pulses/single_qubit_gateset_default.jld2\", prob.trajectory)"
   ]
  },
  {
   "cell_type": "code",
   "execution_count": null,
   "metadata": {},
   "outputs": [],
   "source": [
    "# writedlm(\"saved-pulses/a_single_qubit_gateset_default.csv\", prob.trajectory[:a], \",\")"
   ]
  },
  {
   "cell_type": "code",
   "execution_count": null,
   "metadata": {},
   "outputs": [],
   "source": [
    "plot_control(accumulate(+, timesteps(prob.trajectory)), [1 + π, 1, 1 + π, 1] .* prob.trajectory[:a])\n"
   ]
  },
  {
   "cell_type": "code",
   "execution_count": null,
   "metadata": {},
   "outputs": [],
   "source": [
    "function random_a_guess(traj::NamedTrajectory)\n",
    "    # Positive (symmetric) upper bounds\n",
    "    a_bounds = traj.bounds[:a][2]\n",
    "\n",
    "    a_dists = [Uniform(\n",
    "        -(a_bounds[i] == Inf ? 1.0 : a_bounds[i]),\n",
    "        (a_bounds[i] == Inf ? 1.0 : a_bounds[i])\n",
    "    ) for i = 1:traj.dims[:a]]\n",
    "\n",
    "    a = hcat([\n",
    "        zeros(traj.dims[:a]),\n",
    "        vcat([rand(a_dists[i], 1, T - 2) for i = 1:traj.dims[:a]]...),\n",
    "        zeros(traj.dims[:a])\n",
    "    ]...)\n",
    "    return a\n",
    "end"
   ]
  },
  {
   "cell_type": "markdown",
   "metadata": {},
   "source": [
    "# Offset initial controls with amplitude contraint"
   ]
  },
  {
   "cell_type": "markdown",
   "metadata": {},
   "source": [
    "Note: The option 1, where we don't stagger, led to pulses that were not good. The initialization via the stagger is important?"
   ]
  },
  {
   "cell_type": "code",
   "execution_count": null,
   "metadata": {},
   "outputs": [],
   "source": [
    "trajectory = copy(prob.trajectory)\n",
    "# Need random initial conditions to avoid local minima\n",
    "\n",
    "# Option 1:\n",
    "# ----------------\n",
    "# Don't stagger! Try to use the same order of magnitude as the initial gates.\n",
    "# update!(trajectory, :a, [π/2/10 , π/2/10, π/4/10, π/4/10] .* random_a_guess(trajectory))\n",
    "# update!(trajectory, :Ũ⃗, 2 * rand(trajectory.dims[:Ũ⃗], T) .- 1)\n",
    "\n",
    "# Option 2:\n",
    "# ----------------\n",
    "# Stagger as in the plot above\n",
    "update!(trajectory, :a, [1 + π, 1, 1 + π, 1] .* prob.trajectory[:a])\n",
    "update!(trajectory, :Ũ⃗, 2 * rand(trajectory.dims[:Ũ⃗], T) .- 1)\n",
    "\n",
    "parameters = deepcopy(prob.params)\n",
    "\n",
    "objective = DefaultObjective()\n",
    "objective += Objective(parameters[:objective_terms][1])\n",
    "objective += QuadraticRegularizer(:dda, trajectory, 1e-3)\n",
    "objective += QuadraticRegularizer(:a, trajectory, 1e-6)\n",
    "\n",
    "update_bound!(trajectory, :a, 1.0)\n",
    "constraints = trajectory_constraints(trajectory)\n",
    "\n",
    "ipopt_options = Options()\n",
    "ipopt_options.hessian_approximation = \"limited-memory\"\n",
    "\n",
    "rob_prob_1 = UnitaryRobustnessProblem(\n",
    "    H_crosstalk,\n",
    "    trajectory,\n",
    "    prob.system,\n",
    "    objective,\n",
    "    prob.integrators,\n",
    "    constraints;\n",
    "    final_fidelity=0.9, \n",
    "    verbose=false,\n",
    "    build_trajectory_constraints=false,\n",
    "    hessian_approximation=true,\n",
    "    ipopt_options=ipopt_options\n",
    ")"
   ]
  },
  {
   "cell_type": "code",
   "execution_count": null,
   "metadata": {},
   "outputs": [],
   "source": [
    "solve!(rob_prob_1; max_iter=100)\n",
    "\n",
    "println(\"Fidelity: \", unitary_fidelity(rob_prob_1))\n",
    "println(\"Robustness: \", infidelity_robustness(H_crosstalk, rob_prob_1))"
   ]
  },
  {
   "cell_type": "code",
   "execution_count": null,
   "metadata": {},
   "outputs": [],
   "source": [
    "plot_control(rob_prob_1)"
   ]
  },
  {
   "cell_type": "code",
   "execution_count": null,
   "metadata": {},
   "outputs": [],
   "source": [
    "trajectory = copy(rob_prob_1.trajectory)\n",
    "parameters = deepcopy(prob.params)\n",
    "\n",
    "objective = DefaultObjective()\n",
    "objective += QuadraticRegularizer(:dda, trajectory, 1e-5)\n",
    "objective += QuadraticRegularizer(:a, trajectory, 1e-5)\n",
    "\n",
    "update_bound!(trajectory, :a, Inf)\n",
    "update_bound!(trajectory, :dda, Inf)\n",
    "constraints = trajectory_constraints(trajectory)\n",
    "\n",
    "ipopt_options = Options()\n",
    "ipopt_options.hessian_approximation = \"limited-memory\"\n",
    "\n",
    "rob_prob_2 = UnitaryRobustnessProblem(\n",
    "    H_crosstalk,\n",
    "    trajectory,\n",
    "    prob.system,\n",
    "    objective,\n",
    "    prob.integrators,\n",
    "    constraints;\n",
    "    final_fidelity=0.9999,\n",
    "    verbose=false,\n",
    "    build_trajectory_constraints=false,\n",
    "    hessian_approximation=true,\n",
    "    ipopt_options=ipopt_options\n",
    ")"
   ]
  },
  {
   "cell_type": "code",
   "execution_count": null,
   "metadata": {},
   "outputs": [],
   "source": [
    "solve!(rob_prob_2; max_iter=200)\n",
    "\n",
    "println(\"Fidelity: \", unitary_fidelity(rob_prob_2))\n",
    "println(\"Robustness: \", infidelity_robustness(H_crosstalk, rob_prob_2))"
   ]
  },
  {
   "cell_type": "code",
   "execution_count": null,
   "metadata": {},
   "outputs": [],
   "source": [
    "println(\"max(a): \", maximum(rob_prob_2.trajectory[:a]))\n",
    "println(\"max(dda): \", maximum(rob_prob_2.trajectory[:dda]))"
   ]
  },
  {
   "cell_type": "code",
   "execution_count": null,
   "metadata": {},
   "outputs": [],
   "source": [
    "plot_control(rob_prob_2)"
   ]
  },
  {
   "cell_type": "code",
   "execution_count": null,
   "metadata": {},
   "outputs": [],
   "source": [
    "save(\"saved-pulses/single_qubit_gateset_R1e-5.jld2\", rob_prob_2.trajectory)"
   ]
  },
  {
   "cell_type": "markdown",
   "metadata": {},
   "source": [
    "# From 1.0 bound gate, no constraint, tighten R's"
   ]
  },
  {
   "cell_type": "code",
   "execution_count": null,
   "metadata": {},
   "outputs": [],
   "source": [
    "trajectory = copy(rob_prob_1.trajectory)\n",
    "# Need random initial conditions to avoid local minima\n",
    "# update!(trajectory, :a, random_a_guess(trajectory))\n",
    "# update!(trajectory, :Ũ⃗, 2 * rand(trajectory.dims[:Ũ⃗], T) .- 1)\n",
    "parameters = deepcopy(prob.params)\n",
    "\n",
    "objective = DefaultObjective()\n",
    "objective += QuadraticRegularizer(:dda, trajectory, 1e-3)\n",
    "objective += QuadraticRegularizer(:a, trajectory, 1e-3)\n",
    "\n",
    "update_bound!(trajectory, :a, Inf)\n",
    "update_bound!(trajectory, :dda, Inf)\n",
    "constraints = trajectory_constraints(trajectory)\n",
    "\n",
    "ipopt_options = Options()\n",
    "ipopt_options.hessian_approximation = \"limited-memory\"\n",
    "\n",
    "rob_prob_3 = UnitaryRobustnessProblem(\n",
    "    H_crosstalk,\n",
    "    trajectory,\n",
    "    prob.system,\n",
    "    objective,\n",
    "    prob.integrators,\n",
    "    constraints;\n",
    "    final_fidelity=0.9999,\n",
    "    verbose=false,\n",
    "    build_trajectory_constraints=false,\n",
    "    hessian_approximation=true,\n",
    "    ipopt_options=ipopt_options\n",
    ")"
   ]
  },
  {
   "cell_type": "code",
   "execution_count": null,
   "metadata": {},
   "outputs": [],
   "source": [
    "solve!(rob_prob_3; max_iter=200)\n",
    "\n",
    "println(\"Fidelity: \", unitary_fidelity(rob_prob_3))\n",
    "println(\"Robustness: \", infidelity_robustness(H_crosstalk, rob_prob_3))"
   ]
  },
  {
   "cell_type": "code",
   "execution_count": null,
   "metadata": {},
   "outputs": [],
   "source": [
    "println(\"max(a): \", maximum(rob_prob_3.trajectory[:a]))\n",
    "println(\"max(dda): \", maximum(rob_prob_3.trajectory[:dda]))"
   ]
  },
  {
   "cell_type": "code",
   "execution_count": null,
   "metadata": {},
   "outputs": [],
   "source": [
    "plot_control(rob_prob_3)"
   ]
  },
  {
   "cell_type": "code",
   "execution_count": null,
   "metadata": {},
   "outputs": [],
   "source": [
    "save(\"saved-pulses/single_qubit_gateset_R1e-3.jld2\", rob_prob_3.trajectory)"
   ]
  },
  {
   "cell_type": "code",
   "execution_count": null,
   "metadata": {},
   "outputs": [],
   "source": [
    "writedlm(\"saved-pulses/a_single_qubit_gateset_R1e-3.csv\", rob_prob_3.trajectory[:a], \",\")"
   ]
  },
  {
   "cell_type": "markdown",
   "metadata": {},
   "source": [
    "# From 1.0 bound gate, no constraint, loosen R"
   ]
  },
  {
   "cell_type": "code",
   "execution_count": null,
   "metadata": {},
   "outputs": [],
   "source": [
    "trajectory = copy(rob_prob_1.trajectory)\n",
    "parameters = deepcopy(prob.params)\n",
    "\n",
    "objective = DefaultObjective()\n",
    "objective += QuadraticRegularizer(:dda, trajectory, 1e-6)\n",
    "objective += QuadraticRegularizer(:a, trajectory, 1e-6)\n",
    "\n",
    "update_bound!(trajectory, :a, Inf)\n",
    "update_bound!(trajectory, :dda, Inf)\n",
    "constraints = trajectory_constraints(trajectory)\n",
    "\n",
    "ipopt_options = Options()\n",
    "ipopt_options.hessian_approximation = \"limited-memory\"\n",
    "\n",
    "rob_prob_4 = UnitaryRobustnessProblem(\n",
    "    H_crosstalk,\n",
    "    trajectory,\n",
    "    prob.system,\n",
    "    objective,\n",
    "    prob.integrators,\n",
    "    constraints;\n",
    "    final_fidelity=0.9999,\n",
    "    verbose=false,\n",
    "    build_trajectory_constraints=false,\n",
    "    hessian_approximation=true,\n",
    "    ipopt_options=ipopt_options\n",
    ")"
   ]
  },
  {
   "cell_type": "code",
   "execution_count": 29,
   "metadata": {},
   "outputs": [],
   "source": [
    "solve!(rob_prob_4; max_iter=200)\n",
    "\n",
    "println(\"Fidelity: \", unitary_fidelity(rob_prob_4))\n",
    "println(\"Robustness: \", infidelity_robustness(H_crosstalk, rob_prob_4))"
   ]
  },
  {
   "cell_type": "code",
   "execution_count": null,
   "metadata": {},
   "outputs": [],
   "source": [
    "println(\"max(a): \", maximum(rob_prob_4.trajectory[:a]))\n",
    "println(\"max(dda): \", maximum(rob_prob_4.trajectory[:dda]))"
   ]
  },
  {
   "cell_type": "code",
   "execution_count": null,
   "metadata": {},
   "outputs": [],
   "source": [
    "plot_control(rob_prob_4)"
   ]
  },
  {
   "cell_type": "code",
   "execution_count": null,
   "metadata": {},
   "outputs": [],
   "source": [
    "save(\"saved-pulses/single_qubit_gateset_R1e-6.jld2\", rob_prob_4.trajectory)"
   ]
  },
  {
   "cell_type": "code",
   "execution_count": null,
   "metadata": {},
   "outputs": [],
   "source": [
    "writedlm(\"saved-pulses/a_single_qubit_gateset_R1e-6.csv\", rob_prob_4.trajectory[:a], \",\")"
   ]
  },
  {
   "cell_type": "markdown",
   "metadata": {},
   "source": [
    "# From 1.0 bound gate, no constraint, tightest constraint"
   ]
  },
  {
   "cell_type": "code",
   "execution_count": null,
   "metadata": {},
   "outputs": [],
   "source": [
    "trajectory = copy(rob_prob_1.trajectory)\n",
    "parameters = deepcopy(prob.params)\n",
    "\n",
    "objective = DefaultObjective()\n",
    "objective += QuadraticRegularizer(:dda, trajectory, 1e-2)\n",
    "objective += QuadraticRegularizer(:a, trajectory, 1e-2)\n",
    "\n",
    "update_bound!(trajectory, :a, Inf)\n",
    "update_bound!(trajectory, :dda, Inf)\n",
    "constraints = trajectory_constraints(trajectory)\n",
    "\n",
    "ipopt_options = Options()\n",
    "ipopt_options.hessian_approximation = \"limited-memory\"\n",
    "\n",
    "rob_prob_5 = UnitaryRobustnessProblem(\n",
    "    H_crosstalk,\n",
    "    trajectory,\n",
    "    prob.system,\n",
    "    objective,\n",
    "    prob.integrators,\n",
    "    constraints;\n",
    "    final_fidelity=0.9999,\n",
    "    verbose=false,\n",
    "    build_trajectory_constraints=false,\n",
    "    hessian_approximation=true,\n",
    "    ipopt_options=ipopt_options\n",
    ")"
   ]
  },
  {
   "cell_type": "code",
   "execution_count": null,
   "metadata": {},
   "outputs": [],
   "source": [
    "solve!(rob_prob_5; max_iter=200)\n",
    "\n",
    "println(\"Fidelity: \", unitary_fidelity(rob_prob_5))\n",
    "println(\"Robustness: \", infidelity_robustness(H_crosstalk, rob_prob_5))"
   ]
  },
  {
   "cell_type": "code",
   "execution_count": null,
   "metadata": {},
   "outputs": [],
   "source": [
    "println(\"max(a): \", maximum(rob_prob_5.trajectory[:a]))\n",
    "println(\"max(dda): \", maximum(rob_prob_5.trajectory[:dda]))"
   ]
  },
  {
   "cell_type": "code",
   "execution_count": null,
   "metadata": {},
   "outputs": [],
   "source": [
    "plot_control(rob_prob_5)"
   ]
  },
  {
   "cell_type": "code",
   "execution_count": null,
   "metadata": {},
   "outputs": [],
   "source": [
    "save(\"saved-pulses/single_qubit_gateset_R1e-2.jld2\", rob_prob_5.trajectory)"
   ]
  },
  {
   "cell_type": "markdown",
   "metadata": {},
   "source": [
    "# From 1.0 bound gate, no constraint, max regularization"
   ]
  },
  {
   "cell_type": "code",
   "execution_count": null,
   "metadata": {},
   "outputs": [],
   "source": [
    "trajectory = copy(rob_prob_1.trajectory)\n",
    "parameters = deepcopy(prob.params)\n",
    "\n",
    "objective = DefaultObjective()\n",
    "objective += QuadraticRegularizer(:dda, trajectory, 1e-1)\n",
    "objective += QuadraticRegularizer(:a, trajectory, 1e-1)\n",
    "\n",
    "update_bound!(trajectory, :a, Inf)\n",
    "update_bound!(trajectory, :dda, Inf)\n",
    "constraints = trajectory_constraints(trajectory)\n",
    "\n",
    "ipopt_options = Options()\n",
    "ipopt_options.hessian_approximation = \"limited-memory\"\n",
    "\n",
    "rob_prob_6 = UnitaryRobustnessProblem(\n",
    "    H_crosstalk,\n",
    "    trajectory,\n",
    "    prob.system,\n",
    "    objective,\n",
    "    prob.integrators,\n",
    "    constraints;\n",
    "    final_fidelity=0.9999,\n",
    "    verbose=false,\n",
    "    build_trajectory_constraints=false,\n",
    "    hessian_approximation=true,\n",
    "    ipopt_options=ipopt_options\n",
    ")"
   ]
  },
  {
   "cell_type": "code",
   "execution_count": null,
   "metadata": {},
   "outputs": [],
   "source": [
    "solve!(rob_prob_6; max_iter=200)\n",
    "\n",
    "println(\"Fidelity: \", unitary_fidelity(rob_prob_6))\n",
    "println(\"Robustness: \", infidelity_robustness(H_crosstalk, rob_prob_6))"
   ]
  },
  {
   "cell_type": "code",
   "execution_count": null,
   "metadata": {},
   "outputs": [],
   "source": [
    "println(\"max(a): \", maximum(rob_prob_6.trajectory[:a]))\n",
    "println(\"max(dda): \", maximum(rob_prob_6.trajectory[:dda]))"
   ]
  },
  {
   "cell_type": "code",
   "execution_count": null,
   "metadata": {},
   "outputs": [],
   "source": [
    "plot_control(rob_prob_6)"
   ]
  },
  {
   "cell_type": "code",
   "execution_count": null,
   "metadata": {},
   "outputs": [],
   "source": [
    "save(\"saved-pulses/single_qubit_gateset_R1e-1.jld2\", rob_prob_6.trajectory)"
   ]
  },
  {
   "cell_type": "code",
   "execution_count": null,
   "metadata": {},
   "outputs": [],
   "source": []
  }
 ],
 "metadata": {
  "kernelspec": {
   "display_name": "Julia 1.9.3",
   "language": "julia",
   "name": "julia-1.9"
  },
  "language_info": {
   "file_extension": ".jl",
   "mimetype": "application/julia",
   "name": "julia",
   "version": "1.9.3"
  }
 },
 "nbformat": 4,
 "nbformat_minor": 2
}
