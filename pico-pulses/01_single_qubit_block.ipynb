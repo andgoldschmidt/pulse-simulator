{
 "cells": [
  {
   "cell_type": "code",
   "execution_count": null,
   "metadata": {},
   "outputs": [],
   "source": [
    "using QuantumCollocation\n",
    "using NamedTrajectories\n",
    "using TrajectoryIndexingUtils\n",
    "\n",
    "using LinearAlgebra\n",
    "using CairoMakie"
   ]
  },
  {
   "cell_type": "code",
   "execution_count": null,
   "metadata": {},
   "outputs": [],
   "source": [
    "function transmon(n::Int)\n",
    "    at = create(n)\n",
    "    a = annihilate(n)\n",
    "    H_0 = zeros(n, n)\n",
    "    H_C = [at + a, im * (at - a)]\n",
    "    return H_0, H_C\n",
    "end"
   ]
  },
  {
   "cell_type": "code",
   "execution_count": null,
   "metadata": {},
   "outputs": [],
   "source": [
    "probs = Dict()"
   ]
  },
  {
   "cell_type": "code",
   "execution_count": null,
   "metadata": {},
   "outputs": [],
   "source": [
    "hsd = 2\n",
    "H_drift, H_drives = transmon(hsd)\n",
    "X_goal = embed_operator(hsd, GATES[:X])\n",
    "SX_goal = embed_operator(hsd, sqrt(GATES[:X]))\n",
    "subspace = subspace_indices([hsd])\n",
    "T = 50\n",
    "Δt = .2\n",
    "\n",
    "# X gate\n",
    "probs[\"X\"] = UnitarySmoothPulseProblem(\n",
    "    H_drift, H_drives, X_goal, T, Δt;\n",
    "    geodesic=true,\n",
    "    subspace=subspace,\n",
    "    verbose=false,\n",
    "    timesteps_all_equal=true,\n",
    "    free_time=false,\n",
    "    hessian_approximation=true,\n",
    "    pade_order=10,\n",
    "    R=1.,\n",
    ")\n",
    "\n",
    "solve!(probs[\"X\"]; max_iter=200)\n",
    "\n",
    "# SX gate\n",
    "probs[\"SX\"] = UnitarySmoothPulseProblem(\n",
    "    H_drift, H_drives, SX_goal, T, Δt;\n",
    "    geodesic=true,\n",
    "    subspace=subspace,\n",
    "    verbose=false,\n",
    "    timesteps_all_equal=true,\n",
    "    free_time=false,\n",
    "    hessian_approximation=true,\n",
    "    pade_order=10,\n",
    "    R=1.,\n",
    ")\n",
    "\n",
    "solve!(probs[\"SX\"]; max_iter=200)"
   ]
  },
  {
   "cell_type": "code",
   "execution_count": null,
   "metadata": {},
   "outputs": [],
   "source": [
    "unitary_fidelity(probs[\"X\"]) |> println\n",
    "unitary_fidelity(probs[\"SX\"]) |> println"
   ]
  },
  {
   "cell_type": "markdown",
   "metadata": {},
   "source": [
    "# Combine"
   ]
  },
  {
   "cell_type": "code",
   "execution_count": null,
   "metadata": {},
   "outputs": [],
   "source": [
    "B_drives = Matrix{ComplexF64}[]\n",
    "append!(B_drives, [H ⊗ GATES[:I] for H in H_drives])\n",
    "append!(B_drives, [GATES[:I] ⊗ H  for H in H_drives])\n",
    "\n",
    "B_guess = []\n",
    "for _ in 1:2\n",
    "    for row ∈ eachrow(probs[\"X\"].trajectory[:a])\n",
    "        push!(B_guess, copy(row))\n",
    "    end\n",
    "end\n",
    "B_guess = collect(hcat(B_guess...)')\n",
    "\n",
    "B_goal = X_goal ⊗ X_goal\n",
    "\n",
    "ZZ = GATES[:Z] ⊗ GATES[:Z]"
   ]
  },
  {
   "cell_type": "code",
   "execution_count": null,
   "metadata": {},
   "outputs": [],
   "source": [
    "two_subspace = subspace_indices([hsd, hsd])\n",
    "probs[\"pair\"] = UnitarySmoothPulseProblem(\n",
    "    zeros(4, 4), B_drives, B_goal, T, Δt;\n",
    "    # a_guess=B_guess,\n",
    "    subspace=two_subspace,\n",
    "    timesteps_all_equal=false,\n",
    "    free_time=true,\n",
    "    hessian_approximation=true,\n",
    "    pade_order=10,\n",
    "    R=1.,\n",
    ")"
   ]
  },
  {
   "cell_type": "code",
   "execution_count": null,
   "metadata": {},
   "outputs": [],
   "source": [
    "solve!(probs[\"pair\"]; max_iter=200)"
   ]
  },
  {
   "cell_type": "code",
   "execution_count": null,
   "metadata": {},
   "outputs": [],
   "source": [
    "unitary_fidelity(probs[\"pair\"]) |> println"
   ]
  },
  {
   "cell_type": "code",
   "execution_count": null,
   "metadata": {},
   "outputs": [],
   "source": [
    "plot(probs[\"pair\"].trajectory)"
   ]
  },
  {
   "cell_type": "markdown",
   "metadata": {},
   "source": [
    "## Robust"
   ]
  },
  {
   "cell_type": "code",
   "execution_count": null,
   "metadata": {},
   "outputs": [],
   "source": [
    "probs[\"robust\"] = UnitaryRobustnessProblem(\n",
    "    ZZ, probs[\"pair\"];\n",
    "    final_fidelity=0.99, subspace=two_subspace, verbose=false,\n",
    "    hessian_approximation=true\n",
    ")\n",
    "\n",
    "solve!(probs[\"robust\"]; max_iter=100)"
   ]
  },
  {
   "cell_type": "code",
   "execution_count": null,
   "metadata": {},
   "outputs": [],
   "source": [
    "plot(probs[\"robust\"].trajectory)"
   ]
  },
  {
   "cell_type": "code",
   "execution_count": null,
   "metadata": {},
   "outputs": [],
   "source": [
    "unitary_fidelity(probs[\"robust\"]) |> println"
   ]
  },
  {
   "cell_type": "code",
   "execution_count": null,
   "metadata": {},
   "outputs": [],
   "source": [
    "# --------------------------------------------\n",
    "# 4. test UnitaryRobustnessProblem default\n",
    "# --------------------------------------------\n",
    "params = deepcopy(probs[\"pair\"].params)\n",
    "trajectory = copy(probs[\"pair\"].trajectory)\n",
    "system = probs[\"pair\"].system\n",
    "objective = QuadraticRegularizer(:dda, trajectory, 1e-4)\n",
    "objective += QuadraticRegularizer(:a, trajectory, 1e-4)\n",
    "integrators = probs[\"pair\"].integrators\n",
    "constraints = AbstractConstraint[]\n",
    "\n",
    "probs[\"unconstrained\"] = UnitaryRobustnessProblem(\n",
    "    ZZ, trajectory, system, objective, integrators, constraints;\n",
    "    final_fidelity=0.9999, subspace=two_subspace, verbose=false,\n",
    "    hessian_approximation=true\n",
    ")\n",
    "\n",
    "solve!(probs[\"unconstrained\"]; max_iter=100)"
   ]
  },
  {
   "cell_type": "code",
   "execution_count": null,
   "metadata": {},
   "outputs": [],
   "source": [
    "unitary_fidelity(probs[\"unconstrained\"])"
   ]
  },
  {
   "cell_type": "code",
   "execution_count": null,
   "metadata": {},
   "outputs": [],
   "source": [
    "loss = (Hₑ, prob) -> begin\n",
    "    Z⃗ = vec(prob.trajectory.data)\n",
    "    Z = prob.trajectory\n",
    "    return InfidelityRobustnessObjective(Hₑ, Z).L(Z⃗, Z)\n",
    "end"
   ]
  },
  {
   "cell_type": "code",
   "execution_count": null,
   "metadata": {},
   "outputs": [],
   "source": [
    "loss(ZZ, probs[\"unconstrained\"])"
   ]
  },
  {
   "cell_type": "code",
   "execution_count": null,
   "metadata": {},
   "outputs": [],
   "source": [
    "loss(ZZ, probs[\"pair\"])\n"
   ]
  },
  {
   "cell_type": "code",
   "execution_count": null,
   "metadata": {},
   "outputs": [],
   "source": [
    "plot(probs[\"unconstrained\"].trajectory)"
   ]
  },
  {
   "cell_type": "code",
   "execution_count": null,
   "metadata": {},
   "outputs": [],
   "source": [
    "plot(probs[\"unconstrained\"].trajectory)\n"
   ]
  },
  {
   "cell_type": "code",
   "execution_count": null,
   "metadata": {},
   "outputs": [],
   "source": []
  }
 ],
 "metadata": {
  "kernelspec": {
   "display_name": "Julia 1.9.3",
   "language": "julia",
   "name": "julia-1.9"
  },
  "language_info": {
   "file_extension": ".jl",
   "mimetype": "application/julia",
   "name": "julia",
   "version": "1.9.3"
  }
 },
 "nbformat": 4,
 "nbformat_minor": 2
}
