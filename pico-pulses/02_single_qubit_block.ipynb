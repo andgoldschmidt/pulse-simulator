{
 "cells": [
  {
   "cell_type": "code",
   "execution_count": null,
   "metadata": {},
   "outputs": [],
   "source": [
    "using QuantumCollocation\n",
    "using NamedTrajectories\n",
    "using TrajectoryIndexingUtils\n",
    "\n",
    "using CairoMakie\n",
    "using LinearAlgebra"
   ]
  },
  {
   "cell_type": "code",
   "execution_count": null,
   "metadata": {},
   "outputs": [],
   "source": [
    "# Operators \n",
    "const n_levels = 2\n",
    "at = create(n_levels)\n",
    "a = annihilate(n_levels)\n",
    "\n",
    "H_operators = Dict(\n",
    "        \"X\" => a + at,\n",
    "        \"Y\" => -im * (a - at),\n",
    "        \"Z\" => I - 2 * at * a,\n",
    ")\n",
    "\n",
    "# Time\n",
    "T = 50\n",
    "Δt = 0.2\n",
    ";"
   ]
  },
  {
   "cell_type": "code",
   "execution_count": null,
   "metadata": {},
   "outputs": [],
   "source": [
    "# H_drift = zeros(n_levels^2, n_levels^2)\n",
    "# H_controls = [\n",
    "#     kron_from_dict(\"XI\", H_operators),\n",
    "#     kron_from_dict(\"IX\", H_operators),\n",
    "#     kron_from_dict(\"YI\", H_operators),\n",
    "#     kron_from_dict(\"IY\", H_operators),\n",
    "# ]\n",
    "\n",
    "# H_drift = zeros(n_levels^3, n_levels^3)\n",
    "# H_controls = [\n",
    "#     kron_from_dict(\"XII\", H_operators),\n",
    "#     kron_from_dict(\"IXI\", H_operators),\n",
    "#     kron_from_dict(\"IIX\", H_operators),\n",
    "#     kron_from_dict(\"YII\", H_operators),\n",
    "#     kron_from_dict(\"IYI\", H_operators),\n",
    "#     kron_from_dict(\"IIY\", H_operators),\n",
    "# ]\n",
    "\n",
    "H_drift = zeros(n_levels^4, n_levels^4)\n",
    "H_controls = [\n",
    "    kron_from_dict(\"XIII\", H_operators),\n",
    "    kron_from_dict(\"IXII\", H_operators),\n",
    "    kron_from_dict(\"IIXI\", H_operators),\n",
    "    kron_from_dict(\"IIIX\", H_operators),\n",
    "    # kron_from_dict(\"YIII\", H_operators),\n",
    "    # kron_from_dict(\"IYII\", H_operators),\n",
    "    # kron_from_dict(\"IIYI\", H_operators),\n",
    "    # kron_from_dict(\"IIIY\", H_operators)\n",
    "]\n",
    "\n",
    "X_gate = GATES[:X]\n",
    "SX_gate = sqrt(GATES[:X])\n",
    "# U_goal = reduce(kron, [X_gate, X_gate])\n",
    "# U_goal = reduce(kron, [X_gate, X_gate, SX_gate])\n",
    "U_goal = reduce(kron, [X_gate, X_gate, SX_gate, SX_gate])\n",
    ";"
   ]
  },
  {
   "cell_type": "code",
   "execution_count": null,
   "metadata": {},
   "outputs": [],
   "source": [
    "prob = UnitarySmoothPulseProblem(\n",
    "    H_drift,\n",
    "    H_controls,\n",
    "    U_goal,\n",
    "    T,\n",
    "    Δt;\n",
    "    Δt_min=Δt / 1.5,\n",
    "    Δt_max=1.5 * Δt,\n",
    "    hessian_approximation=true,\n",
    "    pade_order=4,\n",
    ")"
   ]
  },
  {
   "cell_type": "code",
   "execution_count": null,
   "metadata": {},
   "outputs": [],
   "source": [
    "solve!(prob; max_iter=25)\n",
    "\n",
    "unitary_fidelity(prob)"
   ]
  },
  {
   "cell_type": "code",
   "execution_count": null,
   "metadata": {},
   "outputs": [],
   "source": [
    "objective = DefaultObjective()\n",
    "objective = QuadraticRegularizer(:dda, prob.trajectory, 1e-2)\n",
    "# objective += QuadraticRegularizer(:da, prob.trajectory, 1.0)\n",
    "objective += QuadraticRegularizer(:a, prob.trajectory, 1e-2)\n",
    "\n",
    "# Add acceleration constraint during loop\n",
    "traj = copy(prob.trajectory)\n",
    "update_bound!(traj, :a, 1.5)\n",
    "# update_bound!(traj, :dda, 0.1)\n",
    "constraints = trajectory_constraints(traj)\n",
    "# constraints = AbstractConstraint[]\n",
    "\n",
    "ipopt_options = Options()\n",
    "ipopt_options.hessian_approximation = \"limited-memory\"\n",
    "\n",
    "min_prob = UnitaryMinimumTimeProblem(\n",
    "    prob;\n",
    "    objective=objective,\n",
    "    constraints=constraints,\n",
    "    final_fidelity=0.99, \n",
    "    verbose=false,\n",
    "    build_trajectory_constraints=false,\n",
    "    hessian_approximation=true,\n",
    "    ipopt_options=ipopt_options\n",
    ")"
   ]
  },
  {
   "cell_type": "code",
   "execution_count": null,
   "metadata": {},
   "outputs": [],
   "source": [
    "solve!(min_prob; max_iter=50)\n",
    "\n",
    "unitary_fidelity(min_prob)"
   ]
  },
  {
   "cell_type": "code",
   "execution_count": null,
   "metadata": {},
   "outputs": [],
   "source": [
    "# H_crosstalk = (\n",
    "#     kron_from_dict(\"ZZ\", H_operators)\n",
    "# )\n",
    "\n",
    "# H_crosstalk = (\n",
    "#     kron_from_dict(\"ZZI\", H_operators)\n",
    "#     + kron_from_dict(\"IZZ\", H_operators)\n",
    "# )\n",
    "\n",
    "H_crosstalk = (\n",
    "    kron_from_dict(\"ZZII\", H_operators)\n",
    "    + kron_from_dict(\"IZZI\", H_operators)\n",
    "    + kron_from_dict(\"IIZZ\", H_operators)\n",
    "    + kron_from_dict(\"ZIIZ\", H_operators)\n",
    "    + kron_from_dict(\"ZIII\", H_operators)\n",
    "    + kron_from_dict(\"IZII\", H_operators)\n",
    "    + kron_from_dict(\"IIZI\", H_operators)\n",
    "    + kron_from_dict(\"IIIZ\", H_operators)\n",
    ")\n",
    "\n",
    "objective = DefaultObjective()\n",
    "objective = QuadraticRegularizer(:dda, prob.trajectory, 1e-6)\n",
    "objective += QuadraticRegularizer(:a, prob.trajectory, 1e-6)\n",
    "\n",
    "# Add acceleration constraint during loop\n",
    "# traj = copy(prob.trajectory)\n",
    "# update_bound!(traj, :a, 1.5)\n",
    "# update_bound!(traj, :dda, 0.1)\n",
    "# constraints = trajectory_constraints(traj)\n",
    "constraints = AbstractConstraint[]\n",
    "\n",
    "ipopt_options = Options()\n",
    "ipopt_options.hessian_approximation = \"limited-memory\"\n",
    "\n",
    "rob_prob_1 = UnitaryRobustnessProblem(\n",
    "    H_crosstalk,\n",
    "    prob;\n",
    "    objective=objective,\n",
    "    constraints=constraints,\n",
    "    final_fidelity=0.99, \n",
    "    verbose=false,\n",
    "    build_trajectory_constraints=true,\n",
    "    hessian_approximation=true,\n",
    "    ipopt_options=ipopt_options\n",
    ")"
   ]
  },
  {
   "cell_type": "code",
   "execution_count": null,
   "metadata": {},
   "outputs": [],
   "source": [
    "solve!(rob_prob_1; max_iter=50)\n",
    "\n",
    "unitary_fidelity(rob_prob_1)"
   ]
  },
  {
   "cell_type": "code",
   "execution_count": null,
   "metadata": {},
   "outputs": [],
   "source": [
    "objective = DefaultObjective()\n",
    "objective = QuadraticRegularizer(:dda, min_prob.trajectory, 1e-6)\n",
    "objective += QuadraticRegularizer(:a, min_prob.trajectory, 1e-6)\n",
    "\n",
    "constraints = AbstractConstraint[]\n",
    "\n",
    "ipopt_options = Options()\n",
    "ipopt_options.hessian_approximation = \"limited-memory\"\n",
    "\n",
    "rob_prob_2 = UnitaryRobustnessProblem(\n",
    "    H_crosstalk,\n",
    "    min_prob;\n",
    "    objective=objective,\n",
    "    constraints=constraints,\n",
    "    final_fidelity=0.99, \n",
    "    verbose=false,\n",
    "    build_trajectory_constraints=true,\n",
    "    hessian_approximation=true,\n",
    "    ipopt_options=ipopt_options\n",
    ")"
   ]
  },
  {
   "cell_type": "code",
   "execution_count": null,
   "metadata": {},
   "outputs": [],
   "source": [
    "solve!(rob_prob_2; max_iter=50)\n",
    "\n",
    "unitary_fidelity(rob_prob_2)"
   ]
  },
  {
   "cell_type": "code",
   "execution_count": null,
   "metadata": {},
   "outputs": [],
   "source": [
    "@views function infidelity_robustness(Hₑ::AbstractMatrix, p::QuantumControlProblem)\n",
    "    Z⃗ = vec(p.trajectory.data)\n",
    "    Z = p.trajectory\n",
    "    return InfidelityRobustnessObjective(Hₑ, Z).L(Z⃗, Z)\n",
    "end"
   ]
  },
  {
   "cell_type": "code",
   "execution_count": null,
   "metadata": {},
   "outputs": [],
   "source": [
    "infidelity_robustness(H_crosstalk, min_prob)"
   ]
  },
  {
   "cell_type": "code",
   "execution_count": null,
   "metadata": {},
   "outputs": [],
   "source": [
    "infidelity_robustness(H_crosstalk, rob_prob_1)"
   ]
  },
  {
   "cell_type": "code",
   "execution_count": null,
   "metadata": {},
   "outputs": [],
   "source": [
    "infidelity_robustness(H_crosstalk, rob_prob_2)"
   ]
  },
  {
   "cell_type": "code",
   "execution_count": null,
   "metadata": {},
   "outputs": [],
   "source": [
    "# plot(prob.trajectory; comps=[:a, :da, :dda])\n",
    "f = Figure(resolution=(800, 600))\n",
    "ax1 = Axis(f[1, 1])\n",
    "ax2 = Axis(f[2, 1])\n",
    "ax3 = Axis(f[3, 1])\n",
    "ts = accumulate(+, timesteps(min_prob.trajectory))\n",
    "as = min_prob.trajectory[:a]\n",
    "das = min_prob.trajectory[:da]\n",
    "ddas = min_prob.trajectory[:dda]\n",
    "colors = [:red, :green, :blue, :orange, :purple, :yellow, :black]\n",
    "\n",
    "for i in 1:size(as, 1)\n",
    "    lines!(ax1, ts, as[i, :]; color=colors[i])\n",
    "    lines!(ax2, ts, das[i, :]; color=colors[i])\n",
    "    lines!(ax3, ts, ddas[i, :]; color=colors[i])\n",
    "end\n",
    "f\n"
   ]
  },
  {
   "cell_type": "code",
   "execution_count": null,
   "metadata": {},
   "outputs": [],
   "source": [
    "# plot(prob.trajectory; comps=[:a, :da, :dda])\n",
    "f = Figure(resolution=(800, 600))\n",
    "ax1 = Axis(f[1, 1])\n",
    "ax2 = Axis(f[2, 1])\n",
    "ax3 = Axis(f[3, 1])\n",
    "ts = accumulate(+, timesteps(min_prob.trajectory))\n",
    "as = min_prob.trajectory[:a]\n",
    "das = min_prob.trajectory[:da]\n",
    "ddas = min_prob.trajectory[:dda]\n",
    "colors = [:red, :green, :blue, :orange, :purple, :yellow, :black]\n",
    "\n",
    "for i in 1:size(as, 1)\n",
    "    lines!(ax1, ts, as[i, :]; color=colors[i])\n",
    "    lines!(ax2, ts, das[i, :]; color=colors[i])\n",
    "    lines!(ax3, ts, ddas[i, :]; color=colors[i])\n",
    "end\n",
    "f"
   ]
  },
  {
   "cell_type": "code",
   "execution_count": null,
   "metadata": {},
   "outputs": [],
   "source": [
    "# plot(prob.trajectory; comps=[:a, :da, :dda])\n",
    "f = Figure(resolution=(800, 600))\n",
    "ax1 = Axis(f[1, 1])\n",
    "ax2 = Axis(f[2, 1])\n",
    "ax3 = Axis(f[3, 1])\n",
    "ts = accumulate(+, timesteps(rob_prob_1.trajectory))\n",
    "as = rob_prob_1.trajectory[:a]\n",
    "das = rob_prob_1.trajectory[:da]\n",
    "ddas = rob_prob_1.trajectory[:dda]\n",
    "colors = [:red, :green, :blue, :orange, :purple, :yellow, :black]\n",
    "\n",
    "for i in 1:size(as, 1)\n",
    "    lines!(ax1, ts, as[i, :]; color=colors[i])\n",
    "    lines!(ax2, ts, das[i, :]; color=colors[i])\n",
    "    lines!(ax3, ts, ddas[i, :]; color=colors[i])\n",
    "end\n",
    "f\n"
   ]
  },
  {
   "cell_type": "code",
   "execution_count": null,
   "metadata": {},
   "outputs": [],
   "source": [
    "# plot(prob.trajectory; comps=[:a, :da, :dda])\n",
    "f = Figure(resolution=(800, 600))\n",
    "ax1 = Axis(f[1, 1])\n",
    "ax2 = Axis(f[2, 1])\n",
    "ax3 = Axis(f[3, 1])\n",
    "ts = accumulate(+, timesteps(rob_prob_2.trajectory))\n",
    "as = rob_prob_2.trajectory[:a]\n",
    "das = rob_prob_2.trajectory[:da]\n",
    "ddas = rob_prob_2.trajectory[:dda]\n",
    "colors = [:red, :green, :blue, :orange, :purple, :yellow, :black]\n",
    "\n",
    "for i in 1:size(as, 1)\n",
    "    lines!(ax1, ts, as[i, :]; color=colors[i])\n",
    "    lines!(ax2, ts, das[i, :]; color=colors[i])\n",
    "    lines!(ax3, ts, ddas[i, :]; color=colors[i])\n",
    "end\n",
    "f\n"
   ]
  },
  {
   "cell_type": "code",
   "execution_count": null,
   "metadata": {},
   "outputs": [],
   "source": []
  }
 ],
 "metadata": {
  "kernelspec": {
   "display_name": "Julia 1.9.3",
   "language": "julia",
   "name": "julia-1.9"
  },
  "language_info": {
   "file_extension": ".jl",
   "mimetype": "application/julia",
   "name": "julia",
   "version": "1.9.3"
  }
 },
 "nbformat": 4,
 "nbformat_minor": 2
}
