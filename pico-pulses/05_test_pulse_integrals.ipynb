{
 "cells": [
  {
   "cell_type": "code",
   "execution_count": null,
   "metadata": {},
   "outputs": [],
   "source": [
    "using QuantumCollocation\n",
    "using NamedTrajectories\n",
    "using TrajectoryIndexingUtils\n",
    "\n",
    "using CairoMakie\n",
    "using Colors\n",
    "using DelimitedFiles\n",
    "using Distributions\n",
    "using LinearAlgebra\n",
    "using NPZ"
   ]
  },
  {
   "cell_type": "code",
   "execution_count": null,
   "metadata": {},
   "outputs": [],
   "source": [
    "traj = load_traj(\"saved-pulses-2023-12-13/single_qubit_gateset_R1e-3.jld2\");"
   ]
  },
  {
   "cell_type": "code",
   "execution_count": null,
   "metadata": {},
   "outputs": [],
   "source": [
    "function trapezoid_rule(y, dx)\n",
    "    return dx * (sum(y) + 0.5 * (y[1] + y[end]))\n",
    "end\n",
    "\n",
    "# Notice that we are \"off\" by a factor of π (this is be design)\n",
    "println(abs(1 - trapezoid_rule(traj[:a][1, :], 0.2) / (π  + π / 2)))\n",
    "\n",
    "# Because we made orthogonal pulses at different amplitudes in the initial condition\n",
    "println(abs(1 - trapezoid_rule(traj[:a][2, :], 0.2) / (π / 2)))\n",
    "\n",
    "# This extra factor of π holds for both gates\n",
    "println(abs(1 - trapezoid_rule(traj[:a][3, :], 0.2) / (π  + π / 4)))\n",
    "\n",
    "# After the correction, discrepancies are about the same order of magnitude\n",
    "println(abs(1 - trapezoid_rule(traj[:a][4, :], 0.2) / (π / 4)))\n"
   ]
  },
  {
   "cell_type": "code",
   "execution_count": null,
   "metadata": {},
   "outputs": [],
   "source": [
    "# Operators \n",
    "const n_levels = 2\n",
    "at = create(n_levels)\n",
    "a = annihilate(n_levels)\n",
    "\n",
    "H_operators = Dict(\n",
    "        \"X\" => a + at,\n",
    "        \"Y\" => -im * (a - at),\n",
    "        \"Z\" => I - 2 * at * a,\n",
    ")\n",
    "\n",
    "# Time\n",
    "T = 50\n",
    "Δt = 2/9\n",
    "IBM_Δt = 2/9\n",
    "\n",
    "qubit = QuantumSystem(zeros(2, 2), [H_operators[\"X\"]])\n",
    ";"
   ]
  },
  {
   "cell_type": "code",
   "execution_count": null,
   "metadata": {},
   "outputs": [],
   "source": [
    "gᵢ = 1\n",
    "\n",
    "IBM_Ũ⃗s = unitary_rollout(traj[:a][gᵢ:gᵢ, 1:end], IBM_Δt, qubit)\n",
    "IBM_Us = [iso_vec_to_operator(U) for U ∈ eachcol(IBM_Ũ⃗s)]\n",
    "\n",
    "Ũ⃗s = unitary_rollout(traj[:a][gᵢ:gᵢ, 1:end], Δt, qubit)\n",
    "Us = [iso_vec_to_operator(U) for U ∈ eachcol(Ũ⃗s)]\n",
    "size(Ũ⃗s)"
   ]
  },
  {
   "cell_type": "code",
   "execution_count": null,
   "metadata": {},
   "outputs": [],
   "source": [
    "# Load python array\n",
    "py_Us = npzread(\"../notebooks/qiskit_custom_sim_$(gᵢ-1).npy\")\n",
    "py_Ũ⃗s = hcat([operator_to_iso_vec(U) for U ∈ eachslice(py_Us, dims=1)]...)\n",
    "size(py_Ũ⃗s)"
   ]
  },
  {
   "cell_type": "code",
   "execution_count": null,
   "metadata": {},
   "outputs": [],
   "source": [
    "fig = Figure(resolution=(500, 300))\n",
    "ax = Axis(fig[1, 1])\n",
    "colors = distinguishable_colors(8)\n",
    "for row in 1:8\n",
    "    lines!(ax, py_Ũ⃗s[row, :], color=colors[row])\n",
    "    # lines!(ax, Ũ⃗s[row, :], color=colors[row], linestyle=:dash)\n",
    "    lines!(ax, IBM_Ũ⃗s[row, :], color=colors[row], linestyle=:dashdot)\n",
    "end\n",
    "fig"
   ]
  },
  {
   "cell_type": "markdown",
   "metadata": {},
   "source": [
    "We could fix this discrepancy with ILC.\n",
    "\n",
    "The numerical integration is not the same in Qiskit. Why do they use a continuous integration strategy for a PWC control pulse?"
   ]
  },
  {
   "cell_type": "code",
   "execution_count": null,
   "metadata": {},
   "outputs": [],
   "source": []
  }
 ],
 "metadata": {
  "kernelspec": {
   "display_name": "Julia 1.9.3",
   "language": "julia",
   "name": "julia-1.9"
  },
  "language_info": {
   "file_extension": ".jl",
   "mimetype": "application/julia",
   "name": "julia",
   "version": "1.9.3"
  }
 },
 "nbformat": 4,
 "nbformat_minor": 2
}
