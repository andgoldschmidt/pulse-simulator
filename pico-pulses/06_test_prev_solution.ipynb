{
 "cells": [
  {
   "cell_type": "code",
   "execution_count": null,
   "metadata": {},
   "outputs": [],
   "source": [
    "using QuantumCollocation\n",
    "using NamedTrajectories\n",
    "using TrajectoryIndexingUtils\n",
    "\n",
    "using CairoMakie\n",
    "using DelimitedFiles\n",
    "using Distributions\n",
    "using LinearAlgebra"
   ]
  },
  {
   "cell_type": "code",
   "execution_count": null,
   "metadata": {},
   "outputs": [],
   "source": [
    "show_matrix(A) = show(stdout, \"text/plain\", A)"
   ]
  },
  {
   "cell_type": "code",
   "execution_count": null,
   "metadata": {},
   "outputs": [],
   "source": [
    "# Check previous solutions"
   ]
  },
  {
   "cell_type": "code",
   "execution_count": null,
   "metadata": {},
   "outputs": [],
   "source": [
    "# Operators \n",
    "const n_levels = 2\n",
    "at = create(n_levels)\n",
    "a = annihilate(n_levels)\n",
    "\n",
    "H_operators = Dict(\n",
    "        \"X\" => a + at,\n",
    "        \"Y\" => -im * (a - at),\n",
    "        \"Z\" => I - 2 * at * a,\n",
    ")\n",
    "\n",
    "# Time\n",
    "T = 50\n",
    "# Δt = 0.2\n",
    "Δt = 2/9\n",
    "\n",
    "# Crosstalk sweep\n",
    "ζs = range(0, 0.1, length=51)\n",
    ";"
   ]
  },
  {
   "cell_type": "code",
   "execution_count": null,
   "metadata": {},
   "outputs": [],
   "source": [
    "default = load_traj(\"saved-pulses-2023-12-13/single_qubit_gateset_default.jld2\")\n",
    "solution = load_traj(\"saved-pulses-2023-12-13/single_qubit_gateset_R1e-3.jld2\")"
   ]
  },
  {
   "cell_type": "code",
   "execution_count": null,
   "metadata": {},
   "outputs": [],
   "source": [
    "fig = Figure()\n",
    "ts = accumulate(+, timesteps(default))\n",
    "ax1 = Axis(fig[1,1], xlabel = \"Time\", ylabel = \"Control amplitude\")\n",
    "ax2 = Axis(fig[1,2], xlabel = \"Time\", ylabel = \"Control amplitude\")\n",
    "for row in eachrow(default[:a])\n",
    "    lines!(ax1, ts, row)\n",
    "end\n",
    "for row in eachrow(solution[:a])\n",
    "    lines!(ax2, ts, row)\n",
    "end\n",
    "fig"
   ]
  },
  {
   "cell_type": "code",
   "execution_count": null,
   "metadata": {},
   "outputs": [],
   "source": [
    "H_drift = zeros(n_levels^2, n_levels^2)\n",
    "H_crosstalk = kron_from_dict(\"ZZ\", H_operators)\n",
    "H_controls = [\n",
    "    kron_from_dict(\"XI\", H_operators),\n",
    "    kron_from_dict(\"IX\", H_operators),\n",
    "]\n",
    "sys = QuantumSystem(H_drift, H_controls)\n",
    "sys_xtalk_fn(s) = QuantumSystem(H_drift + s * H_crosstalk, H_controls)\n",
    ";"
   ]
  },
  {
   "cell_type": "code",
   "execution_count": null,
   "metadata": {},
   "outputs": [],
   "source": [
    "# uf = iso_vec_to_operator(unitary_rollout(u0, default[:a][1:2, :], Δt, sys)[:, end])\n",
    "# uf = iso_vec_to_operator(unitary_rollout(u0, solution[:a][1:2, :], Δt, sys)[:, end])\n",
    "# uf = iso_vec_to_operator(unitary_rollout(u0, solution[:a][1:2, :], Δt, sys_xtalk)[:, end])\n",
    "# uf = iso_vec_to_operator(unitary_rollout(u0, default[:a][1:2, :], Δt, sys_xtalk)[:, end])"
   ]
  },
  {
   "cell_type": "code",
   "execution_count": null,
   "metadata": {},
   "outputs": [],
   "source": [
    "function my_fn(controls, system, target)\n",
    "    u0 = operator_to_iso_vec(kron_from_dict(\"II\", H_operators))\n",
    "    Uf = iso_vec_to_operator(unitary_rollout(u0, controls, Δt, system)[:, end])\n",
    "    return 1 - unitary_fidelity(Uf, target)\n",
    "end"
   ]
  },
  {
   "cell_type": "code",
   "execution_count": null,
   "metadata": {},
   "outputs": [],
   "source": [
    "target = GATES[:X] ⊗ GATES[:X]\n",
    "\n",
    "def_xtalk_res = [my_fn(default[:a][1:2, :], sys_xtalk_fn(s), target) for s in ζs]\n",
    "sol_xtalk_res = [my_fn(solution[:a][1:2, :], sys_xtalk_fn(s), target) for s in ζs]\n",
    "\n",
    "fig = Figure()\n",
    "ax = Axis(fig[1,1], yscale=log10, xlabel = \"Crosstalk strength\", ylabel = \"Fidelity\")\n",
    "l1 = lines!(ax, ζs, def_xtalk_res, color = :blue)\n",
    "l2 = lines!(ax, ζs, sol_xtalk_res, color = :red, label = \"Solution\")\n",
    "Legend(fig[1,2], [l1, l2], [\"Default\", \"Solution\"])\n",
    "fig"
   ]
  },
  {
   "cell_type": "code",
   "execution_count": null,
   "metadata": {},
   "outputs": [],
   "source": [
    "target = GATES[:X] ⊗ sqrt(GATES[:X])\n",
    "\n",
    "def_xtalk_res = [my_fn(default[:a][[1,3], :], sys_xtalk_fn(s), target) for s in ζs]\n",
    "sol_xtalk_res = [my_fn(solution[:a][[1,3], :], sys_xtalk_fn(s), target) for s in ζs]\n",
    "\n",
    "fig = Figure()\n",
    "ax = Axis(fig[1,1], yscale=log10, xlabel = \"Crosstalk strength\", ylabel = \"Fidelity\")\n",
    "l1 = lines!(ax, ζs, def_xtalk_res, color = :blue)\n",
    "l2 = lines!(ax, ζs, sol_xtalk_res, color = :red, label = \"Solution\")\n",
    "Legend(fig[1,2], [l1, l2], [\"Default\", \"Solution\"])\n",
    "fig"
   ]
  },
  {
   "cell_type": "code",
   "execution_count": null,
   "metadata": {},
   "outputs": [],
   "source": [
    "target = GATES[:X] ⊗ sqrt(GATES[:X])\n",
    "\n",
    "def_xtalk_res = [my_fn(default[:a][[2,4], :], sys_xtalk_fn(s), target) for s in ζs]\n",
    "sol_xtalk_res = [my_fn(solution[:a][[2,4], :], sys_xtalk_fn(s), target) for s in ζs]\n",
    "\n",
    "fig = Figure()\n",
    "ax = Axis(fig[1,1], yscale=log10, xlabel = \"Crosstalk strength\", ylabel = \"Fidelity\")\n",
    "l1 = lines!(ax, ζs, def_xtalk_res, color = :blue)\n",
    "l2 = lines!(ax, ζs, sol_xtalk_res, color = :red, label = \"Solution\")\n",
    "Legend(fig[1,2], [l1, l2], [\"Default\", \"Solution\"])\n",
    "fig"
   ]
  },
  {
   "cell_type": "code",
   "execution_count": null,
   "metadata": {},
   "outputs": [],
   "source": [
    "target = GATES[:X] ⊗ sqrt(GATES[:X])\n",
    "\n",
    "def_xtalk_res = [my_fn(default[:a][[1,4], :], sys_xtalk_fn(s), target) for s in ζs]\n",
    "sol_xtalk_res = [my_fn(solution[:a][[1,4], :], sys_xtalk_fn(s), target) for s in ζs]\n",
    "\n",
    "fig = Figure()\n",
    "ax = Axis(fig[1,1], yscale=log10, xlabel = \"Crosstalk strength\", ylabel = \"Fidelity\")\n",
    "l1 = lines!(ax, ζs, def_xtalk_res, color = :blue)\n",
    "l2 = lines!(ax, ζs, sol_xtalk_res, color = :red, label = \"Solution\")\n",
    "Legend(fig[1,2], [l1, l2], [\"Default\", \"Solution\"])\n",
    "fig"
   ]
  },
  {
   "cell_type": "code",
   "execution_count": null,
   "metadata": {},
   "outputs": [],
   "source": [
    "target = sqrt(GATES[:X]) ⊗ sqrt(GATES[:X])\n",
    "\n",
    "def_xtalk_res = [my_fn(default[:a][[3,4], :], sys_xtalk_fn(s), target) for s in ζs]\n",
    "sol_xtalk_res = [my_fn(solution[:a][[3,4], :], sys_xtalk_fn(s), target) for s in ζs]\n",
    "\n",
    "fig = Figure()\n",
    "ax = Axis(fig[1,1], yscale=log10, xlabel = \"Crosstalk strength\", ylabel = \"Fidelity\")\n",
    "l1 = lines!(ax, ζs, def_xtalk_res, color = :blue)\n",
    "l2 = lines!(ax, ζs, sol_xtalk_res, color = :red, label = \"Solution\")\n",
    "Legend(fig[1,2], [l1, l2], [\"Default\", \"Solution\"])\n",
    "fig"
   ]
  },
  {
   "cell_type": "markdown",
   "metadata": {},
   "source": [
    "# ECR gate"
   ]
  },
  {
   "cell_type": "code",
   "execution_count": null,
   "metadata": {},
   "outputs": [],
   "source": [
    "ZX = kron_from_dict(\"ZX\", H_operators)\n",
    "XZ = kron_from_dict(\"XZ\", H_operators)\n",
    "XI = kron_from_dict(\"XI\", H_operators)\n",
    "IX = kron_from_dict(\"IX\", H_operators)\n",
    "XY = kron_from_dict(\"XY\", H_operators)\n",
    "YX = kron_from_dict(\"YX\", H_operators)"
   ]
  },
  {
   "cell_type": "code",
   "execution_count": null,
   "metadata": {},
   "outputs": [],
   "source": [
    "R = im * √2 * exp(im * π/8 * XZ) * exp(-im * π/2 * IX) * exp(-im * π/8 * XZ) #* exp(-im * π/2 * XI)\n",
    "show_matrix(round.(R, digits=4))"
   ]
  },
  {
   "cell_type": "code",
   "execution_count": null,
   "metadata": {},
   "outputs": [],
   "source": [
    "show_matrix(IX - XY)"
   ]
  },
  {
   "cell_type": "markdown",
   "metadata": {},
   "source": [
    "Careful on ordering in Qiskit."
   ]
  },
  {
   "cell_type": "code",
   "execution_count": null,
   "metadata": {},
   "outputs": [],
   "source": [
    "R = im * √2 * exp(im * π/8 * ZX) * exp(-im * π/2 * XI) * exp(-im * π/8 * ZX) #* exp(-im * π/2 * XI)\n",
    "show_matrix(round.(R, digits=4))"
   ]
  },
  {
   "cell_type": "code",
   "execution_count": null,
   "metadata": {},
   "outputs": [],
   "source": [
    "show_matrix(XI - YX)"
   ]
  },
  {
   "cell_type": "code",
   "execution_count": null,
   "metadata": {},
   "outputs": [],
   "source": []
  }
 ],
 "metadata": {
  "kernelspec": {
   "display_name": "Julia 1.9.4",
   "language": "julia",
   "name": "julia-1.9"
  },
  "language_info": {
   "file_extension": ".jl",
   "mimetype": "application/julia",
   "name": "julia",
   "version": "1.9.4"
  }
 },
 "nbformat": 4,
 "nbformat_minor": 2
}
