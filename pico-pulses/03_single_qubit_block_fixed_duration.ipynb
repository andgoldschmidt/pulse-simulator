{
 "cells": [
  {
   "cell_type": "code",
   "execution_count": null,
   "metadata": {},
   "outputs": [],
   "source": [
    "using QuantumCollocation\n",
    "using NamedTrajectories\n",
    "using TrajectoryIndexingUtils\n",
    "\n",
    "using CairoMakie\n",
    "using Distributions\n",
    "using LinearAlgebra"
   ]
  },
  {
   "cell_type": "code",
   "execution_count": null,
   "metadata": {},
   "outputs": [],
   "source": [
    "# Operators \n",
    "const n_levels = 2\n",
    "at = create(n_levels)\n",
    "a = annihilate(n_levels)\n",
    "\n",
    "H_operators = Dict(\n",
    "        \"X\" => a + at,\n",
    "        \"Y\" => -im * (a - at),\n",
    "        \"Z\" => I - 2 * at * a,\n",
    ")\n",
    "\n",
    "# Time\n",
    "T = 50\n",
    "Δt = 0.2\n",
    ";"
   ]
  },
  {
   "cell_type": "code",
   "execution_count": null,
   "metadata": {},
   "outputs": [],
   "source": [
    "H_drift = zeros(n_levels^4, n_levels^4)\n",
    "H_controls = [\n",
    "    kron_from_dict(\"XIII\", H_operators),\n",
    "    kron_from_dict(\"IXII\", H_operators),\n",
    "    kron_from_dict(\"IIXI\", H_operators),\n",
    "    kron_from_dict(\"IIIX\", H_operators),\n",
    "    # kron_from_dict(\"YIII\", H_operators),\n",
    "    # kron_from_dict(\"IYII\", H_operators),\n",
    "    # kron_from_dict(\"IIYI\", H_operators),\n",
    "    # kron_from_dict(\"IIIY\", H_operators)\n",
    "]\n",
    "\n",
    "X_gate = GATES[:X]\n",
    "SX_gate = sqrt(GATES[:X])\n",
    "U_goal = reduce(kron, [X_gate, X_gate, SX_gate, SX_gate])\n",
    ";"
   ]
  },
  {
   "cell_type": "code",
   "execution_count": null,
   "metadata": {},
   "outputs": [],
   "source": [
    "prob = UnitarySmoothPulseProblem(\n",
    "    H_drift,\n",
    "    H_controls,\n",
    "    U_goal,\n",
    "    T,\n",
    "    Δt;\n",
    "    timesteps_all_equal=true,\n",
    "    free_time=false,\n",
    "    hessian_approximation=true,\n",
    "    pade_order=10,\n",
    "    R=10.,\n",
    "    R_dda=5.,\n",
    ")"
   ]
  },
  {
   "cell_type": "code",
   "execution_count": null,
   "metadata": {},
   "outputs": [],
   "source": [
    "solve!(prob; max_iter=75)\n",
    "\n",
    "unitary_fidelity(prob)"
   ]
  },
  {
   "cell_type": "code",
   "execution_count": null,
   "metadata": {},
   "outputs": [],
   "source": [
    "function plot_control(prob::QuantumControlProblem)\n",
    "    # plot(prob.trajectory; comps=[:a, :da, :dda])\n",
    "    f = Figure(resolution=(800, 600))\n",
    "    ax1 = Axis(f[1, 1])\n",
    "    ax2 = Axis(f[2, 1])\n",
    "    ax3 = Axis(f[3, 1])\n",
    "    ts = accumulate(+, timesteps(prob.trajectory))\n",
    "    as = prob.trajectory[:a]\n",
    "    das = prob.trajectory[:da]\n",
    "    ddas = prob.trajectory[:dda]\n",
    "    colors = [:red, :green, :blue, :orange, :purple, :yellow, :black]\n",
    "\n",
    "    for i in 1:size(as, 1)\n",
    "        lines!(ax1, ts, as[i, :]; color=colors[i])\n",
    "        lines!(ax2, ts, das[i, :]; color=colors[i])\n",
    "        lines!(ax3, ts, ddas[i, :]; color=colors[i])\n",
    "    end\n",
    "    return f\n",
    "end\n"
   ]
  },
  {
   "cell_type": "code",
   "execution_count": null,
   "metadata": {},
   "outputs": [],
   "source": [
    "plot_control(prob)"
   ]
  },
  {
   "cell_type": "code",
   "execution_count": null,
   "metadata": {},
   "outputs": [],
   "source": [
    "function random_a_guess(traj::NamedTrajectory)\n",
    "    # Positive (symmetric) upper bounds\n",
    "    a_bounds = traj.bounds[:a][2]\n",
    "\n",
    "    a_dists = [Uniform(\n",
    "        -(a_bounds[i] == Inf ? 1.0 : a_bounds[i]),\n",
    "        (a_bounds[i] == Inf ? 1.0 : a_bounds[i])\n",
    "    ) for i = 1:traj.dims[:a]]\n",
    "\n",
    "    a = hcat([\n",
    "        zeros(traj.dims[:a]),\n",
    "        vcat([rand(a_dists[i], 1, T - 2) for i = 1:traj.dims[:a]]...),\n",
    "        zeros(traj.dims[:a])\n",
    "    ]...)\n",
    "    return a\n",
    "end"
   ]
  },
  {
   "cell_type": "code",
   "execution_count": null,
   "metadata": {},
   "outputs": [],
   "source": [
    "@views function infidelity_robustness(Hₑ::AbstractMatrix, p::QuantumControlProblem)\n",
    "    Z⃗ = vec(p.trajectory.data)\n",
    "    Z = p.trajectory\n",
    "    return InfidelityRobustnessObjective(Hₑ, Z).L(Z⃗, Z)\n",
    "end"
   ]
  },
  {
   "cell_type": "code",
   "execution_count": null,
   "metadata": {},
   "outputs": [],
   "source": [
    "H_crosstalk = (\n",
    "    kron_from_dict(\"ZZII\", H_operators)\n",
    "    + kron_from_dict(\"IZZI\", H_operators)\n",
    "    + kron_from_dict(\"IIZZ\", H_operators)\n",
    "    + kron_from_dict(\"ZIIZ\", H_operators)\n",
    "    + kron_from_dict(\"ZIII\", H_operators)\n",
    "    + kron_from_dict(\"IZII\", H_operators)\n",
    "    + kron_from_dict(\"IIZI\", H_operators)\n",
    "    + kron_from_dict(\"IIIZ\", H_operators)\n",
    ")\n",
    "\n",
    "trajectory = copy(prob.trajectory)\n",
    "# Need random initial conditions to avoid local minima\n",
    "update!(trajectory, :a, random_a_guess(trajectory))\n",
    "update!(trajectory, :Ũ⃗, 2 * rand(trajectory.dims[:Ũ⃗], T) .- 1)\n",
    "parameters = deepcopy(prob.params)\n",
    "\n",
    "objective = DefaultObjective()\n",
    "objective += Objective(parameters[:objective_terms][1])\n",
    "objective += QuadraticRegularizer(:dda, prob.trajectory, 1e-3)\n",
    "objective += QuadraticRegularizer(:a, prob.trajectory, 1e-6)\n",
    "\n",
    "update_bound!(trajectory, :a, 1.0)\n",
    "constraints = trajectory_constraints(trajectory)\n",
    "\n",
    "ipopt_options = Options()\n",
    "ipopt_options.hessian_approximation = \"limited-memory\"\n",
    "\n",
    "rob_prob_1 = UnitaryRobustnessProblem(\n",
    "    H_crosstalk,\n",
    "    trajectory,\n",
    "    prob.system,\n",
    "    objective,\n",
    "    prob.integrators,\n",
    "    constraints;\n",
    "    final_fidelity=0.99, \n",
    "    verbose=false,\n",
    "    build_trajectory_constraints=false,\n",
    "    hessian_approximation=true,\n",
    "    ipopt_options=ipopt_options\n",
    ")"
   ]
  },
  {
   "cell_type": "code",
   "execution_count": null,
   "metadata": {},
   "outputs": [],
   "source": [
    "solve!(rob_prob_1; max_iter=25)\n",
    "\n",
    "(i -> println(\"Fidelity $i\"))(unitary_fidelity(rob_prob_1))\n",
    "(i -> println(\"Robustness $i\"))(infidelity_robustness(H_crosstalk, rob_prob_1))"
   ]
  },
  {
   "cell_type": "code",
   "execution_count": null,
   "metadata": {},
   "outputs": [],
   "source": [
    "plot_control(rob_prob_1)"
   ]
  },
  {
   "cell_type": "markdown",
   "metadata": {},
   "source": [
    "TODO: Write a utility that resets the named trajectory to random values. Use the current fields like bounds and goal to accomplish this."
   ]
  },
  {
   "cell_type": "markdown",
   "metadata": {},
   "source": [
    "TODO: Include the ability of objectives to be multiplied by floats."
   ]
  },
  {
   "cell_type": "code",
   "execution_count": null,
   "metadata": {},
   "outputs": [],
   "source": [
    "trajectory = copy(rob_prob_1.trajectory)\n",
    "# Need random initial conditions to avoid local minima\n",
    "# update!(trajectory, :a, random_a_guess(trajectory))\n",
    "# update!(trajectory, :Ũ⃗, 2 * rand(trajectory.dims[:Ũ⃗], T) .- 1)\n",
    "parameters = deepcopy(prob.params)\n",
    "\n",
    "objective = DefaultObjective()\n",
    "# objective += Objective(parameters[:objective_terms][1])\n",
    "objective += QuadraticRegularizer(:dda, prob.trajectory, 1e-5)\n",
    "objective += QuadraticRegularizer(:a, prob.trajectory, 1e-3)\n",
    "\n",
    "update_bound!(trajectory, :a, Inf)\n",
    "constraints = trajectory_constraints(trajectory)\n",
    "\n",
    "ipopt_options = Options()\n",
    "ipopt_options.hessian_approximation = \"limited-memory\"\n",
    "\n",
    "rob_prob_2 = UnitaryRobustnessProblem(\n",
    "    H_crosstalk,\n",
    "    trajectory,\n",
    "    prob.system,\n",
    "    objective,\n",
    "    prob.integrators,\n",
    "    constraints;\n",
    "    final_fidelity=0.99,\n",
    "    verbose=false,\n",
    "    build_trajectory_constraints=false,\n",
    "    hessian_approximation=true,\n",
    "    ipopt_options=ipopt_options\n",
    ")"
   ]
  },
  {
   "cell_type": "code",
   "execution_count": null,
   "metadata": {},
   "outputs": [],
   "source": [
    "solve!(rob_prob_2; max_iter=25)\n",
    "\n",
    "(i -> println(\"Fidelity $i\"))(unitary_fidelity(rob_prob_2))\n",
    "(i -> println(\"Robustness $i\"))(infidelity_robustness(H_crosstalk, rob_prob_2))"
   ]
  },
  {
   "cell_type": "code",
   "execution_count": null,
   "metadata": {},
   "outputs": [],
   "source": [
    "plot_control(rob_prob_2)"
   ]
  },
  {
   "cell_type": "code",
   "execution_count": null,
   "metadata": {},
   "outputs": [],
   "source": []
  }
 ],
 "metadata": {
  "kernelspec": {
   "display_name": "Julia 1.9.3",
   "language": "julia",
   "name": "julia-1.9"
  },
  "language_info": {
   "file_extension": ".jl",
   "mimetype": "application/julia",
   "name": "julia",
   "version": "1.9.3"
  }
 },
 "nbformat": 4,
 "nbformat_minor": 2
}
