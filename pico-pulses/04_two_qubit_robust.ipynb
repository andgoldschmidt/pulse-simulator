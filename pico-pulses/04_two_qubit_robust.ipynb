{
 "cells": [
  {
   "cell_type": "markdown",
   "metadata": {},
   "source": [
    "# Outline\n",
    "\n",
    "## Direct CNOT\n",
    "\n",
    "The direct CNOT can be obtained using the Hamiltonian from Schrieffer-Wolff perturbation theory. \n",
    "\\begin{equation}\n",
    "    H = \\Omega_C(t) (g_{IX} IX + g_{ZX} ZX)\n",
    "\\end{equation}\n",
    "We remark two things: \n",
    "1. The control qubit operators commute with Z, while the target qubit operators do not.\n",
    "2. The relative strength of the coefficients depends on the pair of qubits involved. The unitary trajectory of the gate, and therefore the relative crosstalk contribution, will vary slightly.\n",
    "\n",
    "### Remark 1\n",
    "\n",
    "Paying attention to the fact that the control commutes with Z but the target does not, we draw a few additional conclusions. If we are robust to $IZ$ within the gate, then we are in fact robust to $ZZ$. Loosely speaking,\n",
    "\\begin{equation}\n",
    "    U^\\dag(t) Z_C Z_T U(t) = U^\\dag(t) I_C Z_T U(t) U^\\dag(t) Z_C I_T U(t) = U^\\dag(t) I_C Z_T U(t) Z_C I_T\n",
    "\\end{equation}\n",
    "and only the target term contributes.\n",
    "\n",
    "The control crosstalk remains unless we use an additional drive to cancel it. We can drive an identity gate on the \n",
    "\n",
    "### Remark 2\n",
    "\n",
    "We can make point 2 clearer if we absorb one of the coefficients into the control drive. Then,\n",
    "\\begin{equation}\n",
    "    H = \\widetilde{\\Omega}_C(t) (IX + \\mu ZX).\n",
    "\\end{equation}\n",
    "\n",
    "Of course, we can also drive on the target, so\n",
    "\\begin{equation}\n",
    "    H = \\widetilde{\\Omega}_C(t) (IX + \\mu ZX) + \\Omega_T(t) IX.\n",
    "\\end{equation}\n",
    "Now we have relative control over the IX rate, so we could optimize for the same unitary dynamics for any gate. The pulse shapes will be different, but the robustness behavior will be what we want.\n",
    "\n",
    "\n",
    "## Echo CR\n",
    "\n",
    "Many of the previous insight carry over. Suppose we have the following Hilbert space:\n",
    "\\begin{equation}\n",
    "CS \\leftrightarrow C \\leftrightarrow T \\leftrightarrow TS.\n",
    "\\end{equation}\n",
    "The Echo CR is a gate sequence in the control-target subspace given by $XI \\circ R_{ZX}(-\\frac{\\pi}{4}) \\circ XI \\circ R_{ZX}(\\frac{\\pi}{4})$,\n",
    "up to Z rotations on the control or target qubits. Technically, $R_{ZX}$ is a more complicated interaction with other two qubit Hamiltonian terms.\n",
    "\n",
    "We are focused on ZZ crosstalk. The IZZI crosstalk within the $(C,T)$ subspace vanishes due to the pair of IXII gates. This happens independent of the value of $R_{ZX}(\\phi)$.  As such, the ZZII crosstalk in the $(CS, C)$ subspace also vanishes. What remains is the IIZZ crosstalk present in $(T,TS)$. However, we can design the IZXI interaction to account for this crosstalk, and coordinate the ZX and XI pulses to preserve the cancellation of the IZZI crosstalk (if this is even necessary--perhaps we just make the $R_{ZX}(\\phi)$ robust and utilize our robust $X$ gates to prevent $ZZ$ accumulation at each step, separately.\n",
    "\n",
    "## Generalzing the echo\n",
    "Notice that we can perform the echo CR optimization in a direct CNOT, also. Alternatively, we can apply DD on all target-specator qubits that are not involved in another two qubit gate. (recall that two Echo CR gates might be applied next to each other, $(C_1, T_1, C_2, T_2)$.\n"
   ]
  },
  {
   "cell_type": "code",
   "execution_count": null,
   "metadata": {},
   "outputs": [],
   "source": [
    "using QuantumCollocation\n",
    "using NamedTrajectories\n",
    "using TrajectoryIndexingUtils\n",
    "\n",
    "using CairoMakie\n",
    "using DelimitedFiles\n",
    "using Distributions\n",
    "using LinearAlgebra"
   ]
  },
  {
   "cell_type": "code",
   "execution_count": null,
   "metadata": {},
   "outputs": [],
   "source": [
    "# Operators \n",
    "const n_levels = 2\n",
    "at = create(n_levels)\n",
    "a = annihilate(n_levels)\n",
    "\n",
    "H_operators = Dict(\n",
    "        \"X\" => a + at,\n",
    "        \"Y\" => -im * (a - at),\n",
    "        \"Z\" => I - 2 * at * a,\n",
    ")\n",
    "\n",
    "single_system = QuantumSystem(zeros(2, 2), [H_operators[\"X\"]])"
   ]
  },
  {
   "cell_type": "code",
   "execution_count": null,
   "metadata": {},
   "outputs": [],
   "source": [
    "## One qubit rotation"
   ]
  },
  {
   "cell_type": "code",
   "execution_count": null,
   "metadata": {},
   "outputs": [],
   "source": [
    "# Load up the single qubit X gate.\n",
    "# [X, X, SX, SX]\n",
    "single_robust = load_traj(\"saved-pulses-2023-12-13/single_qubit_gateset_R1e-3.jld2\");\n",
    "single_default = load_traj(\"saved-pulses-2023-12-13/single_qubit_gateset_default.jld2\");\n",
    "\n",
    "fig = Figure(resolution = (800, 600))\n",
    "axes = [Axis(fig[1, 1], title=\"Default\", xlabel=\"Time (ns)\", ylabel=\"Amplitude (MHz)\"),\n",
    "        Axis(fig[1, 2], title=\"Robust\", xlabel=\"Time (ns)\", ylabel=\"Amplitude (MHz)\")]\n",
    "data = [single_default[:a], single_robust[:a]]\n",
    "four_colors = [:red, :blue, :green, :orange]\n",
    "for (controls, ax) in zip(data, axes)\n",
    "    for (i, row) in enumerate(eachrow(controls))\n",
    "        lines!(ax, row, color = four_colors[i], linewidth = 2, linestyle = :solid)\n",
    "    end\n",
    "end\n",
    "fig"
   ]
  },
  {
   "cell_type": "code",
   "execution_count": null,
   "metadata": {},
   "outputs": [],
   "source": [
    "function rollout_final(controls, system, Δt=2/9)\n",
    "    return iso_vec_to_operator(unitary_rollout(controls, Δt, system)[:,end])\n",
    "end"
   ]
  },
  {
   "cell_type": "code",
   "execution_count": null,
   "metadata": {},
   "outputs": [],
   "source": [
    "rollout_final(single_robust[:a][1:1, :], single_system)"
   ]
  },
  {
   "cell_type": "code",
   "execution_count": null,
   "metadata": {},
   "outputs": [],
   "source": [
    "rollout_final(single_default[:a][1:1, :], single_system)"
   ]
  },
  {
   "cell_type": "markdown",
   "metadata": {},
   "source": [
    "## Two qubit rotation"
   ]
  },
  {
   "cell_type": "code",
   "execution_count": null,
   "metadata": {},
   "outputs": [],
   "source": [
    "H_crosstalk = (\n",
    "    kron_from_dict(\"IZ\", H_operators)\n",
    "    + kron_from_dict(\"ZZ\", H_operators)\n",
    ")\n",
    "\n",
    "@views function infidelity_robustness(Hₑ::AbstractMatrix, p::QuantumControlProblem)\n",
    "    Z⃗ = vec(p.trajectory.data)\n",
    "    Z = p.trajectory\n",
    "    return InfidelityRobustnessObjective(Hₑ, Z).L(Z⃗, Z)\n",
    "end"
   ]
  },
  {
   "cell_type": "markdown",
   "metadata": {},
   "source": [
    "Pretend the units are now in MHz and us.\n",
    "\n",
    "Our rotation gates are approximately 200 ns."
   ]
  },
  {
   "cell_type": "code",
   "execution_count": null,
   "metadata": {},
   "outputs": [],
   "source": [
    "# Time: 92.2 ns π/4 gate\n",
    "# Adjust units by factor of 10 (ns * 10, GHz / 10)\n",
    "T = 84\n",
    "Δt = 1/9\n",
    "println(T * Δt)\n",
    ";\n",
    "\n",
    "H_drift2= zeros(4, 4)\n",
    "H_controls2 = [kron_from_dict(\"ZX\", H_operators)]\n",
    "double_system = QuantumSystem(H_drift2, H_controls2)\n",
    "U_goal = exp(-im * kron_from_dict(\"ZX\", H_operators) * π / 4)\n",
    ";"
   ]
  },
  {
   "cell_type": "code",
   "execution_count": null,
   "metadata": {},
   "outputs": [],
   "source": [
    "a_bound = 0.10\n",
    "\n",
    "prob = UnitarySmoothPulseProblem(\n",
    "    H_drift2,\n",
    "    H_controls2,\n",
    "    U_goal,\n",
    "    T,\n",
    "    Δt;\n",
    "    a_bound=a_bound,\n",
    "    dda_bound=0.1 * a_bound,\n",
    "    a_guess=(π/4/(T * Δt)) * ones((length(H_controls2), T)),\n",
    "    timesteps_all_equal=true,\n",
    "    free_time=true,\n",
    "    hessian_approximation=true,\n",
    "    pade_order=20,\n",
    "    # R_a=1e-9,\n",
    "    # R_da=10.0,\n",
    "    # R_dda=1e5,\n",
    ")"
   ]
  },
  {
   "cell_type": "code",
   "execution_count": null,
   "metadata": {},
   "outputs": [],
   "source": [
    "# Reasonable control coupling is ~1 MHz in frequency units without 2π \n",
    "2 * π * .005 # GHz"
   ]
  },
  {
   "cell_type": "code",
   "execution_count": null,
   "metadata": {},
   "outputs": [],
   "source": [
    "# The value we need to get the rotation we want (in the original GHz units)\n",
    "π/4/(T * Δt)/10"
   ]
  },
  {
   "cell_type": "code",
   "execution_count": null,
   "metadata": {},
   "outputs": [],
   "source": [
    "# Tranlating a_bound to GHz\n",
    "a_bound / 10"
   ]
  },
  {
   "cell_type": "code",
   "execution_count": null,
   "metadata": {},
   "outputs": [],
   "source": [
    "solve!(prob; max_iter=200)\n",
    "\n",
    "println(\"Fidelity: \", unitary_fidelity(prob))\n",
    "println(\"Robustness: \", infidelity_robustness(H_crosstalk, prob))"
   ]
  },
  {
   "cell_type": "code",
   "execution_count": null,
   "metadata": {},
   "outputs": [],
   "source": [
    "plot(prob.trajectory)"
   ]
  },
  {
   "cell_type": "code",
   "execution_count": null,
   "metadata": {},
   "outputs": [],
   "source": [
    "print(\"Max controls: \", maximum(abs.(prob.trajectory[:a])))"
   ]
  },
  {
   "cell_type": "code",
   "execution_count": null,
   "metadata": {},
   "outputs": [],
   "source": [
    "save(\"saved-pulses/two_qubit_default.jld2\", prob.trajectory)\n",
    "writedlm(\"saved-pulses/a_two_qubit_default.csv\", prob.trajectory[:a], \",\")"
   ]
  },
  {
   "cell_type": "markdown",
   "metadata": {},
   "source": [
    "# Robust solve"
   ]
  },
  {
   "cell_type": "code",
   "execution_count": null,
   "metadata": {},
   "outputs": [],
   "source": [
    "function random_a_guess(traj::NamedTrajectory)\n",
    "    # Positive (symmetric) upper bounds\n",
    "    a_bounds = traj.bounds[:a][2]\n",
    "\n",
    "    a_dists = [Uniform(\n",
    "        -(a_bounds[i] == Inf ? 1.0 : a_bounds[i]),\n",
    "        (a_bounds[i] == Inf ? 1.0 : a_bounds[i])\n",
    "    ) for i = 1:traj.dims[:a]]\n",
    "\n",
    "    a = hcat([\n",
    "        zeros(traj.dims[:a]),\n",
    "        vcat([rand(a_dists[i], 1, traj.T - 2) for i = 1:traj.dims[:a]]...),\n",
    "        zeros(traj.dims[:a])\n",
    "    ]...)\n",
    "    return a\n",
    "end"
   ]
  },
  {
   "cell_type": "code",
   "execution_count": null,
   "metadata": {},
   "outputs": [],
   "source": [
    "trajectory = copy(prob.trajectory)\n",
    "parameters = deepcopy(prob.params)\n",
    "update!(trajectory, :a, 0.8 * (trajectory[:a] + 0.2 * random_a_guess(trajectory)))\n",
    "update!(trajectory, :Ũ⃗, 2 * rand(trajectory.dims[:Ũ⃗], T) .- 1)\n",
    "\n",
    "objective = DefaultObjective()\n",
    "objective += Objective(parameters[:objective_terms][1])\n",
    "objective += QuadraticRegularizer(:dda, trajectory, 1e-5)\n",
    "objective += QuadraticRegularizer(:a, trajectory, 1e-6)\n",
    "\n",
    "# Baseline: Robustness is 0.0014\n",
    "# objective += QuadraticRegularizer(:dda, trajectory, 1e-4)\n",
    "# objective += QuadraticRegularizer(:a, trajectory, 1e-4)\n",
    "\n",
    "new_a_bound = 0.5\n",
    "update_bound!(trajectory, :a, new_a_bound)\n",
    "update_bound!(trajectory, :dda, 10 * new_a_bound)\n",
    "constraints = trajectory_constraints(trajectory)\n",
    "\n",
    "ipopt_options = Options()\n",
    "ipopt_options.hessian_approximation = \"limited-memory\"\n",
    "\n",
    "rob_prob = UnitaryRobustnessProblem(\n",
    "    H_crosstalk,\n",
    "    trajectory,\n",
    "    prob.system,\n",
    "    objective,\n",
    "    prob.integrators,\n",
    "    constraints;\n",
    "    final_fidelity=0.9999,\n",
    "    verbose=false,\n",
    "    build_trajectory_constraints=false,\n",
    "    hessian_approximation=true,\n",
    "    ipopt_options=ipopt_options\n",
    ")"
   ]
  },
  {
   "cell_type": "code",
   "execution_count": null,
   "metadata": {},
   "outputs": [],
   "source": [
    "solve!(rob_prob; max_iter=500)\n",
    "\n",
    "println(\"Fidelity: \", unitary_fidelity(rob_prob))\n",
    "println(\"Robustness: \", infidelity_robustness(H_crosstalk, rob_prob))"
   ]
  },
  {
   "cell_type": "code",
   "execution_count": null,
   "metadata": {},
   "outputs": [],
   "source": [
    "print(\"Max controls: \", maximum(abs.(rob_prob.trajectory[:a])))"
   ]
  },
  {
   "cell_type": "code",
   "execution_count": null,
   "metadata": {},
   "outputs": [],
   "source": [
    "plot(rob_prob.trajectory)"
   ]
  },
  {
   "cell_type": "code",
   "execution_count": null,
   "metadata": {},
   "outputs": [],
   "source": [
    "save(\"saved-pulses/two_qubit_robust.jld2\", rob_prob.trajectory)"
   ]
  },
  {
   "cell_type": "code",
   "execution_count": null,
   "metadata": {},
   "outputs": [],
   "source": [
    "writedlm(\"saved-pulses/a_two_qubit_robust.csv\", rob_prob.trajectory[:a], \",\")"
   ]
  },
  {
   "cell_type": "code",
   "execution_count": null,
   "metadata": {},
   "outputs": [],
   "source": [
    "infidelity_robustness(kron_from_dict(\"ZZ\", H_operators), rob_prob)"
   ]
  },
  {
   "cell_type": "code",
   "execution_count": null,
   "metadata": {},
   "outputs": [],
   "source": [
    "println(\"Robust: \", infidelity_robustness(kron_from_dict(\"IZ\", H_operators), rob_prob))\n",
    "println(\"Initial: \", infidelity_robustness(kron_from_dict(\"IZ\", H_operators), prob))"
   ]
  },
  {
   "cell_type": "code",
   "execution_count": null,
   "metadata": {},
   "outputs": [],
   "source": [
    "println(\"Robust: \", infidelity_robustness(kron_from_dict(\"ZZ\", H_operators), rob_prob))\n",
    "println(\"Initial: \", infidelity_robustness(kron_from_dict(\"ZZ\", H_operators), prob))"
   ]
  },
  {
   "cell_type": "code",
   "execution_count": null,
   "metadata": {},
   "outputs": [],
   "source": [
    "println(\"Robust: \", infidelity_robustness(kron_from_dict(\"ZI\", H_operators), rob_prob))\n",
    "println(\"Initial: \", infidelity_robustness(kron_from_dict(\"ZI\", H_operators), prob))"
   ]
  },
  {
   "cell_type": "code",
   "execution_count": null,
   "metadata": {},
   "outputs": [],
   "source": []
  },
  {
   "cell_type": "code",
   "execution_count": null,
   "metadata": {},
   "outputs": [],
   "source": []
  }
 ],
 "metadata": {
  "kernelspec": {
   "display_name": "Julia 1.9.3",
   "language": "julia",
   "name": "julia-1.9"
  },
  "language_info": {
   "file_extension": ".jl",
   "mimetype": "application/julia",
   "name": "julia",
   "version": "1.9.3"
  }
 },
 "nbformat": 4,
 "nbformat_minor": 2
}
