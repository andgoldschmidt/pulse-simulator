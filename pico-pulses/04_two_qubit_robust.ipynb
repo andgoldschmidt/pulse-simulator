{
 "cells": [
  {
   "cell_type": "markdown",
   "metadata": {},
   "source": [
    "# Outline\n",
    "\n",
    "## Direct CNOT\n",
    "\n",
    "The direct CNOT can be obtained using the Hamiltonian from Schrieffer-Wolff perturbation theory. \n",
    "\\begin{equation}\n",
    "    H = \\Omega_C(t) (g_{IX} IX + g_{ZX} ZX)\n",
    "\\end{equation}\n",
    "We remark two things: \n",
    "1. The control qubit operators commute with Z, while the target qubit operators do not.\n",
    "2. The relative strength of the coefficients depends on the pair of qubits involved. The unitary trajectory of the gate, and therefore the relative crosstalk contribution, will vary slightly.\n",
    "\n",
    "### Remark 1\n",
    "\n",
    "Paying attention to the fact that the control commutes with Z but the target does not, we draw a few additional conclusions. If we are robust to $IZ$ within the gate, then we are in fact robust to $ZZ$. Loosely speaking,\n",
    "\\begin{equation}\n",
    "    U^\\dag(t) Z_C Z_T U(t) = U^\\dag(t) I_C Z_T U(t) U^\\dag(t) Z_C I_T U(t) = U^\\dag(t) I_C Z_T U(t) Z_C I_T\n",
    "\\end{equation}\n",
    "and only the target term contributes.\n",
    "\n",
    "The control crosstalk remains unless we use an additional drive to cancel it. We can drive an identity gate on the \n",
    "\n",
    "### Remark 2\n",
    "\n",
    "We can make point 2 clearer if we absorb one of the coefficients into the control drive. Then,\n",
    "\\begin{equation}\n",
    "    H = \\widetilde{\\Omega}_C(t) (IX + \\mu ZX).\n",
    "\\end{equation}\n",
    "\n",
    "Of course, we can also drive on the target, so\n",
    "\\begin{equation}\n",
    "    H = \\widetilde{\\Omega}_C(t) (IX + \\mu ZX) + \\Omega_T(t) IX.\n",
    "\\end{equation}\n",
    "Now we have relative control over the IX rate, so we could optimize for the same unitary dynamics for any gate. The pulse shapes will be different, but the robustness behavior will be what we want.\n",
    "\n",
    "\n",
    "## Echo CR\n",
    "\n",
    "Many of the previous insight carry over.\n",
    "\n",
    "The ZZ crosstalk within the Echo CR vanishes.\n",
    "\n",
    "The ZZ crosstalk of spectators vanishes. Which?"
   ]
  },
  {
   "cell_type": "code",
   "execution_count": null,
   "metadata": {},
   "outputs": [],
   "source": [
    "using QuantumCollocation\n",
    "using NamedTrajectories\n",
    "using TrajectoryIndexingUtils\n",
    "\n",
    "using CairoMakie\n",
    "using DelimitedFiles\n",
    "using Distributions\n",
    "using LinearAlgebra"
   ]
  },
  {
   "cell_type": "code",
   "execution_count": null,
   "metadata": {},
   "outputs": [],
   "source": [
    "H_crosstalk = (\n",
    "    kron_from_dict(\"ZZ\", H_operators),\n",
    "    kron_from_dict(\"IZ\", H_operators),\n",
    "    kron_from_dict(\"ZI\", H_operators),\n",
    ")"
   ]
  },
  {
   "cell_type": "code",
   "execution_count": null,
   "metadata": {},
   "outputs": [],
   "source": []
  }
 ],
 "metadata": {
  "kernelspec": {
   "display_name": "Julia 1.9.3",
   "language": "julia",
   "name": "julia-1.9"
  },
  "language_info": {
   "file_extension": ".jl",
   "mimetype": "application/julia",
   "name": "julia",
   "version": "1.9.3"
  }
 },
 "nbformat": 4,
 "nbformat_minor": 2
}
